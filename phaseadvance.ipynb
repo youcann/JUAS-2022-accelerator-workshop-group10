{
 "cells": [
  {
   "cell_type": "code",
   "execution_count": 11,
   "id": "fb917a56-c8c5-4d8e-b890-99e01e6b56e1",
   "metadata": {},
   "outputs": [],
   "source": [
    "import sympy"
   ]
  },
  {
   "cell_type": "code",
   "execution_count": 29,
   "id": "c8e6ab3b-0114-43ff-bb6c-8307b116ab93",
   "metadata": {},
   "outputs": [],
   "source": [
    "L, u, b1, b2 = symbols('L u b1 b2',real=True)"
   ]
  },
  {
   "cell_type": "code",
   "execution_count": 30,
   "id": "198b9fb5-51dc-4fd0-960a-7e584b68d7c1",
   "metadata": {},
   "outputs": [],
   "source": [
    "b1=L*(1+sympy.sin(u/2))/(sympy.sin(u))\n",
    "b2=L*(1-sympy.sin(u/2))/(sympy.sin(u))"
   ]
  },
  {
   "cell_type": "code",
   "execution_count": 33,
   "id": "fe704c63-5e11-4356-9332-7326309e546c",
   "metadata": {},
   "outputs": [
    {
     "data": {
      "text/latex": [
       "$\\displaystyle \\left\\{2 n \\pi + \\frac{\\pi}{2}\\; \\middle|\\; n \\in \\mathbb{Z}\\right\\} \\cup \\left\\{2 n \\pi + \\frac{3 \\pi}{2}\\; \\middle|\\; n \\in \\mathbb{Z}\\right\\}$"
      ],
      "text/plain": [
       "Union(ImageSet(Lambda(_n, 2*_n*pi + pi/2), Integers), ImageSet(Lambda(_n, 2*_n*pi + 3*pi/2), Integers))"
      ]
     },
     "execution_count": 33,
     "metadata": {},
     "output_type": "execute_result"
    }
   ],
   "source": [
    "solveset(Eq(diff(b1+b2,u),0),u,domain=S.Reals)"
   ]
  },
  {
   "cell_type": "code",
   "execution_count": 35,
   "id": "013bfa59-7fb8-42fb-9c55-15e8bf9795df",
   "metadata": {},
   "outputs": [
    {
     "data": {
      "text/latex": [
       "$\\displaystyle \\left\\{12.5663706143592 n + 4.95070644219456\\; \\middle|\\; n \\in \\mathbb{Z}\\right\\} \\cup \\left\\{12.5663706143592 n + 1.33247886498503\\; \\middle|\\; n \\in \\mathbb{Z}\\right\\}$"
      ],
      "text/plain": [
       "Union(ImageSet(Lambda(_n, 12.5663706143592*_n + 4.95070644219456), Integers), ImageSet(Lambda(_n, 12.5663706143592*_n + 1.33247886498503), Integers))"
      ]
     },
     "execution_count": 35,
     "metadata": {},
     "output_type": "execute_result"
    }
   ],
   "source": [
    "solveset(Eq(diff(b1,u),0),u,domain=S.Reals).evalf()"
   ]
  }
 ],
 "metadata": {
  "kernelspec": {
   "display_name": "Python 3 (ipykernel)",
   "language": "python",
   "name": "python3"
  },
  "language_info": {
   "codemirror_mode": {
    "name": "ipython",
    "version": 3
   },
   "file_extension": ".py",
   "mimetype": "text/x-python",
   "name": "python",
   "nbconvert_exporter": "python",
   "pygments_lexer": "ipython3",
   "version": "3.9.7"
  }
 },
 "nbformat": 4,
 "nbformat_minor": 5
}
