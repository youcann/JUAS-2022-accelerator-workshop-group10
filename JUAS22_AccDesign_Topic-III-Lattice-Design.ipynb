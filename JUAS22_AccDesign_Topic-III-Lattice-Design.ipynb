{
 "cells": [
  {
   "cell_type": "markdown",
   "id": "ca1176a8",
   "metadata": {},
   "source": [
    "# JUAS'22 Accelerator Design Topic III: Lattice Design"
   ]
  },
  {
   "cell_type": "markdown",
   "id": "069cb82d",
   "metadata": {},
   "source": [
    "The goal of this mini-workshop is to apply the knowledge gained during this school to a realistic problem. The task is to design a particle accelerator with certain specifications and boundary conditions. The idea is to gain experience how such a big task is tackled and organised.\n",
    "There are ten groups of three persons each. We offer three topics, that look at the same problem from slightly different angles and with different emphasis."
   ]
  },
  {
   "cell_type": "markdown",
   "id": "7158ef02",
   "metadata": {},
   "source": [
    "**Scope: design a top factory for precision measurements.**\n",
    "Design a particle collider (the *JUAS Collider*) for precision measurements of the top quark mass at the $t\\bar{t}$-threshold.\n",
    "The circumference must not exceed 100 km and the maximum synchrotron radiation power is limited to 50 MW per beam.\n",
    "Per year at least 100000 $t\\bar{t}$ pairs should be produced for sufficient statistics."
   ]
  },
  {
   "cell_type": "markdown",
   "id": "5a1b1ed7",
   "metadata": {},
   "source": [
    "*Hint:* Should your calculation crash, it is useful to restart the notebook kernel and re-run all previous cells (\"Cell $\\rightarrow$ Run All Above\")."
   ]
  },
  {
   "cell_type": "code",
   "execution_count": 1,
   "id": "9717464a",
   "metadata": {},
   "outputs": [],
   "source": [
    "import numpy as np\n",
    "\n",
    "import sys, os\n",
    "\n",
    "from cpymad.madx import Madx\n",
    "from matplotlib import pyplot as plt\n",
    "\n",
    "%matplotlib inline\n",
    "import seaborn as sns\n",
    "sns.set_context('talk', font_scale=1.2, rc={'lines.linewidth': 3})\n",
    "sns.set_style('ticks',\n",
    "              {'grid.linestyle': 'none', 'axes.edgecolor': '0',\n",
    "               'axes.linewidth': 1.2, 'legend.frameon': True,\n",
    "               'xtick.direction': 'out', 'ytick.direction': 'out',\n",
    "               'xtick.top': True, 'ytick.right': True,\n",
    "              })"
   ]
  },
  {
   "cell_type": "code",
   "execution_count": 2,
   "id": "dbdf1687",
   "metadata": {},
   "outputs": [
    {
     "name": "stdout",
     "output_type": "stream",
     "text": [
      "\n",
      "  ++++++++++++++++++++++++++++++++++++++++++++\n",
      "  +     MAD-X 5.07.00  (64 bit, Linux)       +\n",
      "  + Support: mad@cern.ch, http://cern.ch/mad +\n",
      "  + Release   date: 2021.05.03               +\n",
      "  + Execution date: 2022.02.01 17:13:34      +\n",
      "  ++++++++++++++++++++++++++++++++++++++++++++\n"
     ]
    }
   ],
   "source": [
    "madx = Madx(stdout=True)"
   ]
  },
  {
   "cell_type": "markdown",
   "id": "aed59b62",
   "metadata": {},
   "source": [
    "*Comment:* You find the MAD-X documentation here: https://mad.web.cern.ch/mad/"
   ]
  },
  {
   "cell_type": "markdown",
   "id": "17caa2a1",
   "metadata": {},
   "source": [
    "## Exercise summary"
   ]
  },
  {
   "cell_type": "markdown",
   "id": "cd3a36f6",
   "metadata": {},
   "source": [
    "1) Design basic cell according to beam requirements<br />\n",
    "2) Implement a MAD-X model of your basic cell, close the ring and calculate SR integrals and equilibrium beam parameters<br />\n",
    "3) Include dispersion suppressors and straight sections to your model and match optics<br />\n",
    "4) Include RF cavities and calculate equilibrium beam parameters with MAD-X<br />\n",
    "5) Optional: include mini-beta insertion and match optics."
   ]
  },
  {
   "cell_type": "markdown",
   "id": "a496cb5c",
   "metadata": {},
   "source": [
    "### Note: this notebook embeds the structure to solve the exercises. \n",
    "\n",
    "$\\implies$ You need to fill in the gaps indicated with \"[...]\" to make it work.\n",
    "\n",
    "Also note that, at the end of the course, you are expected to present a well-prepared set of slides during the examination, suitable to show to the other groups working on different topics. You may use this notebook to compute all the results, however, the notebook itself should <b><u>not</u></b> be used in the presentation."
   ]
  },
  {
   "cell_type": "markdown",
   "id": "f7c7eb1f",
   "metadata": {},
   "source": [
    "## 1. Assume following boundary conditions"
   ]
  },
  {
   "cell_type": "markdown",
   "id": "0ef687aa",
   "metadata": {},
   "source": [
    "- Beam energy: $E=175$ GeV<br />\n",
    "- Horizontal equilibrium emittance: $\\epsilon_x = 1.3$ nm rad<br />\n",
    "- Damping partition number: $J_x =1$<br />\n",
    "- A maximum circumference of 100 km<br />\n",
    "- Maximum synchrotron radiation power: $P = 50$ MW per beam<br />\n",
    "- The basic cell should have the same phase advance in both planes.<br />"
   ]
  },
  {
   "cell_type": "markdown",
   "id": "559f7239",
   "metadata": {},
   "source": [
    "## 2. Design of basic arc cell"
   ]
  },
  {
   "cell_type": "markdown",
   "id": "5d95cf87",
   "metadata": {},
   "source": [
    "### <span style=\"color:blue;\">a) What lattice type do you choose, and why?</span>"
   ]
  },
  {
   "cell_type": "markdown",
   "id": "85515299",
   "metadata": {},
   "source": [
    "We should dessign a FODO cell\n",
    "- Less expensive: There are \"few\" elements\n",
    "- Top quark is very energetic, and so we need as many dipole magnets as possible (very big beam rigidity needed). Ideally we would need only dipoles, but some focusing is needed and it can be achieved with quadrupoles --> FODO"
   ]
  },
  {
   "cell_type": "markdown",
   "id": "b16f0bfa",
   "metadata": {},
   "source": [
    "### <span style=\"color:blue;\">b) What phase advance per cell do you choose, and why?</span>"
   ]
  },
  {
   "cell_type": "markdown",
   "id": "7e356764",
   "metadata": {},
   "source": [
    "Precisión colliders requiere leptons (elementary particle itself) to collide and not hadrons (which are \"made of\" many sub-particles). Therefore, providing a 175GeV energy to electrons will allow us to make better profit of that energy, i.e our mesurement will be more precise. "
   ]
  },
  {
   "cell_type": "code",
   "execution_count": 3,
   "id": "98022fc1",
   "metadata": {},
   "outputs": [],
   "source": [
    "# phase advance per cell in radian\n",
    "mu_x = np.pi/2\n",
    "mu_y = np.pi/2"
   ]
  },
  {
   "cell_type": "markdown",
   "id": "4feec866",
   "metadata": {},
   "source": [
    "### <span style=\"color:blue;\">c) Think  about  the  layout  of  your  basic  cell:  cell  length,  length  of  magnetic  elements,  dipole  filling factor.</span>"
   ]
  },
  {
   "cell_type": "markdown",
   "id": "5ac041c1",
   "metadata": {},
   "source": [
    "*Hint:*  Start with a cell length in the range from 50 m to 60 m."
   ]
  },
  {
   "cell_type": "code",
   "execution_count": 4,
   "id": "d901f11f",
   "metadata": {},
   "outputs": [],
   "source": [
    "Lcell = 60  # cell length in m\n",
    "LB    = 12  # length of bending magnets in m\n",
    "LQ    = 1  # length of quadrupole magnets in m\n",
    "LS    = 1  # length of sextupole magnets in m - to be placed after quads because dispersion is longer and therefore the correction is more effective.\n",
    "# This configuration leaves only cm of drifts between magnets - could be an issue \n",
    "# 48/60 = 0.80 filling factor"
   ]
  },
  {
   "cell_type": "markdown",
   "id": "5c75cfdb",
   "metadata": {},
   "source": [
    "### <span style=\"color:blue;\">d) Calculate the bending angle for your dipoles in order to match the required equilibrium emittance.</span>\n",
    "\n",
    "The equilibrium emittance can be approximately calculated using following equation:\n",
    "$$\\epsilon_x = %\\frac{C_{\\text{q}}}{J_x} \\gamma^2\\theta^3 \\frac{\\rho^2}{l_{\\text{B}^3}} \\langle\\mathcal{H}\\rangle = \n",
    "\\frac{C_{\\text{q}}}{J_x} \\gamma^2\\theta^3 F$$\n",
    "$C_{\\text{q}} = \\frac{55}{32\\sqrt{3}}\\frac{\\hbar c}{m_0c^2}=3.832\\times10^{-13}$ m, $J_x\\approx 1$ is the damping partition number, $\\gamma$ the Lorentz factor, and $\\theta$ the bending angle of all dipole magnets in a half-cell. For a FODO cell with phase advance $\\mu$ the factor $F$ can be written as \n",
    "$$F_{\\text{FODO}} = \\frac{1}{2 \\sin\\mu} \\frac{5+3\\cos\\mu}{1-\\cos\\mu} \\frac{L}{l_{\\text{B}}}.$$\n",
    "$L$ is the cell length and $l_{\\text{B}}$ is the length of all dipole magnets in the cell."
   ]
  },
  {
   "cell_type": "code",
   "execution_count": 5,
   "id": "b93f6298",
   "metadata": {},
   "outputs": [
    {
     "data": {
      "text/plain": [
       "0.0013226893212050178"
      ]
     },
     "execution_count": 5,
     "metadata": {},
     "output_type": "execute_result"
    }
   ],
   "source": [
    "epsilon_x = 1.3e-9 # m rad\n",
    "J_x = 1\n",
    "C_q = 3.832e-13 # m\n",
    "gamma_L = 175/0.000511\n",
    "\n",
    "F   = (5+3*np.cos(mu_x))*Lcell/(2*np.sin(mu_x))/(1-np.cos(mu_x))/LB\n",
    "THB = ((epsilon_x * J_x)/( F*C_q*gamma_L*gamma_L ))**(1./3.) # Theta bending\n",
    "THB"
   ]
  },
  {
   "cell_type": "markdown",
   "id": "0f0d0cf8",
   "metadata": {},
   "source": [
    "### <span style=\"color:blue;\">e) Calculate the quadrupole strength $k_1$ using </span>\n",
    "$$\\sin(\\mu/2) = \\frac{L}{4f} \\qquad \\text{and}\\qquad \\frac{1}{f} = k_1 L_{\\text{Q}},$$\n",
    "where $L_Q$ is the length of the quadrupole magnets."
   ]
  },
  {
   "cell_type": "code",
   "execution_count": 6,
   "id": "acccc09e",
   "metadata": {},
   "outputs": [
    {
     "data": {
      "text/plain": [
       "0.05714045207910316"
      ]
     },
     "execution_count": 6,
     "metadata": {},
     "output_type": "execute_result"
    }
   ],
   "source": [
    "invf = np.sin(mu_x/2)*4/Lcell\n",
    "k1 = invf/LQ\n",
    "k1 #1/m^2"
   ]
  },
  {
   "cell_type": "code",
   "execution_count": 7,
   "id": "1f3932d3",
   "metadata": {},
   "outputs": [
    {
     "data": {
      "text/plain": [
       "33.331930379476844"
      ]
     },
     "execution_count": 7,
     "metadata": {},
     "output_type": "execute_result"
    }
   ],
   "source": [
    "g = k1/0.3*175\n",
    "g # [T/m] -- Normal conducting? If it was too high, we would have to make them longer"
   ]
  },
  {
   "cell_type": "markdown",
   "id": "e0fece53",
   "metadata": {},
   "source": [
    "### <span style=\"color:blue;\">f) Define the elements and the basic cell in MAD-X</span>"
   ]
  },
  {
   "cell_type": "code",
   "execution_count": 8,
   "id": "a9790625",
   "metadata": {},
   "outputs": [
    {
     "data": {
      "text/plain": [
       "True"
      ]
     },
     "execution_count": 8,
     "metadata": {},
     "output_type": "execute_result"
    }
   ],
   "source": [
    "inputstring = f'''\n",
    "    LB = {LB};       ! length of bending magnets in m\n",
    "    LQ = {LQ};       ! length of quadrupoles in m \n",
    "    LS = {LS};       ! length of sextupoles in m \n",
    "    Lcell = {Lcell}; ! length of basic cell in m\n",
    "'''\n",
    "madx.input(inputstring)"
   ]
  },
  {
   "cell_type": "code",
   "execution_count": 9,
   "id": "538595b0",
   "metadata": {},
   "outputs": [
    {
     "name": "stdout",
     "output_type": "stream",
     "text": [
      "lcell              =                 60 ;\n"
     ]
    },
    {
     "data": {
      "text/plain": [
       "True"
      ]
     },
     "execution_count": 9,
     "metadata": {},
     "output_type": "execute_result"
    }
   ],
   "source": [
    "madx.input('value, Lcell;')"
   ]
  },
  {
   "cell_type": "code",
   "execution_count": 36,
   "id": "4d6b3956",
   "metadata": {},
   "outputs": [
    {
     "data": {
      "text/plain": [
       "1.0"
      ]
     },
     "execution_count": 36,
     "metadata": {},
     "output_type": "execute_result"
    }
   ],
   "source": [
    "# For when we want to add the drifts\n",
    "N_drift = 8\n",
    "L_drift = (Lcell - 2. * LQ - 2. * LS - 4. * LB) / N_drift\n",
    "# Add N_drifts of length L_drift \n",
    "L_drift"
   ]
  },
  {
   "cell_type": "code",
   "execution_count": 11,
   "id": "708117a2",
   "metadata": {},
   "outputs": [
    {
     "data": {
      "text/plain": [
       "True"
      ]
     },
     "execution_count": 11,
     "metadata": {},
     "output_type": "execute_result"
    }
   ],
   "source": [
    "inputstring = f'''\n",
    "    THB = {THB};\n",
    "!    Ldrift = {L_drift}\n",
    "\n",
    "    K1QF = {k1};\n",
    "    K1QD = {-k1};\n",
    "    \n",
    "    K2SF = 0;\n",
    "    K2SD = 0;\n",
    "'''\n",
    "madx.input(inputstring)"
   ]
  },
  {
   "cell_type": "markdown",
   "id": "34bbf0d3",
   "metadata": {},
   "source": [
    "Definition of the elements:"
   ]
  },
  {
   "cell_type": "code",
   "execution_count": 12,
   "id": "48526a9a",
   "metadata": {},
   "outputs": [
    {
     "data": {
      "text/plain": [
       "True"
      ]
     },
     "execution_count": 12,
     "metadata": {},
     "output_type": "execute_result"
    }
   ],
   "source": [
    "madx.input('''\n",
    "    MB : SBEND, L:=LB, ANGLE:=THB; \n",
    "\n",
    "    MQF: quadrupole, L=LQ, K1:=K1QF;\n",
    "    halfMQF: quadrupole, L:=.5*LQ, K1:=K1QF; \n",
    "    MQD: quadrupole, L=LQ, K1:=K1QD;\n",
    "    halfMQD: quadrupole, L:=.5*LQ, K1:=K1QD;\n",
    "\n",
    "    MSF: sextupole, L=LS, K2:=K2SF;\n",
    "    MSD: sextupole, L=LS, K2:=K2SD; \n",
    "''')"
   ]
  },
  {
   "cell_type": "markdown",
   "id": "56c43740",
   "metadata": {},
   "source": [
    "Sequence definition of arc cell:"
   ]
  },
  {
   "cell_type": "markdown",
   "id": "f9826880",
   "metadata": {},
   "source": [
    "*Hint:* Cut the first quadrupole in half (i.e. define quadrupoles with half the length) and put one at the beginning and one at the end of your sequence. This gives you a symmetric structure."
   ]
  },
  {
   "cell_type": "code",
   "execution_count": 13,
   "id": "7084e025",
   "metadata": {},
   "outputs": [
    {
     "data": {
      "text/plain": [
       "True"
      ]
     },
     "execution_count": 13,
     "metadata": {},
     "output_type": "execute_result"
    }
   ],
   "source": [
    "madx.input('''\n",
    "JC_fodo_arc : SEQUENCE, REFER=centre, L=Lcell;\n",
    "    MQF1: halfMQF, at= .25*LQ;\n",
    "    MSF1: MSF, at= .5 *LQ + .5*LS+1.0;\n",
    "    MB1: MB, at= .5 *LQ + 1.0*LS + .5*LB + 2.0;\n",
    "    MB2: MB, at= .5 *LQ + 1.0*LS + 1.5*LB + 3.0;\n",
    "    MQD1: MQD, at=1.0 *LQ + 1.0*LS + 2.0*LB + 4.0;\n",
    "    MSD1: MSD, at=1.5 *LQ + 1.5*LS + 2.0*LB + 5.0;\n",
    "    MB3: MB, at=1.5 *LQ + 2.0*LS + 2.5*LB + 6.0;\n",
    "    MB4: MB, at=1.5 *LQ + 2.0*LS + 3.5*LB + 7.0;\n",
    "    MQF2: halfMQF, at=1.75*LQ + 2.0*LS + 4.0*LB + 8.0; \n",
    "ENDSEQUENCE;\n",
    "''')"
   ]
  },
  {
   "cell_type": "markdown",
   "id": "42613168",
   "metadata": {},
   "source": [
    "Define the phase advance of the basic cell in MAD-X:"
   ]
  },
  {
   "cell_type": "code",
   "execution_count": 14,
   "id": "29b763e6",
   "metadata": {},
   "outputs": [
    {
     "data": {
      "text/plain": [
       "True"
      ]
     },
     "execution_count": 14,
     "metadata": {},
     "output_type": "execute_result"
    }
   ],
   "source": [
    "# Tunes in MAD-X are given in units of 2 pi\n",
    "\n",
    "tuneArcCell_X = np.pi/2.0 + 0.001\n",
    "tuneArcCell_Y = np.pi/2.0 + 0.001\n",
    "\n",
    "madx.input(f'''\n",
    "    tuneArcCell_X = {tuneArcCell_X};\n",
    "    tuneArcCell_Y = {tuneArcCell_Y};\n",
    "''')"
   ]
  },
  {
   "cell_type": "markdown",
   "id": "0186a08a",
   "metadata": {},
   "source": [
    "Set up of MAD-X environment:"
   ]
  },
  {
   "cell_type": "code",
   "execution_count": 15,
   "id": "94860587",
   "metadata": {},
   "outputs": [
    {
     "data": {
      "text/plain": [
       "True"
      ]
     },
     "execution_count": 15,
     "metadata": {},
     "output_type": "execute_result"
    }
   ],
   "source": [
    "ENERGY = 175\n",
    "madx.input(f'ENERGY = {ENERGY};')"
   ]
  },
  {
   "cell_type": "code",
   "execution_count": 16,
   "id": "15114e10",
   "metadata": {},
   "outputs": [
    {
     "data": {
      "text/plain": [
       "True"
      ]
     },
     "execution_count": 16,
     "metadata": {},
     "output_type": "execute_result"
    }
   ],
   "source": [
    "madx.command.beam(particle='electron', energy='ENERGY')"
   ]
  },
  {
   "cell_type": "code",
   "execution_count": 17,
   "id": "12db73a6",
   "metadata": {},
   "outputs": [],
   "source": [
    "madx.use(sequence='JC_fodo_arc')"
   ]
  },
  {
   "cell_type": "code",
   "execution_count": 18,
   "id": "6603e790",
   "metadata": {},
   "outputs": [
    {
     "name": "stdout",
     "output_type": "stream",
     "text": [
      "enter Twiss module\n",
      "  \n",
      "iteration:   1 error:   0.000000E+00 deltap:   0.000000E+00\n",
      "orbit:   0.000000E+00  0.000000E+00  0.000000E+00  0.000000E+00  0.000000E+00  0.000000E+00\n",
      "\n",
      "++++++ table: summ\n",
      "\n",
      "            length             orbit5               alfa            gammatr \n",
      "                60                 -0     9.03073128e-06        332.7656888 \n",
      "\n",
      "                q1                dq1            betxmax              dxmax \n",
      "      0.3219044644      -0.5082404354        122.6297829       0.1571515486 \n",
      "\n",
      "             dxrms             xcomax             xcorms                 q2 \n",
      "      0.1208373522                  0                  0       0.3219021927 \n",
      "\n",
      "               dq2            betymax              dymax              dyrms \n",
      "     -0.5082395969        120.8880953                  0                  0 \n",
      "\n",
      "            ycomax             ycorms             deltap            synch_1 \n",
      "                 0                  0                  0                  0 \n",
      "\n",
      "           synch_2            synch_3            synch_4            synch_5 \n",
      "                 0                  0                  0                  0 \n",
      "\n",
      "           synch_6            synch_8             nflips \n",
      "                 0                  0                  0 \n"
     ]
    }
   ],
   "source": [
    "madx.twiss();"
   ]
  },
  {
   "cell_type": "markdown",
   "id": "15d82edc",
   "metadata": {},
   "source": [
    "### <span style=\"color:blue;\">Check the tunes `q1` and `q2` in the TWISS summary table. Do they fit your expectation?</span>"
   ]
  },
  {
   "cell_type": "markdown",
   "id": "b44de05e",
   "metadata": {},
   "source": [
    "### <span style=\"color:blue;\">g) Match the phase advance of your basic arc cell</span>"
   ]
  },
  {
   "cell_type": "code",
   "execution_count": 19,
   "id": "8e68f658",
   "metadata": {},
   "outputs": [
    {
     "name": "stdout",
     "output_type": "stream",
     "text": [
      "START MATCHING\n",
      "\n",
      "number of sequences: 1\n",
      "sequence name: jc_fodo_arc\n",
      "number of variables:    2\n",
      "user given constraints: 1\n",
      "total constraints:      2\n",
      "\n",
      "START LMDIF:\n",
      "\n",
      "Initial Penalty Function =   0.10337301E+01\n",
      "\n",
      "\n",
      "call:       4   Penalty function =   0.17564491E-01\n",
      "call:       7   Penalty function =   0.39570408E-05\n",
      "call:      10   Penalty function =   0.19330936E-12\n",
      " ++++++++++ LMDIF ended: converged successfully\n",
      "call:      10   Penalty function =   0.19330936E-12\n",
      "\n",
      "MATCH SUMMARY\n",
      "\n",
      "Node_Name                  Constraint   Type  Target Value       Final Value        Penalty\n",
      "--------------------------------------------------------------------------------------------------\n",
      "Global constraint:         q1           4     2.50010000E-01     2.50010031E-01     9.60776799E-14\n",
      "Global constraint:         q2           4     2.50010000E-01     2.50010031E-01     9.72316797E-14\n",
      "\n",
      "\n",
      "Final Penalty Function =   1.93309360e-13\n",
      "\n",
      "\n",
      "\n",
      "\n",
      "\n",
      "Variable                 Final Value  Initial Value Lower Limit  Upper Limit \n",
      "--------------------------------------------------------------------------------\n",
      "k1qf                      4.76749e-02  5.71405e-02 -1.00000e+20  1.00000e+20\n",
      "k1qd                     -4.76752e-02 -5.71405e-02 -1.00000e+20  1.00000e+20\n",
      "\n",
      "END MATCH SUMMARY\n",
      "\n",
      "VARIABLE \"TAR\" SET TO   1.93309360e-13\n"
     ]
    },
    {
     "data": {
      "text/plain": [
       "True"
      ]
     },
     "execution_count": 19,
     "metadata": {},
     "output_type": "execute_result"
    }
   ],
   "source": [
    "madx.input('''\n",
    "match, sequence = JC_fodo_arc;\n",
    "    GLOBAL, Q1=0.25+0.00001;\n",
    "    GLOBAL, Q2=0.25+0.00001;\n",
    "    VARY, NAME= K1QF, STEP=0.000001;\n",
    "    VARY, NAME= K1QD, STEP=0.000001;\n",
    "    LMDIF, CALLS=50, TOLERANCE=1e-8;//method adopted \n",
    "endmatch;\n",
    "''')"
   ]
  },
  {
   "cell_type": "markdown",
   "id": "e905e10f",
   "metadata": {},
   "source": [
    "Check the matching result by running the twiss command:"
   ]
  },
  {
   "cell_type": "code",
   "execution_count": 20,
   "id": "92d39a42",
   "metadata": {},
   "outputs": [
    {
     "name": "stdout",
     "output_type": "stream",
     "text": [
      "enter Twiss module\n",
      "  \n",
      "iteration:   1 error:   0.000000E+00 deltap:   0.000000E+00\n",
      "orbit:   0.000000E+00  0.000000E+00  0.000000E+00  0.000000E+00  0.000000E+00  0.000000E+00\n",
      "\n",
      "++++++ table: summ\n",
      "\n",
      "            length             orbit5               alfa            gammatr \n",
      "                60                 -0    1.328325907e-05        274.3769843 \n",
      "\n",
      "                q1                dq1            betxmax              dxmax \n",
      "       0.250010031      -0.3183108042        102.0232758       0.2146212463 \n",
      "\n",
      "             dxrms             xcomax             xcorms                 q2 \n",
      "      0.1705294669                  0                  0       0.2500100312 \n",
      "\n",
      "               dq2            betymax              dymax              dyrms \n",
      "     -0.3183147274        102.0235521                  0                  0 \n",
      "\n",
      "            ycomax             ycorms             deltap            synch_1 \n",
      "                 0                  0                  0                  0 \n",
      "\n",
      "           synch_2            synch_3            synch_4            synch_5 \n",
      "                 0                  0                  0                  0 \n",
      "\n",
      "           synch_6            synch_8             nflips \n",
      "                 0                  0                  0 \n"
     ]
    }
   ],
   "source": [
    "twiss=madx.twiss(centre=True)"
   ]
  },
  {
   "cell_type": "code",
   "execution_count": 21,
   "id": "19b257fe",
   "metadata": {},
   "outputs": [
    {
     "data": {
      "image/png": "[encoded data removed]",
      "text/plain": [
       "<Figure size 576x360 with 1 Axes>"
      ]
     },
     "metadata": {},
     "output_type": "display_data"
    }
   ],
   "source": [
    "plt.figure(figsize=(8, 5))\n",
    "plt.plot(twiss['s'], twiss['betx'], label=r'$\\beta_x$', color='black')\n",
    "plt.plot(twiss['s'], twiss['bety'], label=r'$\\beta_y$', color='red')\n",
    "plt.xlabel('Path length $s$ [m]')\n",
    "plt.ylabel(r'Beta function $\\beta_{x,y}$ [m]')\n",
    "plt.legend();"
   ]
  },
  {
   "cell_type": "code",
   "execution_count": 22,
   "id": "39d58674",
   "metadata": {},
   "outputs": [
    {
     "data": {
      "image/png": "[encoded data removed]",
      "text/plain": [
       "<Figure size 576x360 with 1 Axes>"
      ]
     },
     "metadata": {},
     "output_type": "display_data"
    }
   ],
   "source": [
    "plt.figure(figsize=(8, 5))\n",
    "plt.plot(twiss['s'], twiss['Dx'], label=r'$D_x$', color='green')\n",
    "plt.xlabel('Path length $s$ [m]')\n",
    "plt.ylabel(r'Dispersion function $D_x$ [m]')\n",
    "plt.legend();"
   ]
  },
  {
   "cell_type": "markdown",
   "id": "32d01143",
   "metadata": {},
   "source": [
    "#### Calculate minimum and maximum beta function of your cell analytically"
   ]
  },
  {
   "cell_type": "markdown",
   "id": "4edeccdd",
   "metadata": {},
   "source": [
    "### <span style=\"color:blue;\">Compare the maximum and minimum values of beta functions of MAD-X to the analytically calculated values. </span>\n",
    "    \n",
    "For a FODO cell (symmetrical disposition, beginning and end point middle of focusing quadrupole), the expression for the minimum and maximum optical beta function is given by:"
   ]
  },
  {
   "cell_type": "markdown",
   "id": "5ee8226d",
   "metadata": {},
   "source": [
    "\\begin{equation}\n",
    "\\hat{\\beta} = \\frac{1+\\sin{\\mu/2}}{\\sin{\\mu}}\\cdot L \\hspace{1cm} \\text{and} \\hspace{1cm}\n",
    "\\check{\\beta} = \\frac{1-\\sin{\\mu/2}}{\\sin{\\mu}} \\cdot L \n",
    "\\end{equation}"
   ]
  },
  {
   "cell_type": "code",
   "execution_count": 38,
   "id": "44d6fc85",
   "metadata": {},
   "outputs": [
    {
     "data": {
      "text/plain": [
       "(102.42640687119285, 17.573593128807154, 102.02327583863166, 17.86637500474738)"
      ]
     },
     "execution_count": 38,
     "metadata": {},
     "output_type": "execute_result"
    }
   ],
   "source": [
    "beta_max = Lcell * (1. + np.sin(.5 * mu_x)) / np.sin(mu_x)\n",
    "beta_min = Lcell * (1. - np.sin(.5 * mu_x)) / np.sin(mu_x)\n",
    "\n",
    "beta_max, beta_min, twiss['betx'].max(), twiss['betx'].min()"
   ]
  },
  {
   "cell_type": "markdown",
   "id": "5ce715a9",
   "metadata": {},
   "source": [
    "Compare the maximum and minimum values of the dispersion function of MAD-X to the analytically calculated values. They are given by: $$\\hat{D} = \\frac{L^2}{\\rho}\\frac{(1+\\frac{1}{2}\\sin{(\\mu/2)})}{4\\sin^2{(\\mu/2)}} \\text{ and } \\check{D} = \\frac{L^2}{\\rho}\\frac{(1-\\frac{1}{2}\\sin{(\\mu/2)})}{4\\sin^2{(\\mu/2)}}$$"
   ]
  },
  {
   "cell_type": "code",
   "execution_count": 51,
   "id": "57e071bd",
   "metadata": {},
   "outputs": [
    {
     "data": {
      "text/plain": [
       "(0.26854967061774726,\n",
       " 0.12825724144656328,\n",
       " 0.21462124634806964,\n",
       " 0.10358666732982855)"
      ]
     },
     "execution_count": 51,
     "metadata": {},
     "output_type": "execute_result"
    }
   ],
   "source": [
    "rho = LB/np.arcsin(THB)\n",
    "\n",
    "D_max = Lcell**2.0 / rho  * (1.0 + 0.5*np.sin(mu_x *0.5))   / (4. * np.sin(mu_x * .5)**2.0)\n",
    "D_min = Lcell**2.0 / rho * (1. - .5 * np.sin(mu_x * .5)) / (4. * np.sin(mu_x * .5)**2.0)\n",
    "\n",
    "D_max, D_min, twiss['dx'].max(), twiss['dx'].min()\n"
   ]
  },
  {
   "cell_type": "markdown",
   "id": "de316d9e",
   "metadata": {},
   "source": [
    "### <span style=\"color:blue;\">h) Match the chromaticity of your basic arc cell to zero.</span>"
   ]
  },
  {
   "cell_type": "markdown",
   "id": "05d2e518",
   "metadata": {},
   "source": [
    "Observe the chromaticities `dq1` and `dq2` in the recent Twiss summary table. What does this mean? How can you correct this?"
   ]
  },
  {
   "cell_type": "code",
   "execution_count": 25,
   "id": "d32993c4",
   "metadata": {},
   "outputs": [
    {
     "name": "stdout",
     "output_type": "stream",
     "text": [
      "START MATCHING\n",
      "\n",
      "number of sequences: 1\n",
      "sequence name: jc_fodo_arc\n",
      "number of variables:    2\n",
      "user given constraints: 1\n",
      "total constraints:      2\n",
      "\n",
      "START LMDIF:\n",
      "\n",
      "Initial Penalty Function =   0.20264603E+00\n",
      "\n",
      "\n",
      "call:       4   Penalty function =   0.72499911E-25\n",
      " ++++++++++ LMDIF ended: converged successfully\n",
      "call:       4   Penalty function =   0.72499911E-25\n",
      "\n",
      "MATCH SUMMARY\n",
      "\n",
      "Node_Name                  Constraint   Type  Target Value       Final Value        Penalty\n",
      "--------------------------------------------------------------------------------------------------\n",
      "Global constraint:         dq1          4     0.00000000E+00     7.03537593E-14     4.94965144E-27\n",
      "Global constraint:         dq2          4     0.00000000E+00     2.59904327E-13     6.75502593E-26\n",
      "\n",
      "\n",
      "Final Penalty Function =   7.24999108e-26\n",
      "\n",
      "\n",
      "\n",
      "\n",
      "\n",
      "Variable                 Final Value  Initial Value Lower Limit  Upper Limit \n",
      "--------------------------------------------------------------------------------\n",
      "k2sf                      2.61263e-01  0.00000e+00 -1.00000e+20  1.00000e+20\n",
      "k2sd                     -5.00391e-01  0.00000e+00 -1.00000e+20  1.00000e+20\n",
      "\n",
      "END MATCH SUMMARY\n",
      "\n"
     ]
    },
    {
     "data": {
      "text/plain": [
       "True"
      ]
     },
     "execution_count": 25,
     "metadata": {},
     "output_type": "execute_result"
    },
    {
     "name": "stdout",
     "output_type": "stream",
     "text": [
      "VARIABLE \"TAR\" SET TO   7.24999108e-26\n"
     ]
    }
   ],
   "source": [
    "madx.input('''\n",
    "match, sequence = JC_fodo_arc;\n",
    "    GLOBAL, dq1=0;\n",
    "    GLOBAL, dq2=0;\n",
    "    VARY, NAME= K2SF, STEP=0.0000001;\n",
    "    VARY, NAME= K2SD, STEP=0.0000001;\n",
    "    LMDIF, CALLS=200, TOLERANCE=1e-6;//method adopted \n",
    "endmatch;\n",
    "''')"
   ]
  },
  {
   "cell_type": "code",
   "execution_count": 26,
   "id": "d7badf0e",
   "metadata": {},
   "outputs": [
    {
     "name": "stdout",
     "output_type": "stream",
     "text": [
      "enter Twiss module\n",
      "  \n",
      "iteration:   1 error:   0.000000E+00 deltap:   0.000000E+00\n",
      "orbit:   0.000000E+00  0.000000E+00  0.000000E+00  0.000000E+00  0.000000E+00  0.000000E+00\n",
      "\n",
      "++++++ table: summ\n",
      "\n",
      "            length             orbit5               alfa            gammatr \n",
      "                60                 -0    1.328325907e-05        274.3769843 \n",
      "\n",
      "                q1                dq1            betxmax              dxmax \n",
      "       0.250010031    7.035375926e-14        102.0232758       0.2146212463 \n",
      "\n",
      "             dxrms             xcomax             xcorms                 q2 \n",
      "      0.1705294669                  0                  0       0.2500100312 \n",
      "\n",
      "               dq2            betymax              dymax              dyrms \n",
      "   2.599043272e-13        102.0235521                  0                  0 \n",
      "\n",
      "            ycomax             ycorms             deltap            synch_1 \n",
      "                 0                  0                  0                  0 \n",
      "\n",
      "           synch_2            synch_3            synch_4            synch_5 \n",
      "                 0                  0                  0                  0 \n",
      "\n",
      "           synch_6            synch_8             nflips \n",
      "                 0                  0                  0 \n"
     ]
    }
   ],
   "source": [
    "twiss=madx.twiss(centre=True)"
   ]
  },
  {
   "cell_type": "markdown",
   "id": "b22db4f3",
   "metadata": {
    "tags": []
   },
   "source": [
    "Have a look at the optics again. \n",
    "\n",
    "### <span style=\"color:blue;\">Can you explain why the sextupole strengths for the 'defocusing' sextupole are larger than for the 'focusing' one?</span>"
   ]
  },
  {
   "cell_type": "code",
   "execution_count": 27,
   "id": "3b52c2a1",
   "metadata": {},
   "outputs": [
    {
     "data": {
      "image/png": "[encoded data removed]",
      "text/plain": [
       "<Figure size 576x360 with 1 Axes>"
      ]
     },
     "metadata": {},
     "output_type": "display_data"
    }
   ],
   "source": [
    "plt.figure(figsize=(8, 5))\n",
    "plt.plot(twiss['s'], twiss['betx'], label=r'$\\beta_x$', color='black')\n",
    "plt.plot(twiss['s'], twiss['bety'], label=r'$\\beta_y$', color='red')\n",
    "plt.xlabel('Path length $s$ [m]')\n",
    "plt.ylabel(r'Beta function $\\beta_{x,y}$ [m]')\n",
    "plt.legend();"
   ]
  },
  {
   "cell_type": "code",
   "execution_count": 28,
   "id": "e59bd42f",
   "metadata": {},
   "outputs": [
    {
     "data": {
      "image/png": "[encoded data removed]",
      "text/plain": [
       "<Figure size 576x360 with 1 Axes>"
      ]
     },
     "metadata": {},
     "output_type": "display_data"
    }
   ],
   "source": [
    "plt.figure(figsize=(8, 5))\n",
    "plt.plot(twiss['s'], twiss['Dx'], label=r'$D_x$', color='green')\n",
    "plt.xlabel('Path length $s$ [m]')\n",
    "plt.ylabel(r'Dispersion function $D_x$ [m]')\n",
    "plt.legend();"
   ]
  },
  {
   "cell_type": "markdown",
   "id": "9b38734a",
   "metadata": {},
   "source": [
    "### <span style=\"color:blue;\">i) Build a full ring with your basic cells.</span>"
   ]
  },
  {
   "cell_type": "markdown",
   "id": "2059b932",
   "metadata": {},
   "source": [
    "### <span style=\"color:blue;\">How many cells do you need to close the ring? </span> \n",
    "\n",
    "Is the overall length below the required maximum length?"
   ]
  },
  {
   "cell_type": "code",
   "execution_count": 52,
   "id": "7e53f954",
   "metadata": {},
   "outputs": [
    {
     "data": {
      "text/plain": [
       "(1188, 71280)"
      ]
     },
     "execution_count": 52,
     "metadata": {},
     "output_type": "execute_result"
    }
   ],
   "source": [
    "# Number of cells required\n",
    "numberOfCells = round(np.pi*2/THB/4)\n",
    "# Circumference of ring\n",
    "circumference = numberOfCells*Lcell\n",
    "\n",
    "numberOfCells, circumference"
   ]
  },
  {
   "cell_type": "markdown",
   "id": "f6b362cc",
   "metadata": {},
   "source": [
    "### <span style=\"color:red;\">The filling factor is 0.8, therefore Lring = circunference/0.8 = 89100 m < 100000m ! :( ?"
   ]
  },
  {
   "cell_type": "code",
   "execution_count": 53,
   "id": "ea6f0539",
   "metadata": {},
   "outputs": [
    {
     "data": {
      "text/plain": [
       "True"
      ]
     },
     "execution_count": 53,
     "metadata": {},
     "output_type": "execute_result"
    },
    {
     "name": "stdout",
     "output_type": "stream",
     "text": [
      "++++++ info: numberofcells redefined\n",
      "++++++ info: l_jc_ring redefined\n"
     ]
    }
   ],
   "source": [
    "madx.input(f'''\n",
    "    numberOfCells = {numberOfCells};\n",
    "    L_JC_ring = numberOfCells*Lcell;\n",
    "''')"
   ]
  },
  {
   "cell_type": "markdown",
   "id": "ece81fcb",
   "metadata": {},
   "source": [
    "Define a ring consisting of your FODO cells:"
   ]
  },
  {
   "cell_type": "markdown",
   "id": "465df389",
   "metadata": {},
   "source": [
    "*Hint:* You can use while-loops in MAD-X sequence definitions."
   ]
  },
  {
   "cell_type": "code",
   "execution_count": 54,
   "id": "d4b9de97",
   "metadata": {},
   "outputs": [
    {
     "data": {
      "text/plain": [
       "True"
      ]
     },
     "execution_count": 54,
     "metadata": {},
     "output_type": "execute_result"
    }
   ],
   "source": [
    "madx.input('''\n",
    "option, -info;\n",
    "i = 0;\n",
    "JC_ring : SEQUENCE, refer=centre, L=L_JC_ring; \n",
    "    while (i < numberOfCells) {\n",
    "        JC_fodo_arc, at=(i + 0.5) * Lcell;\n",
    "        i = i + 1;\n",
    "    }\n",
    "ENDSEQUENCE;\n",
    "option, info;\n",
    "''')"
   ]
  },
  {
   "cell_type": "code",
   "execution_count": 55,
   "id": "ac11b3fe",
   "metadata": {},
   "outputs": [],
   "source": [
    "madx.use(sequence='JC_ring')"
   ]
  },
  {
   "cell_type": "code",
   "execution_count": 56,
   "id": "57153952",
   "metadata": {
    "scrolled": true
   },
   "outputs": [
    {
     "name": "stdout",
     "output_type": "stream",
     "text": [
      "enter Twiss module\n",
      "  \n",
      "iteration:   1 error:   0.000000E+00 deltap:   0.000000E+00\n",
      "orbit:   0.000000E+00  0.000000E+00  0.000000E+00  0.000000E+00  0.000000E+00  0.000000E+00\n",
      "\n",
      "++++++ table: summ\n",
      "\n",
      "            length             orbit5               alfa            gammatr \n",
      "             71280                 -0    1.328325907e-05        274.3769843 \n",
      "\n",
      "                q1                dq1            betxmax              dxmax \n",
      "       297.0119168    8.340166884e-11        102.0232758       0.2146212463 \n",
      "\n",
      "             dxrms             xcomax             xcorms                 q2 \n",
      "      0.1705338783                  0                  0         297.011917 \n",
      "\n",
      "               dq2            betymax              dymax              dyrms \n",
      "   3.086874835e-10        100.8148187                 -0                  0 \n",
      "\n",
      "            ycomax             ycorms             deltap            synch_1 \n",
      "                 0                  0                  0                  0 \n",
      "\n",
      "           synch_2            synch_3            synch_4            synch_5 \n",
      "                 0                  0                  0                  0 \n",
      "\n",
      "           synch_6            synch_8             nflips \n",
      "                 0                  0                  0 \n"
     ]
    }
   ],
   "source": [
    "twiss=madx.twiss()"
   ]
  },
  {
   "cell_type": "markdown",
   "id": "5294c927",
   "metadata": {},
   "source": [
    "### <span style=\"color:blue;\">Do the tunes fit your expectation?</span>"
   ]
  },
  {
   "cell_type": "code",
   "execution_count": 60,
   "id": "32c6b503",
   "metadata": {},
   "outputs": [
    {
     "data": {
      "text/plain": [
       "297.0"
      ]
     },
     "execution_count": 60,
     "metadata": {},
     "output_type": "execute_result"
    }
   ],
   "source": [
    "total_phase_advance = numberOfCells * np.pi/2.0\n",
    "total_tune = total_phase_advance / 2.0 / np.pi\n",
    "total_tune"
   ]
  },
  {
   "cell_type": "markdown",
   "id": "13166e89",
   "metadata": {},
   "source": [
    "Yes, we get a reasonable fitting to our expectation!"
   ]
  },
  {
   "cell_type": "code",
   "execution_count": 61,
   "id": "852df5a8",
   "metadata": {},
   "outputs": [
    {
     "data": {
      "text/plain": [
       "(0.0, 500.0)"
      ]
     },
     "execution_count": 61,
     "metadata": {},
     "output_type": "execute_result"
    },
    {
     "data": {
      "image/png": "[encoded data removed]",
      "text/plain": [
       "<Figure size 576x360 with 1 Axes>"
      ]
     },
     "metadata": {},
     "output_type": "display_data"
    }
   ],
   "source": [
    "plt.figure(figsize=(8, 5))\n",
    "plt.plot(twiss['s'], twiss['betx'], label=r'$\\beta_x$', color='black')\n",
    "plt.plot(twiss['s'], twiss['bety'], label=r'$\\beta_y$', color='red')\n",
    "plt.xlabel('Path length $s$ [m]')\n",
    "plt.ylabel(r'Beta function $\\beta_{x,y}$ [m]')\n",
    "plt.legend();\n",
    "plt.xlim(0,500)"
   ]
  },
  {
   "cell_type": "markdown",
   "id": "97923941",
   "metadata": {},
   "source": [
    "### <span style=\"color:blue;\">Check if the ring is closed. </span>\n",
    "\n",
    "If necessary adjust the bending angle accordingly."
   ]
  },
  {
   "cell_type": "code",
   "execution_count": 62,
   "id": "2382d816",
   "metadata": {},
   "outputs": [],
   "source": [
    "survey = madx.survey()"
   ]
  },
  {
   "cell_type": "code",
   "execution_count": 63,
   "id": "b962bdee",
   "metadata": {},
   "outputs": [
    {
     "data": {
      "text/plain": [
       "(-6.285419654366242, 6.283185307179586)"
      ]
     },
     "execution_count": 63,
     "metadata": {},
     "output_type": "execute_result"
    }
   ],
   "source": [
    "survey['theta'][-1], np.pi*2"
   ]
  },
  {
   "cell_type": "markdown",
   "id": "4bb972f1",
   "metadata": {},
   "source": [
    "### <span style=\"color:blue;\">j) Calculate the synchrotron radiation integrals using the 'chrom' option of the Twiss command.</span>"
   ]
  },
  {
   "cell_type": "code",
   "execution_count": 64,
   "id": "201f0d2a",
   "metadata": {},
   "outputs": [
    {
     "name": "stdout",
     "output_type": "stream",
     "text": [
      "enter Twiss module\n",
      "  \n",
      "iteration:   1 error:   1.576135E-10 deltap:   1.000000E-06\n",
      "orbit:   2.146211E-07  8.870497E-11  0.000000E+00  0.000000E+00  0.000000E+00  0.000000E+00\n",
      "  \n",
      "iteration:   1 error:   0.000000E+00 deltap:   0.000000E+00\n",
      "orbit:   0.000000E+00  0.000000E+00  0.000000E+00  0.000000E+00  0.000000E+00  0.000000E+00\n",
      "\n",
      "++++++ table: summ\n",
      "\n",
      "            length             orbit5               alfa            gammatr \n",
      "             71280                 -0    1.328325907e-05        274.3769843 \n",
      "\n",
      "                q1                dq1            betxmax              dxmax \n",
      "       297.0119168    2.575006874e-05        102.0232758       0.2146212463 \n",
      "\n",
      "             dxrms             xcomax             xcorms                 q2 \n",
      "      0.1705338783                  0                  0         297.011917 \n",
      "\n",
      "               dq2            betymax              dymax              dyrms \n",
      "   0.0001483044798        100.8148187                 -0                  0 \n",
      "\n",
      "            ycomax             ycorms             deltap            synch_1 \n",
      "                 0                  0                  0       0.9468307067 \n",
      "\n",
      "           synch_2            synch_3            synch_4            synch_5 \n",
      "    0.000692804788    7.636379123e-08    1.150338186e-08    3.983062417e-11 \n",
      "\n",
      "           synch_6            synch_8             nflips \n",
      "       322.2313752       0.1526367557                  0 \n"
     ]
    }
   ],
   "source": [
    "twiss=madx.twiss(chrom=True)"
   ]
  },
  {
   "cell_type": "markdown",
   "id": "37ac62cd",
   "metadata": {},
   "source": [
    "You can access the results of the twiss summary table like this:"
   ]
  },
  {
   "cell_type": "code",
   "execution_count": 65,
   "id": "4af83a71",
   "metadata": {},
   "outputs": [
    {
     "data": {
      "text/plain": [
       "(3.983062417e-11, 0.000692804788)"
      ]
     },
     "execution_count": 65,
     "metadata": {},
     "output_type": "execute_result"
    }
   ],
   "source": [
    "twiss.summary.synch_5, twiss.summary.synch_2"
   ]
  },
  {
   "cell_type": "markdown",
   "id": "13f99a64",
   "metadata": {},
   "source": [
    "### <span style=\"color:blue;\">Calculate equilibrium emittance and energy loss per turn using the synchrotron radiation integrals. </span>\n",
    "\n",
    "Do you obtain the emittance you were designing for?"
   ]
  },
  {
   "cell_type": "code",
   "execution_count": 68,
   "id": "0bb5de5e",
   "metadata": {},
   "outputs": [
    {
     "data": {
      "text/plain": [
       "(2.5838424511604475e-09, 3.962859793760767e-08)"
      ]
     },
     "execution_count": 68,
     "metadata": {},
     "output_type": "execute_result"
    }
   ],
   "source": [
    "I_5 = twiss.summary.synch_5\n",
    "I_2 = twiss.summary.synch_2\n",
    "J_x = 1\n",
    "C_q = 3.832e-13 # m\n",
    "gamma_L = 175/0.000511\n",
    "\n",
    "epsilon_x_SRI = C_q * gamma_L ** 2.0 * I_5 / J_x / I_2\n",
    "U0_SRI = C_q * ENERGY ** 4.0 * I_2 / 2 / np.pi\n",
    "\n",
    "epsilon_x_SRI, U0_SRI"
   ]
  },
  {
   "cell_type": "markdown",
   "id": "e124870d",
   "metadata": {},
   "source": [
    "In principle, we obtain twice the emmittance as we would want to. --> Need for suppress dispersion?"
   ]
  },
  {
   "cell_type": "code",
   "execution_count": null,
   "id": "520df3d5",
   "metadata": {},
   "outputs": [],
   "source": [
    "In principle, we obtain twice the emmittance as we would want to. --> Need for suppress dispersion"
   ]
  },
  {
   "cell_type": "markdown",
   "id": "01578420",
   "metadata": {},
   "source": [
    "$\\,$\n",
    "\n",
    "$\\,$\n",
    "\n",
    "## 3. Dispersion suppressors and straight sections"
   ]
  },
  {
   "cell_type": "markdown",
   "id": "e7184002",
   "metadata": {},
   "source": [
    "### <span style=\"color:blue;\">a) Design a dispersion suppressor section for both start (\"DSL\") and end (\"DSR\") of the arc sections of your storage ring and implement it in MAD-X. What scheme do you use and why? Why is it not possible to use the identical section on both sides of an arc? </span>"
   ]
  },
  {
   "cell_type": "code",
   "execution_count": null,
   "id": "66b208cc",
   "metadata": {},
   "outputs": [],
   "source": [
    "# Define quadrupole strengths of the dispersion suppressor\n",
    "madx.input('''\n",
    "    K1QFDS1 := K1QF;\n",
    "    K1QDDS1 := K1QD;\n",
    "    K1QFDS2 := K1QF;\n",
    "    K1QDDS2 := K1QD;\n",
    "''')"
   ]
  },
  {
   "cell_type": "code",
   "execution_count": null,
   "id": "114b6d42",
   "metadata": {},
   "outputs": [],
   "source": [
    "# Define elements for of the dispersion suppressor\n",
    "madx.input('''\n",
    "    MBDS     :  [...];\n",
    "\n",
    "    MQFDS1   :  [...];\n",
    "    MQDDS1   :  [...];\n",
    "    MQFDS2   :  [...];\n",
    "    MQDDS2   :  [...];\n",
    "''')"
   ]
  },
  {
   "cell_type": "markdown",
   "id": "15a8f1b0",
   "metadata": {},
   "source": [
    "Define individual sequences for your DSL and DSR."
   ]
  },
  {
   "cell_type": "code",
   "execution_count": null,
   "id": "730950d7",
   "metadata": {},
   "outputs": [],
   "source": [
    "madx.input('''\n",
    "LDS = 2*Lcell;\n",
    "JC_dsl : SEQUENCE, REFER=centre, L=LDS;\n",
    "    [...]\n",
    "ENDSEQUENCE;\n",
    "!\n",
    "JC_dsr : SEQUENCE, REFER=centre, L=LDS;\n",
    "    [...]\n",
    "ENDSEQUENCE;\n",
    "''')"
   ]
  },
  {
   "cell_type": "markdown",
   "id": "6d48c586",
   "metadata": {},
   "source": [
    "Define a small sequence to illustrate the features of the dispersion suppressor. Use following layout: `arc cell`...`arc cell` `disp.suppr. right` `marker` `disp.suppr. left` `arc cell`...`arc cell`"
   ]
  },
  {
   "cell_type": "code",
   "execution_count": null,
   "id": "14815a83",
   "metadata": {},
   "outputs": [],
   "source": [
    "madx.input('''\n",
    "mark_endds: marker;\n",
    "\n",
    "match_DS : SEQUENCE, refer=centre, L = [...];\n",
    "    JC_fodo_arc, at = 0.5*Lcell;\n",
    "    JC_fodo_arc, at = 1.5*Lcell;\n",
    "    JC_dsr, at = [...];\n",
    "    mark_endds, at =[...];\n",
    "    JC_dsl, at = [...];\n",
    "    JC_fodo_arc, at = [...];\n",
    "    JC_fodo_arc, at = [...];\n",
    "ENDSEQUENCE;\n",
    "''')"
   ]
  },
  {
   "cell_type": "markdown",
   "id": "50bff366",
   "metadata": {},
   "source": [
    "Save start values of periodic solutions as start values for non-periodic matching procedures:"
   ]
  },
  {
   "cell_type": "markdown",
   "id": "eb53477c",
   "metadata": {},
   "source": [
    "We need to save the optics functions `betx`, `bety`, `alfx`, `alfy`, `dx`,and `dpx` as references for non-periodic Twiss calculations like for example the to illustrate how the dispersion suppressor works."
   ]
  },
  {
   "cell_type": "code",
   "execution_count": null,
   "id": "54f5930e",
   "metadata": {},
   "outputs": [],
   "source": [
    "madx.use(sequence='JC_fodo_arc')"
   ]
  },
  {
   "cell_type": "code",
   "execution_count": null,
   "id": "809ceb01",
   "metadata": {},
   "outputs": [],
   "source": [
    "madx.command.savebeta(label='start.fodo.arc', place='#s')  # Comment '#s' marks the start of the sequence, '#e' the end"
   ]
  },
  {
   "cell_type": "code",
   "execution_count": null,
   "id": "86e2eb63",
   "metadata": {},
   "outputs": [],
   "source": [
    "twiss_fodo_arc=madx.twiss()"
   ]
  },
  {
   "cell_type": "markdown",
   "id": "91c38624",
   "metadata": {},
   "source": [
    "The optics functions at the beginning of your basic cell are now saved in MAD-X under the label `start.fodo.arc`. To get the beta function you can in MAD-X use: `value, start.fodo.arc->betx;` or you can save it in a variable: `foo=start.fodo.arc->betx;`"
   ]
  },
  {
   "cell_type": "code",
   "execution_count": null,
   "id": "155bdb0a",
   "metadata": {},
   "outputs": [],
   "source": [
    "madx.command.show('start.fodo.arc')"
   ]
  },
  {
   "cell_type": "markdown",
   "id": "d15952d6",
   "metadata": {},
   "source": [
    "Alternatively, you can get the values from the python object `twiss_fodo_arc`, which contains the results of the twiss calculation above."
   ]
  },
  {
   "cell_type": "code",
   "execution_count": null,
   "id": "93f0c171",
   "metadata": {},
   "outputs": [],
   "source": [
    "twiss_fodo_arc['betx'][0],twiss_fodo_arc['bety'][0],twiss_fodo_arc['alfx'][0],twiss_fodo_arc['alfy'][0],twiss_fodo_arc['dx'][0],twiss_fodo_arc['dpx'][0]"
   ]
  },
  {
   "cell_type": "code",
   "execution_count": null,
   "id": "c901d9fc",
   "metadata": {},
   "outputs": [],
   "source": [
    "madx.use(sequence='match_DS')"
   ]
  },
  {
   "cell_type": "markdown",
   "id": "9b83114d",
   "metadata": {},
   "source": [
    "Perform a non-periodic Twiss calculation with the just saved starting values and have a look at the optics:"
   ]
  },
  {
   "cell_type": "code",
   "execution_count": null,
   "id": "4ebdde8a",
   "metadata": {},
   "outputs": [],
   "source": [
    "twiss=madx.twiss(betx=twiss_fodo_arc['betx'][0], \n",
    "                 bety=twiss_fodo_arc['bety'][0], \n",
    "                 alfx=twiss_fodo_arc['alfx'][0], \n",
    "                 alfy=twiss_fodo_arc['alfy'][0], \n",
    "                 dx=twiss_fodo_arc['dx'][0], \n",
    "                 dpx=twiss_fodo_arc['dpx'][0], centre=True)"
   ]
  },
  {
   "cell_type": "code",
   "execution_count": null,
   "id": "d0ef4e6e",
   "metadata": {},
   "outputs": [],
   "source": [
    "plt.figure(figsize=(8, 5))\n",
    "plt.plot(twiss['s'], twiss['betx'], label=r'$\\beta_x$', color='black')\n",
    "plt.plot(twiss['s'], twiss['bety'], label=r'$\\beta_y$', color='red')\n",
    "plt.xlabel('Path length $s$ [m]')\n",
    "plt.ylabel(r'Beta function $\\beta_{x,y}$ [m]')\n",
    "plt.legend();"
   ]
  },
  {
   "cell_type": "code",
   "execution_count": null,
   "id": "9b61f8d4",
   "metadata": {},
   "outputs": [],
   "source": [
    "plt.figure(figsize=(8, 5))\n",
    "plt.plot(twiss['s'], twiss['Dx'], label=r'$D_x$', color='green')\n",
    "plt.xlabel('Path length $s$ [m]')\n",
    "plt.ylabel(r'Dispersion function $D_x$ [m]')\n",
    "plt.legend();"
   ]
  },
  {
   "cell_type": "markdown",
   "id": "87930023",
   "metadata": {},
   "source": [
    "Value of the dispersion function at the end of the dispersion suppressor (center of this sequence):"
   ]
  },
  {
   "cell_type": "code",
   "execution_count": null,
   "id": "6a05bbdd",
   "metadata": {},
   "outputs": [],
   "source": [
    "twiss['dx'][twiss['name'] == 'mark_endds:1'] # in m"
   ]
  },
  {
   "cell_type": "markdown",
   "id": "1913c85d",
   "metadata": {},
   "source": [
    "### <span style=\"color:blue;\">b) Define a straight cell for the straight sections </span>"
   ]
  },
  {
   "cell_type": "code",
   "execution_count": null,
   "id": "17c4464d",
   "metadata": {},
   "outputs": [],
   "source": [
    "madx.input('''\n",
    "    K1QFS := [...];\n",
    "    K1QDS := [...];\n",
    "\n",
    "    MQFS     :  [...];\n",
    "    MQDS     :  [...];\n",
    "\n",
    "JC_fodo_ss : SEQUENCE, REFER=centre, L=Lcell;\n",
    "    [...]\n",
    "ENDSEQUENCE;\n",
    "''')"
   ]
  },
  {
   "cell_type": "markdown",
   "id": "53710483",
   "metadata": {},
   "source": [
    "Calculate the optics of the straight cell. If necessary, re-match the optics."
   ]
  },
  {
   "cell_type": "code",
   "execution_count": null,
   "id": "08801e1b",
   "metadata": {},
   "outputs": [],
   "source": [
    "madx.use(sequence='JC_fodo_ss')"
   ]
  },
  {
   "cell_type": "code",
   "execution_count": null,
   "id": "21652fec",
   "metadata": {},
   "outputs": [],
   "source": [
    "madx.command.savebeta(label='start.fodo.ss', place='#s')"
   ]
  },
  {
   "cell_type": "code",
   "execution_count": null,
   "id": "87c6f2ae",
   "metadata": {},
   "outputs": [],
   "source": [
    "twiss=madx.twiss(centre=True)"
   ]
  },
  {
   "cell_type": "code",
   "execution_count": null,
   "id": "31a9e23d",
   "metadata": {},
   "outputs": [],
   "source": [
    "plt.figure(figsize=(8, 5))\n",
    "plt.plot(twiss['s'], twiss['betx'], label=r'$\\beta_x$', color='black')\n",
    "plt.plot(twiss['s'], twiss['bety'], label=r'$\\beta_y$', color='red')\n",
    "plt.xlabel('Path length $s$ [m]')\n",
    "plt.ylabel(r'Beta function $\\beta_{x,y}$ [m]')\n",
    "plt.legend();"
   ]
  },
  {
   "cell_type": "code",
   "execution_count": null,
   "id": "e64dade5",
   "metadata": {},
   "outputs": [],
   "source": [
    "plt.figure(figsize=(8, 5))\n",
    "plt.plot(twiss['s'], twiss['Dx'], label=r'$D_x$', color='green')\n",
    "plt.xlabel('Path length $s$ [m]')\n",
    "plt.ylabel(r'Dispersion function $D_x$ [m]')\n",
    "plt.legend();"
   ]
  },
  {
   "cell_type": "markdown",
   "id": "3a17474d",
   "metadata": {},
   "source": [
    "### <span style=\"color:blue;\">c) Define matching sections for the beginning (\"MSL\") and the end (\"MSR\") of your straight sections. Why do you need matching sections? How many parameters do you need to match? How many degrees of freedoms (=quadrupoles) do you need? </span>"
   ]
  },
  {
   "cell_type": "code",
   "execution_count": null,
   "id": "765c28d4",
   "metadata": {},
   "outputs": [],
   "source": [
    "madx.input('''\n",
    "    K1QFMS1 := K1QFS;\n",
    "    K1QDMS1 := K1QDS;\n",
    "    [...]\n",
    "    \n",
    "    MQFMS1   :  [...];\n",
    "    MQDMS1   :  [...];\n",
    "    [...]\n",
    "''')"
   ]
  },
  {
   "cell_type": "markdown",
   "id": "05b488c2",
   "metadata": {},
   "source": [
    "*Comment:* If you use quadrupoles with half the length be careful about the type of quadrupole at the beginning and at the end of the matching section. They might belong to a regular cell or the dispersion suppressor."
   ]
  },
  {
   "cell_type": "code",
   "execution_count": null,
   "id": "0db31a74",
   "metadata": {},
   "outputs": [],
   "source": [
    "madx.input('''\n",
    "LMS=[...]; ! length of the matching section\n",
    "\n",
    "JC_msl : SEQUENCE, REFER=centre, L=LMS;\n",
    "    [...]\n",
    "ENDSEQUENCE;\n",
    "\n",
    "JC_msr : SEQUENCE, REFER=centre, L=LMS;\n",
    "    [...]\n",
    "ENDSEQUENCE;\n",
    "\n",
    "''')"
   ]
  },
  {
   "cell_type": "markdown",
   "id": "a480fbf8",
   "metadata": {},
   "source": [
    "Define a small symmetric sequence to match the optics at the transition from the periodic solution in the arc to the one in the straight section. Use following structure: `arc cell` `DSR` `MSL` `straight cell` ... `straight cell` `MSR` `DSL` `arc cell`"
   ]
  },
  {
   "cell_type": "code",
   "execution_count": null,
   "id": "46a0f7dc",
   "metadata": {},
   "outputs": [],
   "source": [
    "madx.input('''\n",
    "mark_fodos_ss: marker;\n",
    "\n",
    "match_MS : sequence, refer=centre, L = [...]*Lcell;\n",
    "    [...]\n",
    "    mark_endds, at = [...]; ! Marker at the end of the dispersion suppressor\n",
    "    JC_msl, at = [...];\n",
    "    mark_fodos_ss, at = [...]; Marker at the end of the matching section, beginning of straight FODO cell\n",
    "    [...]\n",
    "ENDSEQUENCE;\n",
    "''')"
   ]
  },
  {
   "cell_type": "code",
   "execution_count": null,
   "id": "8ee5b480",
   "metadata": {},
   "outputs": [],
   "source": [
    "madx.use(sequence='match_MS')"
   ]
  },
  {
   "cell_type": "markdown",
   "id": "e6f55c6e",
   "metadata": {},
   "source": [
    "Start the optics calculation with values at the begining of the arc fodo cell"
   ]
  },
  {
   "cell_type": "code",
   "execution_count": null,
   "id": "786d34b3",
   "metadata": {},
   "outputs": [],
   "source": [
    "twiss_fodo_arc['betx'][0], twiss_fodo_arc['bety'][0], twiss_fodo_arc['alfx'][0], twiss_fodo_arc['alfy'][0],twiss_fodo_arc['dx'][0], twiss_fodo_arc['dpx'][0]"
   ]
  },
  {
   "cell_type": "code",
   "execution_count": null,
   "id": "3c966eee",
   "metadata": {},
   "outputs": [],
   "source": [
    "twiss = madx.twiss(betx=twiss_fodo_arc['betx'][0], \n",
    "                   bety=twiss_fodo_arc['bety'][0], \n",
    "                   alfx=twiss_fodo_arc['alfx'][0], \n",
    "                   alfy=twiss_fodo_arc['alfy'][0],\n",
    "                   dx=twiss_fodo_arc['dx'][0], \n",
    "                   dpx=twiss_fodo_arc['dpx'][0], centre=True)"
   ]
  },
  {
   "cell_type": "code",
   "execution_count": null,
   "id": "b5975cb9",
   "metadata": {},
   "outputs": [],
   "source": [
    "plt.figure(figsize=(8, 5))\n",
    "plt.plot(twiss['s'], twiss['betx'], label=r'$\\beta_x$', color='black')\n",
    "plt.plot(twiss['s'], twiss['bety'], label=r'$\\beta_y$', color='red')\n",
    "plt.xlabel('Path length $s$ [m]')\n",
    "plt.ylabel(r'Beta function $\\beta_{x,y}$ [m]')\n",
    "plt.legend();"
   ]
  },
  {
   "cell_type": "code",
   "execution_count": null,
   "id": "f0702df3",
   "metadata": {},
   "outputs": [],
   "source": [
    "plt.figure(figsize=(8, 5))\n",
    "plt.plot(twiss['s'], twiss['Dx'], label=r'$D_x$', color='green')\n",
    "plt.xlabel('Path length $s$ [m]')\n",
    "plt.ylabel(r'Dispersion function $D_x$ [m]')\n",
    "plt.legend();"
   ]
  },
  {
   "cell_type": "markdown",
   "id": "973b7b05",
   "metadata": {},
   "source": [
    "Match the optics. Where do you have to fulfill what constraints? Do you need to install markers in your sequence to retrieve that information?"
   ]
  },
  {
   "cell_type": "code",
   "execution_count": null,
   "id": "2b12cd23",
   "metadata": {},
   "outputs": [],
   "source": [
    "madx.input('''\n",
    "match, sequence= match_MS, beta0=start.fodo.arc;\n",
    "    constraint, range=mark_endds, [...];\n",
    "    constraint, range=mark_fodos_ss, [...];\n",
    "    vary, name=k1qfds1, step=1.0E-10;\n",
    "    vary, name=k1qdds1, step=1.0E-10;\n",
    "    vary, name=k1qfds2, step=1.0E-10;\n",
    "    vary, name=k1qdds2, step=1.0E-10;\n",
    "    vary, name=k1qfms1, step=1.0E-10;\n",
    "    vary, name=k1qdms1, step=1.0E-10;\n",
    "    vary, name=k1qfms2, step=1.0E-10;\n",
    "    vary, name=k1qdms2, step=1.0E-10;\n",
    "    vary, name=k1qdms3, step=1.0E-10;\n",
    "    jacobian,calls=20,tolerance=1.e-15,bisec=3;\n",
    "endmatch;\n",
    "''')"
   ]
  },
  {
   "cell_type": "code",
   "execution_count": null,
   "id": "7ba99e46",
   "metadata": {},
   "outputs": [],
   "source": [
    "twiss = madx.twiss(betx=twiss_fodo_arc['betx'][0], \n",
    "                   bety=twiss_fodo_arc['bety'][0], \n",
    "                   alfx=twiss_fodo_arc['alfx'][0], \n",
    "                   alfy=twiss_fodo_arc['alfy'][0],\n",
    "                   dx=twiss_fodo_arc['dx'][0], \n",
    "                   dpx=twiss_fodo_arc['dpx'][0], centre=True)"
   ]
  },
  {
   "cell_type": "code",
   "execution_count": null,
   "id": "ea3640fb",
   "metadata": {},
   "outputs": [],
   "source": [
    "plt.figure(figsize=(8, 5))\n",
    "plt.plot(twiss['s'], twiss['betx'], label=r'$\\beta_x$', color='black')\n",
    "plt.plot(twiss['s'], twiss['bety'], label=r'$\\beta_y$', color='red')\n",
    "plt.xlabel('Path length $s$ [m]')\n",
    "plt.ylabel(r'Beta function $\\beta_{x,y}$ [m]')\n",
    "plt.legend();"
   ]
  },
  {
   "cell_type": "code",
   "execution_count": null,
   "id": "143b34e8",
   "metadata": {},
   "outputs": [],
   "source": [
    "plt.figure(figsize=(8, 5))\n",
    "plt.plot(twiss['s'], twiss['Dx'], label=r'$D_x$', color='green')\n",
    "plt.xlabel('Path length $s$ [m]')\n",
    "plt.ylabel(r'Dispersion function $D_x$ [m]')\n",
    "plt.legend();"
   ]
  },
  {
   "cell_type": "markdown",
   "id": "b3387204",
   "metadata": {},
   "source": [
    "Confirm the matching result with a periodic Twiss calculation."
   ]
  },
  {
   "cell_type": "code",
   "execution_count": null,
   "id": "3a3e87bb",
   "metadata": {},
   "outputs": [],
   "source": [
    "twiss=madx.twiss()"
   ]
  },
  {
   "cell_type": "code",
   "execution_count": null,
   "id": "6dda9a60",
   "metadata": {},
   "outputs": [],
   "source": [
    "plt.figure(figsize=(8, 5))\n",
    "plt.plot(twiss['s'], twiss['betx'], label=r'$\\beta_x$', color='black')\n",
    "plt.plot(twiss['s'], twiss['bety'], label=r'$\\beta_y$', color='red')\n",
    "plt.xlabel('Path length $s$ [m]')\n",
    "plt.ylabel(r'Beta function $\\beta_{x,y}$ [m]')\n",
    "plt.legend();"
   ]
  },
  {
   "cell_type": "code",
   "execution_count": null,
   "id": "7a822f22",
   "metadata": {},
   "outputs": [],
   "source": [
    "plt.figure(figsize=(8, 5))\n",
    "plt.plot(twiss['s'], twiss['Dx'], label=r'$D_x$', color='green')\n",
    "plt.xlabel('Path length $s$ [m]')\n",
    "plt.ylabel(r'Dispersion function $D_x$ [m]')\n",
    "plt.legend();"
   ]
  },
  {
   "cell_type": "markdown",
   "id": "f55c9487",
   "metadata": {},
   "source": [
    "### <span style=\"color:blue;\">d) Include straight sections at four places in your ring</span>"
   ]
  },
  {
   "cell_type": "markdown",
   "id": "44d78e75",
   "metadata": {},
   "source": [
    "How do you distribute the straight sections?"
   ]
  },
  {
   "cell_type": "code",
   "execution_count": null,
   "id": "85ecfa3c",
   "metadata": {},
   "outputs": [],
   "source": [
    "numberOfCells/4"
   ]
  },
  {
   "cell_type": "code",
   "execution_count": null,
   "id": "0ea09dd6",
   "metadata": {},
   "outputs": [],
   "source": [
    "madx.input('''\n",
    "numberOfArcCells = numberOfCells/4;\n",
    "numberOfStraightCells = [...];\n",
    "''')"
   ]
  },
  {
   "cell_type": "markdown",
   "id": "7f4a058b",
   "metadata": {},
   "source": [
    "Define sequences for your arcs, straight sections and the full ring. As this ring becomes very long, also define a sequence for one quarter of the ring to speed up matching routines (one straight section and one arc)."
   ]
  },
  {
   "cell_type": "markdown",
   "id": "a346528a",
   "metadata": {},
   "source": [
    "We use the following structure to define the arcs: <br />`dispersion suppressor left` `arc cell`...`arc cell` `dispersion suppressor right`\n",
    "\n",
    "We use the following structure to define the straight sections: <br />`matching section left` `straight cell`...`straight cell` `matching section right`"
   ]
  },
  {
   "cell_type": "code",
   "execution_count": null,
   "id": "cb4fe1c7",
   "metadata": {},
   "outputs": [],
   "source": [
    "madx.input('''\n",
    "Larc=numberOfArcCells*Lcell+2*LDS;\n",
    "\n",
    "option, -info;\n",
    "i = 0;\n",
    "JC_arc : SEQUENCE, refer=centre, L=Larc; \n",
    "    JC_dsl, at = LDS / 2;\n",
    "    while (i < numberOfArcCells) {\n",
    "        JC_fodo_arc, at=LDS + (i + 0.5) * Lcell;\n",
    "        i = i + 1;\n",
    "    }\n",
    "    JC_dsr, at=numberOfArcCells * Lcell + 1.5 * LDS;\n",
    "ENDSEQUENCE;\n",
    "option, info;\n",
    "\n",
    "LSS=numberOfStraightCells*Lcell+2*LMS;\n",
    "\n",
    "option, -info;\n",
    "j=0;\n",
    "JC_ss : SEQUENCE, refer=centre, L=LSS; \n",
    "    JC_msl, at = LMS/2;\n",
    "    while (j<numberOfStraightCells) {\n",
    "        JC_fodo_ss,  at = LMS + (j+0.5)*Lcell;\n",
    "        j=j+1;\n",
    "    }\n",
    "    JC_msr, at =numberOfStraightCells*Lcell+1.5*LMS;\n",
    "ENDSEQUENCE;\n",
    "option, info;\n",
    "\n",
    "\n",
    "JC_quarter : sequence, refer=centre, L=Larc+Lss;\n",
    "    JC_ss, at=0.5*Lss;\n",
    "    JC_arc, at = Lss+0.5*Larc;\n",
    "ENDSEQUENCE;\n",
    "\n",
    "LJC=4*(Larc+Lss);\n",
    "\n",
    "JC : SEQUENCE, refer=centre, L=LJC;\n",
    "    JC_arc, at = 0.5*Larc;\n",
    "    JC_ss, at = 1.0*Larc+0.5*Lss;\n",
    "    JC_arc, at = 1.5*Larc+Lss;\n",
    "    JC_ss, at = 2.0*Larc+1.5*Lss;\n",
    "    JC_arc, at = 2.5*Larc+2*Lss;\n",
    "    JC_ss, at = 3.0*Larc+2.5*Lss;\n",
    "    JC_arc, at = 3.5*Larc+3*LSS;\n",
    "    JC_ss, at = 4.0*Larc+3.5*Lss;\n",
    "ENDSEQUENCE;\n",
    "''')"
   ]
  },
  {
   "cell_type": "code",
   "execution_count": null,
   "id": "b6f247ef",
   "metadata": {},
   "outputs": [],
   "source": [
    "madx.use(sequence='JC')"
   ]
  },
  {
   "cell_type": "code",
   "execution_count": null,
   "id": "1029d1f7",
   "metadata": {},
   "outputs": [],
   "source": [
    "twiss = madx.twiss()"
   ]
  },
  {
   "cell_type": "code",
   "execution_count": null,
   "id": "75458148",
   "metadata": {},
   "outputs": [],
   "source": [
    "plt.figure(figsize=(8, 5))\n",
    "plt.plot(twiss['s'], twiss['betx'], label=r'$\\beta_x$', color='black')\n",
    "plt.plot(twiss['s'], twiss['bety'], label=r'$\\beta_y$', color='red')\n",
    "plt.xlabel('Path length $s$ [m]')\n",
    "plt.ylabel(r'Beta function $\\beta_{x,y}$ [m]')\n",
    "plt.legend();\n",
    "# plt.xlim(15000,23000)"
   ]
  },
  {
   "cell_type": "code",
   "execution_count": null,
   "id": "cf69415a",
   "metadata": {},
   "outputs": [],
   "source": [
    "plt.figure(figsize=(8, 5))\n",
    "plt.plot(twiss['s'], twiss['Dx'], label=r'$D_x$', color='green')\n",
    "plt.xlabel('Path length $s$ [m]')\n",
    "plt.ylabel(r'Dispersion function $D_x$ [m]')\n",
    "plt.legend();\n",
    "# plt.xlim(15000,23000)"
   ]
  },
  {
   "cell_type": "markdown",
   "id": "69d65cea",
   "metadata": {},
   "source": [
    "### <span style=\"color:blue;\">e) Observe tunes and chromaticities. Do they match your expectation? Re-match tunes and chromaticities.</span>"
   ]
  },
  {
   "cell_type": "markdown",
   "id": "cd6794e5",
   "metadata": {},
   "source": [
    "First, the tunes need to be matched to avoid hitting any resonances. As this storage ring is very long, the quadrupole strengths of the arc cells could be used to do the adjustment. If the phase advance of those cells is critical and should not be touched the quadrupoles of the straight cells can be used. In order to avoid distortions of the optics, an advanced matching procedure is presented in this context. <br />\n",
    "We want to match following tunes:"
   ]
  },
  {
   "cell_type": "code",
   "execution_count": null,
   "id": "f1f4db86",
   "metadata": {},
   "outputs": [],
   "source": [
    "tuneToBeX = [...]\n",
    "tuneToBeY = [...]\n",
    "\n",
    "madx.input(f'''\n",
    "tuneToBeX = {tuneToBeX};\n",
    "tuneToBeY = {tuneToBeY};\n",
    "''')"
   ]
  },
  {
   "cell_type": "markdown",
   "id": "97cec009",
   "metadata": {},
   "source": [
    "---\n",
    "#### <span style=\"color:#af0000;\">GURU mode switched on!</span>\n",
    "\n",
    "Lean back, enjoy the show and learn:"
   ]
  },
  {
   "cell_type": "markdown",
   "id": "55e7848a",
   "metadata": {},
   "source": [
    "For the matching we only use one quarter of the ring to speed up the process:"
   ]
  },
  {
   "cell_type": "code",
   "execution_count": null,
   "id": "041cd0eb",
   "metadata": {
    "tags": []
   },
   "outputs": [],
   "source": [
    "madx.use(sequence='JC_quarter')"
   ]
  },
  {
   "cell_type": "markdown",
   "id": "9c81a864",
   "metadata": {},
   "source": [
    "A set of markers is installed to mark the beginning of two straight cells and the beginning of the arc fodo cells. Take notice of the comments to place your markers correctly."
   ]
  },
  {
   "cell_type": "code",
   "execution_count": null,
   "id": "72cfe5fb",
   "metadata": {},
   "outputs": [],
   "source": [
    "madx.input('''\n",
    "SEQEDIT, sequence=JC_quarter;\n",
    "    flatten;\n",
    "ENDEDIT;\n",
    "SEQEDIT, sequence=JC_quarter;\n",
    "    install, element=marker_s1, class=marker, at= 3*Lcell; ! start of first straight fodo cell\n",
    "    install, element=marker_s2, class=marker, at= 4*Lcell; ! end of first straight fodo cell\n",
    "    install, element=marker_startfodo,   class=marker, at= LSS+LDS; ! start of first arc fodo cell\n",
    "    install, element=marker_startfodo2,    class=marker, at= LSS+LDS; ! end of first arc fodo cell\n",
    "ENDEDIT;\n",
    "SEQEDIT, sequence=JC_quarter;\n",
    "    flatten;\n",
    "ENDEDIT;\n",
    "''')"
   ]
  },
  {
   "cell_type": "markdown",
   "id": "b9f7bcef",
   "metadata": {},
   "source": [
    "The sequence is rearranged such that it starts with the regular arc cells and ends at the end of the dispersion suppressor AFTER the straight section. In other words, we start and end at the beginning of a regular arc cell, where we know the periodic solution of the optics functions."
   ]
  },
  {
   "cell_type": "code",
   "execution_count": null,
   "id": "916861e4",
   "metadata": {},
   "outputs": [],
   "source": [
    "madx.input('''\n",
    "SEQEDIT, sequence=JC_quarter;\n",
    "    cycle, start=marker_startfodo;\n",
    "ENDEDIT;\n",
    "SEQEDIT, sequence=JC_quarter;\n",
    "    flatten;\n",
    "ENDEDIT;\n",
    "''')"
   ]
  },
  {
   "cell_type": "code",
   "execution_count": null,
   "id": "818b25f3",
   "metadata": {},
   "outputs": [],
   "source": [
    "madx.use(sequence='JC_quarter')"
   ]
  },
  {
   "cell_type": "code",
   "execution_count": null,
   "id": "38864dfb",
   "metadata": {},
   "outputs": [],
   "source": [
    "madx.command.savebeta(label='start_JC', place='#S')"
   ]
  },
  {
   "cell_type": "code",
   "execution_count": null,
   "id": "bde43402",
   "metadata": {},
   "outputs": [],
   "source": [
    "twiss = madx.twiss()"
   ]
  },
  {
   "cell_type": "code",
   "execution_count": null,
   "id": "f29aa267",
   "metadata": {},
   "outputs": [],
   "source": [
    "twiss['betx'][0], twiss['alfx'][0], twiss['dx'][0]"
   ]
  },
  {
   "cell_type": "markdown",
   "id": "af9bba37",
   "metadata": {},
   "source": [
    "Validate the start values with a non-periodic Twiss calculation and observe the optics:"
   ]
  },
  {
   "cell_type": "code",
   "execution_count": null,
   "id": "9bd09bb7",
   "metadata": {},
   "outputs": [],
   "source": [
    "madx.twiss(beta0='start_JC');"
   ]
  },
  {
   "cell_type": "code",
   "execution_count": null,
   "id": "3bf04feb",
   "metadata": {},
   "outputs": [],
   "source": [
    "plt.figure(figsize=(8, 5))\n",
    "plt.plot(twiss['s'], twiss['betx'], label=r'$\\beta_x$', color='black')\n",
    "plt.plot(twiss['s'], twiss['bety'], label=r'$\\beta_y$', color='red')\n",
    "plt.xlabel('Path length $s$ [m]')\n",
    "plt.ylabel(r'Beta function $\\beta_{x,y}$ [m]')\n",
    "plt.legend();\n",
    "plt.xlim(15000,20000)"
   ]
  },
  {
   "cell_type": "code",
   "execution_count": null,
   "id": "3584ab5b",
   "metadata": {},
   "outputs": [],
   "source": [
    "plt.figure(figsize=(8, 5))\n",
    "plt.plot(twiss['s'], twiss['Dx'], label=r'$D_x$', color='green')\n",
    "plt.xlabel('Path length $s$ [m]')\n",
    "plt.ylabel(r'Dispersion function $D_x$ [m]')\n",
    "plt.legend();\n",
    "plt.xlim(15000,20000)"
   ]
  },
  {
   "cell_type": "markdown",
   "id": "0de2b3a1",
   "metadata": {},
   "source": [
    "This matching command uses expressions to tailor the constraints. Expressions allow to access values of the Twiss calculations performed during the matching run. Besides the tunes, the 3rd and 4th constraint require the same values of the beta function at the beginning and at the end of one straight cell to obtain a periodic solution in the straight section. The following constraints target the end of the sequence, where the start values need to be restored in order to obtain an overall periodic solution.<br>\n",
    "Because of the large number of constraints and variables, the matching needs to be done in two steps as indicated in the MAD-X code:"
   ]
  },
  {
   "cell_type": "code",
   "execution_count": null,
   "id": "6d7b5a1b",
   "metadata": {},
   "outputs": [],
   "source": [
    "madx.input('''\n",
    "match,use_macro;\n",
    "    vary, name=K1QDDS1, step=1.0E-8;\n",
    "    vary, name=K1QDDS2, step=1.0E-8;\n",
    "    vary, name=K1QFDS1, step=1.0E-8;\n",
    "    vary, name=K1QFDS2, step=1.0E-8;\n",
    "!\n",
    "    vary, name=k1qfs,   step=1.0E-8;\n",
    "    vary, name=k1qds,   step=1.0E-8;\n",
    "!\n",
    "    vary, name=K1QDMS1, step=1.0E-8;\n",
    "    vary, name=K1QDMS2, step=1.0E-8;\n",
    "    vary, name=K1QDMS3, step=1.0E-8;\n",
    "    vary, name=K1QFMS1, step=1.0E-8;\n",
    "    vary, name=K1QFMS2, step=1.0E-8;\n",
    "!\n",
    "calc_twiss : macro= { USE,sequence= JC_quarter; TWISS, beta0=start_JC; };\n",
    "!\n",
    "    constraint, weight=10, expr=table(summ,q1)=0.25*tuneToBeX;\n",
    "    constraint, weight=10, expr=table(summ,q2)=0.25*tuneToBeY;\n",
    "!\n",
    "    constraint, weight= 1, expr=table(twiss,marker_s2,betx)-table(twiss,marker_s1,betx)=0;\n",
    "    constraint, weight= 1, expr=table(twiss,marker_s2,bety)-table(twiss,marker_s1,bety)=0;\n",
    "!\n",
    "    constraint, weight=10, expr=table(twiss,marker_startfodo2,betx)=start_JC->betx;\n",
    "    constraint, weight=10, expr=table(twiss,marker_startfodo2,bety)=start_JC->bety;\n",
    "!\n",
    "    jacobian, calls=20, tolerance=1.0E-11, bisec=3;\n",
    "endmatch;\n",
    "''')"
   ]
  },
  {
   "cell_type": "code",
   "execution_count": null,
   "id": "d138ae44-f5dc-448c-b953-32eea481b47d",
   "metadata": {},
   "outputs": [],
   "source": [
    "madx.twiss();"
   ]
  },
  {
   "cell_type": "code",
   "execution_count": null,
   "id": "1ffc3c4d-ddf7-4f00-b796-bcec16e2d008",
   "metadata": {},
   "outputs": [],
   "source": [
    "madx.input('''\n",
    "match,use_macro;\n",
    "    vary, name=K1QDDS1, step=1.0E-8;\n",
    "    vary, name=K1QDDS2, step=1.0E-8;\n",
    "    vary, name=K1QFDS1, step=1.0E-8;\n",
    "    vary, name=K1QFDS2, step=1.0E-8;\n",
    "!\n",
    "    vary, name=k1qfs,   step=1.0E-8;\n",
    "    vary, name=k1qds,   step=1.0E-8;\n",
    "!\n",
    "    vary, name=K1QDMS1, step=1.0E-8;\n",
    "    vary, name=K1QDMS2, step=1.0E-8;\n",
    "    vary, name=K1QDMS3, step=1.0E-8;\n",
    "    vary, name=K1QFMS1, step=1.0E-8;\n",
    "    vary, name=K1QFMS2, step=1.0E-8;\n",
    "!\n",
    "calc_twiss : macro= { USE,sequence= JC_quarter; TWISS, beta0=start_JC; };\n",
    "!\n",
    "    constraint, weight=10, expr=table(summ,q1)=0.25*tuneToBeX;\n",
    "    constraint, weight=10, expr=table(summ,q2)=0.25*tuneToBeY;\n",
    "!\n",
    "    constraint, weight= 1, expr=table(twiss,marker_s2,betx)-table(twiss,marker_s1,betx)=0;\n",
    "    constraint, weight= 1, expr=table(twiss,marker_s2,bety)-table(twiss,marker_s1,bety)=0;\n",
    "!\n",
    "    constraint, weight=10, expr=table(twiss,marker_startfodo2,betx)=start_JC->betx;\n",
    "    constraint, weight=10, expr=table(twiss,marker_startfodo2,bety)=start_JC->bety;\n",
    "!\n",
    "    constraint, weight=10, expr=table(twiss,marker_startfodo2,alfx)=start_JC->alfx;\n",
    "    constraint, weight=10, expr=table(twiss,marker_startfodo2,alfy)=start_JC->alfy;\n",
    "    constraint, weight=10, expr=table(twiss,marker_startfodo2,dx)=start_JC->dx;\n",
    "    constraint, weight=10, expr=table(twiss,marker_startfodo2,dy)=start_JC->dy;\n",
    "    constraint, weight=10, expr=table(twiss,marker_startfodo2,dpx)=start_JC->dpx;\n",
    "    constraint, weight=10, expr=table(twiss,marker_startfodo2,dpy)=start_JC->dpy;\n",
    "!\n",
    "    jacobian, calls=20, tolerance=1.0E-11, bisec=3;\n",
    "endmatch;\n",
    "''')"
   ]
  },
  {
   "cell_type": "code",
   "execution_count": null,
   "id": "9fcd4e52",
   "metadata": {},
   "outputs": [],
   "source": [
    "twiss = madx.twiss();\n",
    "# madx.twiss(beta0='start_JC');"
   ]
  },
  {
   "cell_type": "code",
   "execution_count": null,
   "id": "a7ed8480",
   "metadata": {},
   "outputs": [],
   "source": [
    "madx.command.value('0.25*tuneToBeX, 0.25*tuneToBeY')"
   ]
  },
  {
   "cell_type": "code",
   "execution_count": null,
   "id": "472cf01a",
   "metadata": {},
   "outputs": [],
   "source": [
    "plt.figure(figsize=(8, 5))\n",
    "plt.plot(twiss['s'], twiss['betx'], label=r'$\\beta_x$', color='black')\n",
    "plt.plot(twiss['s'], twiss['bety'], label=r'$\\beta_y$', color='red')\n",
    "plt.xlabel('Path length $s$ [m]')\n",
    "plt.ylabel(r'Beta function $\\beta_{x,y}$ [m]')\n",
    "plt.legend();\n",
    "plt.xlim(15000,20000)"
   ]
  },
  {
   "cell_type": "code",
   "execution_count": null,
   "id": "d42fc62a",
   "metadata": {},
   "outputs": [],
   "source": [
    "plt.figure(figsize=(8, 5))\n",
    "plt.plot(twiss['s'], twiss['Dx'], label=r'$D_x$', color='green')\n",
    "plt.xlabel('Path length $s$ [m]')\n",
    "plt.ylabel(r'Dispersion function $D_x$ [m]')\n",
    "plt.legend();\n",
    "plt.xlim(15000,20000)"
   ]
  },
  {
   "cell_type": "markdown",
   "id": "c4b6a651",
   "metadata": {},
   "source": [
    "### <span style=\"color:#af0000;\">GURU mode off! </span>\n",
    "\n",
    "Returning to interactive mode! :-)\n",
    "\n",
    "---"
   ]
  },
  {
   "cell_type": "markdown",
   "id": "f3471430",
   "metadata": {},
   "source": [
    "Now, reload the full storage ring and calculate tunes and chromaticity again."
   ]
  },
  {
   "cell_type": "code",
   "execution_count": null,
   "id": "534104f4",
   "metadata": {},
   "outputs": [],
   "source": [
    "madx.use(sequence='JC')"
   ]
  },
  {
   "cell_type": "code",
   "execution_count": null,
   "id": "9d3e62e9",
   "metadata": {},
   "outputs": [],
   "source": [
    "twiss = madx.twiss()"
   ]
  },
  {
   "cell_type": "markdown",
   "id": "1b969993",
   "metadata": {},
   "source": [
    "As a next step, we need to match the chromaticity again."
   ]
  },
  {
   "cell_type": "markdown",
   "id": "bc65fe57",
   "metadata": {},
   "source": [
    "First, switch off the sextupoles and calculate the natural chromaticity of your storage ring. Can you confirm the relation $\\mathcal{O}(\\xi)\\approx - Q$?"
   ]
  },
  {
   "cell_type": "code",
   "execution_count": null,
   "id": "109b4bbd",
   "metadata": {},
   "outputs": [],
   "source": [
    "madx.input('''\n",
    "    k2sf=0;\n",
    "    k2sd=0;\n",
    "''')"
   ]
  },
  {
   "cell_type": "code",
   "execution_count": null,
   "id": "2048912e",
   "metadata": {},
   "outputs": [],
   "source": [
    "madx.twiss();"
   ]
  },
  {
   "cell_type": "markdown",
   "id": "d7688555",
   "metadata": {},
   "source": [
    "Second, rematch the chromaticities. What value do you choose and why? (Think about instabilities and collective effects.)"
   ]
  },
  {
   "cell_type": "code",
   "execution_count": null,
   "id": "e37a8110",
   "metadata": {},
   "outputs": [],
   "source": [
    "madx.input('''\n",
    "match, sequence = JC;\n",
    "    global, dq1 = [...];\n",
    "    global, dq2 = [...];\n",
    "    vary, name=k2sf,  step=1.0E-10 ;  \n",
    "    vary, name=k2sd,  step=1.0E-10 ;\n",
    "    jacobian,calls=20,tolerance=1.e-15,bisec=3;\n",
    "endmatch;\n",
    "''')"
   ]
  },
  {
   "cell_type": "code",
   "execution_count": null,
   "id": "55704fb1",
   "metadata": {},
   "outputs": [],
   "source": [
    "madx.twiss();"
   ]
  },
  {
   "cell_type": "markdown",
   "id": "aa19b976",
   "metadata": {},
   "source": [
    "### <span style=\"color:blue;\">f) Calculate and save the synchrotron radiation integrals of your storage ring for analytical calculations later</span>"
   ]
  },
  {
   "cell_type": "code",
   "execution_count": null,
   "id": "83627664",
   "metadata": {},
   "outputs": [],
   "source": [
    "twiss = madx.twiss(chrom=True)"
   ]
  },
  {
   "cell_type": "code",
   "execution_count": null,
   "id": "fc460bf3",
   "metadata": {},
   "outputs": [],
   "source": [
    "SRI1 = twiss.summary.synch_1\n",
    "SRI2 = twiss.summary.synch_2\n",
    "SRI3 = twiss.summary.synch_3\n",
    "SRI4 = twiss.summary.synch_4\n",
    "SRI5 = twiss.summary.synch_5"
   ]
  },
  {
   "cell_type": "markdown",
   "id": "cf2c6a30",
   "metadata": {},
   "source": [
    "$\\,$\n",
    "\n",
    "$\\,$\n",
    "\n",
    "## 4. RF sections"
   ]
  },
  {
   "cell_type": "markdown",
   "id": "50a4cc8a",
   "metadata": {},
   "source": [
    "## <span style=\"color:#af0000;\">Let it shine! ;-)</span>"
   ]
  },
  {
   "cell_type": "markdown",
   "id": "46bb4bf4",
   "metadata": {},
   "source": [
    "Before including radiation effects, RF cavities need to be defined and installed in the lattice.\n",
    "In this exercise we use an RF system designed for FCC-ee. It uses 400 MHz cavities that consist of four cells with a length of 0.375 m each.\n",
    "What is the overall voltage you assume to guarantee stable operation?"
   ]
  },
  {
   "cell_type": "markdown",
   "id": "405c7fc4",
   "metadata": {},
   "source": [
    "The energy gain in the cavity is given by "
   ]
  },
  {
   "cell_type": "markdown",
   "id": "4dfb1e2e",
   "metadata": {},
   "source": [
    "$$U = eV_{RF} \\sin{(2\\pi (\\phi-hf_0t))},$$"
   ]
  },
  {
   "cell_type": "markdown",
   "id": "477e4f1e",
   "metadata": {},
   "source": [
    "where $\\phi$ is the phase lag (\"synchronous phase\"), $h$ the harmonic number of the ring, and  $f_0$ the cavity frequency."
   ]
  },
  {
   "cell_type": "markdown",
   "id": "1058074a-b2e8-427e-8713-62b8af6f0acf",
   "metadata": {},
   "source": [
    "### a) Estimate the total RF voltage which is needed to compensate the synchrotron radiation energy loss."
   ]
  },
  {
   "cell_type": "code",
   "execution_count": null,
   "id": "13c129b5",
   "metadata": {},
   "outputs": [],
   "source": [
    "VRF = [...]\n",
    "\n",
    "madx.input(f'''\n",
    "    switch_RF_on = 0;    ! this switch allows to set the cavity voltage to Zero\n",
    "    VRF  = {VRF};        ! overall voltage of all cavities\n",
    "    LGRF = 0.5;          ! phase lag \n",
    "    numberOfCav400 = 160;\n",
    "\n",
    "    ! 400 MHz system\n",
    "    LCAVcell400         = 0.375;\n",
    "    harmonic400         = 114746;\n",
    "    numberOfCellsCav400 = 4;\n",
    "    Vcell400           := VRF / numberOfCav400 / numberOfCellsCav400 * switch_RF_on;                ! = [...] MV\n",
    "    LGRF400            := cos(switch_RF_on * pi / 2) / 2 + sin(switch_RF_on * pi / 2) * LGRF;       ! = 0.5, if RF switched off, and LGRF, if RF switched on\n",
    "\n",
    "    CAVcell400: RFCAVITY, L:=LCAVcell400, VOLT:=Vcell400, HARMON:=harmonic400, LAG:=LGRF400;\n",
    "\n",
    "CavModule : SEQUENCE, refer=centre, L=numberOfCellsCav400 + 0.5 * (numberOfCellsCav400 - 1) * LCAVcell400;\n",
    "    CAVcell400, at=0.5 * LCAVcell400;\n",
    "    CAVcell400, at=2.0 * LCAVcell400;\n",
    "    CAVcell400, at=3.5 * LCAVcell400;\n",
    "    CAVcell400, at=5.0 * LCAVcell400;\n",
    "ENDSEQUENCE;\n",
    "''')"
   ]
  },
  {
   "cell_type": "markdown",
   "id": "dc66e844",
   "metadata": {},
   "source": [
    "### <span style=\"color:blue;\">b) Define a straight cell and straight sections that contain RF cavities (please check if the definition is consistent to yours):</span>"
   ]
  },
  {
   "cell_type": "code",
   "execution_count": null,
   "id": "dfd57f3c",
   "metadata": {},
   "outputs": [],
   "source": [
    "madx.input('''\n",
    "JC_fodo_ss_RF : SEQUENCE, REFER=centre, L=Lcell;\n",
    "    MQFS, at=0.5*LQ/2;\n",
    "    CavModule, at = 0.25*Lcell;\n",
    "    MQDS, at=0.5*Lcell-0.5*LQ/2;\n",
    "    MQDS, at=0.5*Lcell+0.5*LQ/2;\n",
    "    CavModule, at=0.75*Lcell;\n",
    "    MQFS, at=Lcell-0.5*LQ/2;\n",
    "ENDSEQUENCE;\n",
    "''')"
   ]
  },
  {
   "cell_type": "markdown",
   "id": "4b6a566b",
   "metadata": {},
   "source": [
    "Define a straight section and the full collider lattice as above but including RF cavities:"
   ]
  },
  {
   "cell_type": "code",
   "execution_count": null,
   "id": "60603d02",
   "metadata": {},
   "outputs": [],
   "source": [
    "madx.input('''\n",
    "option, -info;\n",
    "j=0;\n",
    "JC_ss_RF : SEQUENCE, refer=centre, L=LSS; \n",
    "    JC_msl, at = LMS/2;\n",
    "    while (j<numberOfStraightCells)\t{\n",
    "        JC_fodo_ss_RF,  at = LMS + (j+0.5)*Lcell;\n",
    "        j=j+1;\n",
    "    }\n",
    "    JC_msr, at =numberOfStraightCells*Lcell+1.5*LMS;\n",
    "ENDSEQUENCE;\n",
    "option, info;\n",
    "\n",
    "JC_quarter_RF : sequence, refer=centre, L=Larc+Lss;\n",
    "    JC_ss_RF, at=0.5*Lss;\n",
    "    JC_arc, at = Lss+0.5*Larc;\n",
    "ENDSEQUENCE;\n",
    "\n",
    "JC_RF : SEQUENCE, refer=centre, L=LJC;\n",
    "    JC_arc, at = 0.5*Larc;\n",
    "    JC_ss_RF, at = 1.0*Larc+0.5*Lss;\n",
    "    JC_arc, at = 1.5*Larc+Lss;\n",
    "    JC_ss_RF, at = 2.0*Larc+1.5*Lss;\n",
    "    JC_arc, at = 2.5*Larc+2*Lss;\n",
    "    JC_ss_RF, at = 3.0*Larc+2.5*Lss;\n",
    "    JC_arc, at = 3.5*Larc+3*LSS;\n",
    "    JC_ss_RF, at = 4.0*Larc+3.5*Lss;\n",
    "ENDSEQUENCE;\n",
    "''')"
   ]
  },
  {
   "cell_type": "markdown",
   "id": "067fec50-c37c-4329-9da0-d4752d53fd30",
   "metadata": {},
   "source": [
    "### <span style=\"color:blue;\">c) Switch on radiation and observe tunes and chromaticities</span>"
   ]
  },
  {
   "cell_type": "code",
   "execution_count": null,
   "id": "7e26f8f2",
   "metadata": {},
   "outputs": [],
   "source": [
    "madx.command.beam(radiate=True)"
   ]
  },
  {
   "cell_type": "markdown",
   "id": "e2079450",
   "metadata": {},
   "source": [
    "Switch on RF system. Start with w phase lag of 0.5, otherwise calculate the required value you need from the equation for the energy gain."
   ]
  },
  {
   "cell_type": "code",
   "execution_count": null,
   "id": "9f1f6cfe",
   "metadata": {},
   "outputs": [],
   "source": [
    "madx.input('''\n",
    "    switch_RF_on = 1;\n",
    "    lgrf = 0.5;\n",
    "''')"
   ]
  },
  {
   "cell_type": "markdown",
   "id": "df9a1428",
   "metadata": {},
   "source": [
    "Try a first Twiss calculation including radiation effects:"
   ]
  },
  {
   "cell_type": "code",
   "execution_count": null,
   "id": "adeb83a3",
   "metadata": {},
   "outputs": [],
   "source": [
    "madx.use(sequence='JC_RF')"
   ]
  },
  {
   "cell_type": "code",
   "execution_count": null,
   "id": "c8e8e225",
   "metadata": {},
   "outputs": [],
   "source": [
    "madx.twiss();"
   ]
  },
  {
   "cell_type": "markdown",
   "id": "498609ed",
   "metadata": {},
   "source": [
    "What happened to tunes, chromaticities and horizontal orbit? Can you explain?"
   ]
  },
  {
   "cell_type": "code",
   "execution_count": null,
   "id": "969a5332",
   "metadata": {},
   "outputs": [],
   "source": [
    "plt.figure(figsize=(8, 5))\n",
    "plt.plot(twiss['s'], twiss['betx'], label=r'$\\beta_x$', color='black')\n",
    "plt.plot(twiss['s'], twiss['bety'], label=r'$\\beta_y$', color='red')\n",
    "plt.xlabel('Path length $s$ [m]')\n",
    "plt.ylabel(r'Beta function $\\beta_{x,y}$ [m]')\n",
    "plt.legend();\n",
    "# plt.xlim(15000,20000)"
   ]
  },
  {
   "cell_type": "code",
   "execution_count": null,
   "id": "995d1a68",
   "metadata": {},
   "outputs": [],
   "source": [
    "plt.figure(figsize=(8, 5))\n",
    "plt.plot(twiss['s'], twiss['Dx'], label=r'$D_x$', color='green')\n",
    "plt.xlabel('Path length $s$ [m]')\n",
    "plt.ylabel(r'Dispersion function $D_x$ [m]')\n",
    "plt.legend();\n",
    "# plt.xlim(65000,75000)"
   ]
  },
  {
   "cell_type": "markdown",
   "id": "5d009b7a",
   "metadata": {},
   "source": [
    "First we have to match the energy gain in our cavities to make sure we receive as much energy as we lose due to synchrotron radiation:"
   ]
  },
  {
   "cell_type": "code",
   "execution_count": null,
   "id": "9eb666e8",
   "metadata": {},
   "outputs": [],
   "source": [
    "madx.input('''\n",
    "match, sequence=JC_RF;\n",
    "    vary, name = lgrf, step=1.0E-6;\n",
    "    constraint, sequence=JC_RF, range = #E, T=0;\n",
    "    jacobian, calls=30, tolerance=1.E-22, strategy=3;\n",
    "endmatch;\n",
    "''')"
   ]
  },
  {
   "cell_type": "code",
   "execution_count": null,
   "id": "3288e7f1",
   "metadata": {},
   "outputs": [],
   "source": [
    "madx.twiss();"
   ]
  },
  {
   "cell_type": "markdown",
   "id": "ced96311",
   "metadata": {},
   "source": [
    "As a next step we rematch tunes and chromaticities. Since we have a big beta beat, we do not use the complicated matching command from above."
   ]
  },
  {
   "cell_type": "code",
   "execution_count": null,
   "id": "c0523980",
   "metadata": {},
   "outputs": [],
   "source": [
    "madx.input('''\n",
    "match, sequence = JC_RF;\n",
    "    global, q1=tuneToBeX;\n",
    "    global, q2=tuneToBeY;\n",
    "    global, dq1=2;\n",
    "    global, dq2=2;\n",
    "    vary, name=k1qfs,  step=1.0E-10 ;  \n",
    "    vary, name=k1qds,  step=1.0E-10 ;\n",
    "    vary, name=k2sf,  step=1.0E-10 ;  \n",
    "    vary, name=k2sd,  step=1.0E-10 ;\n",
    "    jacobian,calls=20,tolerance=1.e-15,bisec=3;\n",
    "endmatch;\n",
    "''')"
   ]
  },
  {
   "cell_type": "code",
   "execution_count": null,
   "id": "67977bb8",
   "metadata": {},
   "outputs": [],
   "source": [
    "twiss = madx.twiss()"
   ]
  },
  {
   "cell_type": "code",
   "execution_count": null,
   "id": "475cc5a3",
   "metadata": {},
   "outputs": [],
   "source": [
    "plt.figure(figsize=(8, 5))\n",
    "plt.plot(twiss['s'], twiss['betx'], label=r'$\\beta_x$', color='black')\n",
    "plt.plot(twiss['s'], twiss['bety'], label=r'$\\beta_y$', color='red')\n",
    "plt.xlabel('Path length $s$ [m]')\n",
    "plt.ylabel(r'Beta function $\\beta_{x,y}$ [m]')\n",
    "plt.legend();\n",
    "# plt.xlim(15000,20000)"
   ]
  },
  {
   "cell_type": "code",
   "execution_count": null,
   "id": "5474988a",
   "metadata": {},
   "outputs": [],
   "source": [
    "plt.figure(figsize=(8, 5))\n",
    "plt.plot(twiss['s'], twiss['Dx'], label=r'$D_x$', color='green')\n",
    "plt.xlabel('Path length $s$ [m]')\n",
    "plt.ylabel(r'Dispersion function $D_x$ [m]')\n",
    "plt.legend();\n",
    "# plt.xlim(65000,75000)"
   ]
  },
  {
   "cell_type": "markdown",
   "id": "8e4262ec",
   "metadata": {},
   "source": [
    "### <span style=\"color:blue;\">d) Observe the transverse orbit. Can you explain the pattern you see?</span>"
   ]
  },
  {
   "cell_type": "code",
   "execution_count": null,
   "id": "b2b9b5bb",
   "metadata": {},
   "outputs": [],
   "source": [
    "plt.figure(figsize=(8, 5))\n",
    "plt.plot(twiss['s'], twiss['x'], label=r'$x$', color='black')\n",
    "plt.xlabel('Path length $s$ [m]')\n",
    "plt.ylabel(r'Horizontal orbit $x$ [m]')\n",
    "plt.legend();\n",
    "# plt.xlim(15000,20000)"
   ]
  },
  {
   "cell_type": "markdown",
   "id": "5459a5e0",
   "metadata": {},
   "source": [
    "This effect has already been observed in LEP measurements at the time:\n",
    "\n",
    "![sawtooth orbit](sawtooth.png)"
   ]
  },
  {
   "cell_type": "markdown",
   "id": "98fd803a",
   "metadata": {},
   "source": [
    "### <span style=\"color:blue;\">e) Calculate the equilibrium beam parameters with the MAD-X emit command</span>"
   ]
  },
  {
   "cell_type": "code",
   "execution_count": null,
   "id": "c8ea2b32",
   "metadata": {},
   "outputs": [],
   "source": [
    "madx.emit();"
   ]
  },
  {
   "cell_type": "markdown",
   "id": "c3049397",
   "metadata": {},
   "source": [
    "Compare the results from emit with the anaytically calculated values:"
   ]
  },
  {
   "cell_type": "code",
   "execution_count": null,
   "id": "85dc7c87",
   "metadata": {},
   "outputs": [],
   "source": [
    "epsilon_x_SRI = C_q*gamma_L**2/J_x*SRI5/SRI2\n",
    "U0_SRI = 8.846e-5/2/np.pi*175**4*SRI2 # in GeV\n",
    "alpha_c_SRI = SRI1/twiss.summary.length\n",
    "dp_p_SRI = np.sqrt(C_q * gamma_L**2 * SRI3 / (2 * SRI2 + SRI4))\n",
    "J_x_SRI = 1-SRI4/SRI2\n",
    "J_s_SRI = 2+SRI4/SRI2\n",
    "\n",
    "epsilon_x_SRI, U0_SRI, alpha_c_SRI,dp_p_SRI,J_x_SRI,J_s_SRI"
   ]
  },
  {
   "cell_type": "markdown",
   "id": "f6512e04-45a4-4364-8012-c860c98511d6",
   "metadata": {},
   "source": [
    "### <span style=\"color:blue;\">f) How many particles and bunches can you fill into the ring before you reach the limit of synchrotron radiation power?</span>"
   ]
  },
  {
   "cell_type": "code",
   "execution_count": null,
   "id": "9253d6d1-14eb-48f4-89c4-6414110b5b20",
   "metadata": {},
   "outputs": [],
   "source": []
  },
  {
   "cell_type": "markdown",
   "id": "43697c16",
   "metadata": {},
   "source": [
    "$\\,$\n",
    "\n",
    "$\\,$\n",
    "\n",
    "## 5. If time permits: mini-beta insertions\n",
    "\n",
    "\n",
    "### <span style=\"color:blue;\">a) Calculate the required values for $\\beta^*$ or get them from colleagues (groups working on the general parameters topic I).</span>\n",
    "\n",
    "### <span style=\"color:blue;\">b) Include two mini-beta insertions into your MAD-X model and match the optics.</span>\n",
    "\n",
    "### <span style=\"color:blue;\">c) How do you distribute the mini-beta insertions and why?</span>"
   ]
  },
  {
   "cell_type": "code",
   "execution_count": null,
   "id": "0ccee5e3",
   "metadata": {},
   "outputs": [],
   "source": []
  }
 ],
 "metadata": {
  "kernelspec": {
   "display_name": "Python 3 (ipykernel)",
   "language": "python",
   "name": "python3"
  },
  "language_info": {
   "codemirror_mode": {
    "name": "ipython",
    "version": 3
   },
   "file_extension": ".py",
   "mimetype": "text/x-python",
   "name": "python",
   "nbconvert_exporter": "python",
   "pygments_lexer": "ipython3",
   "version": "3.8.10"
  }
 },
 "nbformat": 4,
 "nbformat_minor": 5
}
