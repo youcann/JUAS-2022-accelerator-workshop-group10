{
 "cells": [
  {
   "cell_type": "markdown",
   "id": "ca1176a8",
   "metadata": {},
   "source": [
    "# JUAS'22 Accelerator Design Topic III: Lattice Design"
   ]
  },
  {
   "cell_type": "markdown",
   "id": "069cb82d",
   "metadata": {},
   "source": [
    "The goal of this mini-workshop is to apply the knowledge gained during this school to a realistic problem. The task is to design a particle accelerator with certain specifications and boundary conditions. The idea is to gain experience how such a big task is tackled and organised.\n",
    "There are ten groups of three persons each. We offer three topics, that look at the same problem from slightly different angles and with different emphasis."
   ]
  },
  {
   "cell_type": "markdown",
   "id": "7158ef02",
   "metadata": {},
   "source": [
    "**Scope: design a top factory for precision measurements.**\n",
    "Design a particle collider (the *JUAS Collider*) for precision measurements of the top quark mass at the $t\\bar{t}$-threshold.\n",
    "The circumference must not exceed 100 km and the maximum synchrotron radiation power is limited to 50 MW per beam.\n",
    "Per year at least 100000 $t\\bar{t}$ pairs should be produced for sufficient statistics."
   ]
  },
  {
   "cell_type": "markdown",
   "id": "5a1b1ed7",
   "metadata": {},
   "source": [
    "*Hint:* Should your calculation crash, it is useful to restart the notebook kernel and re-run all previous cells (\"Cell $\\rightarrow$ Run All Above\")."
   ]
  },
  {
   "cell_type": "code",
   "execution_count": 1,
   "id": "9717464a",
   "metadata": {},
   "outputs": [],
   "source": [
    "import numpy as np\n",
    "\n",
    "import sys, os\n",
    "\n",
    "from cpymad.madx import Madx\n",
    "from matplotlib import pyplot as plt\n",
    "\n",
    "%matplotlib inline\n",
    "import seaborn as sns\n",
    "sns.set_context('talk', font_scale=1.2, rc={'lines.linewidth': 3})\n",
    "sns.set_style('ticks',\n",
    "              {'grid.linestyle': 'none', 'axes.edgecolor': '0',\n",
    "               'axes.linewidth': 1.2, 'legend.frameon': True,\n",
    "               'xtick.direction': 'out', 'ytick.direction': 'out',\n",
    "               'xtick.top': True, 'ytick.right': True,\n",
    "              })"
   ]
  },
  {
   "cell_type": "code",
   "execution_count": 2,
   "id": "dbdf1687",
   "metadata": {},
   "outputs": [
    {
     "name": "stdout",
     "output_type": "stream",
     "text": [
      "\n",
      "  ++++++++++++++++++++++++++++++++++++++++++++\n",
      "  +     MAD-X 5.07.00  (64 bit, Linux)       +\n",
      "  + Support: mad@cern.ch, http://cern.ch/mad +\n",
      "  + Release   date: 2021.05.03               +\n",
      "  + Execution date: 2022.02.03 14:21:38      +\n",
      "  ++++++++++++++++++++++++++++++++++++++++++++\n"
     ]
    }
   ],
   "source": [
    "madx = Madx(stdout=True)"
   ]
  },
  {
   "cell_type": "markdown",
   "id": "aed59b62",
   "metadata": {},
   "source": [
    "*Comment:* You find the MAD-X documentation here: https://mad.web.cern.ch/mad/"
   ]
  },
  {
   "cell_type": "markdown",
   "id": "17caa2a1",
   "metadata": {},
   "source": [
    "## Exercise summary"
   ]
  },
  {
   "cell_type": "markdown",
   "id": "cd3a36f6",
   "metadata": {},
   "source": [
    "1) Design basic cell according to beam requirements<br />\n",
    "2) Implement a MAD-X model of your basic cell, close the ring and calculate SR integrals and equilibrium beam parameters<br />\n",
    "3) Include dispersion suppressors and straight sections to your model and match optics<br />\n",
    "4) Include RF cavities and calculate equilibrium beam parameters with MAD-X<br />\n",
    "5) Optional: include mini-beta insertion and match optics."
   ]
  },
  {
   "cell_type": "markdown",
   "id": "a496cb5c",
   "metadata": {},
   "source": [
    "### Note: this notebook embeds the structure to solve the exercises. \n",
    "\n",
    "$\\implies$ You need to fill in the gaps indicated with \"[...]\" to make it work.\n",
    "\n",
    "Also note that, at the end of the course, you are expected to present a well-prepared set of slides during the examination, suitable to show to the other groups working on different topics. You may use this notebook to compute all the results, however, the notebook itself should <b><u>not</u></b> be used in the presentation."
   ]
  },
  {
   "cell_type": "markdown",
   "id": "f7c7eb1f",
   "metadata": {},
   "source": [
    "## 1. Assume following boundary conditions"
   ]
  },
  {
   "cell_type": "markdown",
   "id": "0ef687aa",
   "metadata": {},
   "source": [
    "- Beam energy: $E=175$ GeV<br />\n",
    "- Horizontal equilibrium emittance: $\\epsilon_x = 1.3$ nm rad<br />\n",
    "- Damping partition number: $J_x =1$<br />\n",
    "- A maximum circumference of 100 km<br />\n",
    "- Maximum synchrotron radiation power: $P = 50$ MW per beam<br />\n",
    "- The basic cell should have the same phase advance in both planes.<br />"
   ]
  },
  {
   "cell_type": "markdown",
   "id": "559f7239",
   "metadata": {},
   "source": [
    "## 2. Design of basic arc cell"
   ]
  },
  {
   "cell_type": "markdown",
   "id": "5d95cf87",
   "metadata": {},
   "source": [
    "### <span style=\"color:blue;\">a) What lattice type do you choose, and why?</span>"
   ]
  },
  {
   "cell_type": "markdown",
   "id": "85515299",
   "metadata": {},
   "source": [
    "We should dessign a FODO cell\n",
    "- Less expensive: There are \"few\" elements\n",
    "- Top quark is very energetic, and so we need as many dipole magnets as possible (very big beam rigidity needed). Ideally we would need only dipoles, but some focusing is needed and it can be achieved with quadrupoles --> FODO\n",
    "- FODO only requires one focusing and defocusing quadrupoles, and in between we can put whatever we want: Bending dipoles.\n",
    "- Other dessigns are optimized for chromaticity correction and so many quadrupoles are needed - therefore less space for dipoles."
   ]
  },
  {
   "cell_type": "markdown",
   "id": "b16f0bfa",
   "metadata": {},
   "source": [
    "### <span style=\"color:blue;\">b) What phase advance per cell do you choose, and why?</span>"
   ]
  },
  {
   "cell_type": "markdown",
   "id": "7e356764",
   "metadata": {},
   "source": [
    "Precisión colliders requiere leptons (elementary particle itself) to collide and not hadrons (which are \"made of\" many sub-particles). Therefore, providing a 175GeV energy to electrons will allow us to make better profit of that energy, i.e our mesurement will be more precise. "
   ]
  },
  {
   "cell_type": "code",
   "execution_count": 3,
   "id": "98022fc1",
   "metadata": {},
   "outputs": [],
   "source": [
    "# phase advance per cell in radian\n",
    "mu_x = np.pi/2\n",
    "mu_y = np.pi/2"
   ]
  },
  {
   "cell_type": "markdown",
   "id": "4feec866",
   "metadata": {},
   "source": [
    "### <span style=\"color:blue;\">c) Think  about  the  layout  of  your  basic  cell:  cell  length,  length  of  magnetic  elements,  dipole  filling factor.</span>"
   ]
  },
  {
   "cell_type": "markdown",
   "id": "5ac041c1",
   "metadata": {},
   "source": [
    "*Hint:*  Start with a cell length in the range from 50 m to 60 m."
   ]
  },
  {
   "cell_type": "code",
   "execution_count": 4,
   "id": "d901f11f",
   "metadata": {},
   "outputs": [],
   "source": [
    "Lcell = 60  # cell length in m\n",
    "LB    = 12  # length of bending magnets in m\n",
    "LQ    = 1  # length of quadrupole magnets in m\n",
    "LS    = 1  # length of sextupole magnets in m - to be placed after quads because dispersion is longer and therefore the correction is more effective.\n",
    "# This configuration leaves only cm of drifts between magnets - could be an issue \n",
    "# 48/60 = 0.80 filling factor"
   ]
  },
  {
   "cell_type": "markdown",
   "id": "5c75cfdb",
   "metadata": {},
   "source": [
    "### <span style=\"color:blue;\">d) Calculate the bending angle for your dipoles in order to match the required equilibrium emittance.</span>\n",
    "\n",
    "The equilibrium emittance can be approximately calculated using following equation:\n",
    "$$\\epsilon_x = %\\frac{C_{\\text{q}}}{J_x} \\gamma^2\\theta^3 \\frac{\\rho^2}{l_{\\text{B}^3}} \\langle\\mathcal{H}\\rangle = \n",
    "\\frac{C_{\\text{q}}}{J_x} \\gamma^2\\theta^3 F$$\n",
    "$C_{\\text{q}} = \\frac{55}{32\\sqrt{3}}\\frac{\\hbar c}{m_0c^2}=3.832\\times10^{-13}$ m, $J_x\\approx 1$ is the damping partition number, $\\gamma$ the Lorentz factor, and $\\theta$ the bending angle of all dipole magnets in a half-cell. For a FODO cell with phase advance $\\mu$ the factor $F$ can be written as \n",
    "$$F_{\\text{FODO}} = \\frac{1}{2 \\sin\\mu} \\frac{5+3\\cos\\mu}{1-\\cos\\mu} \\frac{L}{l_{\\text{B}}}.$$\n",
    "$L$ is the cell length and $l_{\\text{B}}$ is the length of all dipole magnets in the cell."
   ]
  },
  {
   "cell_type": "code",
   "execution_count": 5,
   "id": "b93f6298",
   "metadata": {},
   "outputs": [
    {
     "data": {
      "text/plain": [
       "0.0013226893212050178"
      ]
     },
     "execution_count": 5,
     "metadata": {},
     "output_type": "execute_result"
    }
   ],
   "source": [
    "epsilon_x = 1.3e-9 # m rad\n",
    "J_x = 1\n",
    "C_q = 3.832e-13 # m\n",
    "gamma_L = 175/0.000511\n",
    "\n",
    "F   = (5+3*np.cos(mu_x))*Lcell/(2*np.sin(mu_x))/(1-np.cos(mu_x))/LB\n",
    "THB = ((epsilon_x * J_x)/( F*C_q*gamma_L*gamma_L ))**(1./3.) # Theta bending\n",
    "THB"
   ]
  },
  {
   "cell_type": "markdown",
   "id": "0f0d0cf8",
   "metadata": {},
   "source": [
    "### <span style=\"color:blue;\">e) Calculate the quadrupole strength $k_1$ using </span>\n",
    "$$\\sin(\\mu/2) = \\frac{L}{4f} \\qquad \\text{and}\\qquad \\frac{1}{f} = k_1 L_{\\text{Q}},$$\n",
    "where $L_Q$ is the length of the quadrupole magnets."
   ]
  },
  {
   "cell_type": "code",
   "execution_count": 6,
   "id": "acccc09e",
   "metadata": {},
   "outputs": [
    {
     "data": {
      "text/plain": [
       "0.04714045207910316"
      ]
     },
     "execution_count": 6,
     "metadata": {},
     "output_type": "execute_result"
    }
   ],
   "source": [
    "invf = np.sin(mu_x/2)*4/Lcell\n",
    "k1 = invf/LQ\n",
    "k1 #1/m^2"
   ]
  },
  {
   "cell_type": "code",
   "execution_count": 7,
   "id": "1f3932d3",
   "metadata": {},
   "outputs": [
    {
     "data": {
      "text/plain": [
       "27.498597046143512"
      ]
     },
     "execution_count": 7,
     "metadata": {},
     "output_type": "execute_result"
    }
   ],
   "source": [
    "g = k1/0.3*175\n",
    "g # [T/m] -- Normal conducting? If it was too high, we would have to make them longer"
   ]
  },
  {
   "cell_type": "markdown",
   "id": "e0fece53",
   "metadata": {},
   "source": [
    "### <span style=\"color:blue;\">f) Define the elements and the basic cell in MAD-X</span>"
   ]
  },
  {
   "cell_type": "code",
   "execution_count": 8,
   "id": "a9790625",
   "metadata": {},
   "outputs": [
    {
     "data": {
      "text/plain": [
       "True"
      ]
     },
     "execution_count": 8,
     "metadata": {},
     "output_type": "execute_result"
    }
   ],
   "source": [
    "inputstring = f'''\n",
    "    LB = {LB};       ! length of bending magnets in m\n",
    "    LQ = {LQ};       ! length of quadrupoles in m \n",
    "    LS = {LS};       ! length of sextupoles in m \n",
    "    Lcell = {Lcell}; ! length of basic cell in m\n",
    "'''\n",
    "madx.input(inputstring)"
   ]
  },
  {
   "cell_type": "code",
   "execution_count": 9,
   "id": "538595b0",
   "metadata": {},
   "outputs": [
    {
     "name": "stdout",
     "output_type": "stream",
     "text": [
      "lcell              =                 60 ;\n"
     ]
    },
    {
     "data": {
      "text/plain": [
       "True"
      ]
     },
     "execution_count": 9,
     "metadata": {},
     "output_type": "execute_result"
    }
   ],
   "source": [
    "madx.input('value, Lcell;')"
   ]
  },
  {
   "cell_type": "code",
   "execution_count": 10,
   "id": "4d6b3956",
   "metadata": {},
   "outputs": [
    {
     "data": {
      "text/plain": [
       "1.0"
      ]
     },
     "execution_count": 10,
     "metadata": {},
     "output_type": "execute_result"
    }
   ],
   "source": [
    "# For when we want to add the drifts\n",
    "N_drift = 8\n",
    "L_drift = (Lcell - 2. * LQ - 2. * LS - 4. * LB) / N_drift\n",
    "# Add N_drifts of length L_drift \n",
    "L_drift"
   ]
  },
  {
   "cell_type": "code",
   "execution_count": 11,
   "id": "708117a2",
   "metadata": {},
   "outputs": [
    {
     "data": {
      "text/plain": [
       "True"
      ]
     },
     "execution_count": 11,
     "metadata": {},
     "output_type": "execute_result"
    }
   ],
   "source": [
    "inputstring = f'''\n",
    "    THB = {THB};\n",
    "!    Ldrift = {L_drift}\n",
    "\n",
    "    K1QF = {k1};\n",
    "    K1QD = {-k1};\n",
    "    \n",
    "    K2SF = 0;\n",
    "    K2SD = 0;\n",
    "'''\n",
    "madx.input(inputstring)"
   ]
  },
  {
   "cell_type": "markdown",
   "id": "34bbf0d3",
   "metadata": {},
   "source": [
    "Definition of the elements:"
   ]
  },
  {
   "cell_type": "code",
   "execution_count": 12,
   "id": "48526a9a",
   "metadata": {},
   "outputs": [
    {
     "data": {
      "text/plain": [
       "True"
      ]
     },
     "execution_count": 12,
     "metadata": {},
     "output_type": "execute_result"
    }
   ],
   "source": [
    "madx.input('''\n",
    "    MB : SBEND, L:=LB, ANGLE:=THB; \n",
    "\n",
    "    MQF: quadrupole, L=LQ, K1:=K1QF;\n",
    "    halfMQF: quadrupole, L:=.5*LQ, K1:=K1QF; \n",
    "    MQD: quadrupole, L=LQ, K1:=K1QD;\n",
    "    halfMQD: quadrupole, L:=.5*LQ, K1:=K1QD;\n",
    "\n",
    "    MSF: sextupole, L=LS, K2:=K2SF;\n",
    "    MSD: sextupole, L=LS, K2:=K2SD; \n",
    "''')"
   ]
  },
  {
   "cell_type": "markdown",
   "id": "56c43740",
   "metadata": {},
   "source": [
    "Sequence definition of arc cell:"
   ]
  },
  {
   "cell_type": "markdown",
   "id": "f9826880",
   "metadata": {},
   "source": [
    "*Hint:* Cut the first quadrupole in half (i.e. define quadrupoles with half the length) and put one at the beginning and one at the end of your sequence. This gives you a symmetric structure."
   ]
  },
  {
   "cell_type": "code",
   "execution_count": 13,
   "id": "7084e025",
   "metadata": {},
   "outputs": [
    {
     "data": {
      "text/plain": [
       "True"
      ]
     },
     "execution_count": 13,
     "metadata": {},
     "output_type": "execute_result"
    }
   ],
   "source": [
    "madx.input('''\n",
    "JC_fodo_arc : SEQUENCE, REFER=centre, L=Lcell;\n",
    "    MQF1: halfMQF, at= .25*LQ;\n",
    "    MSF1: MSF, at= .5 *LQ + .5*LS+1.0;\n",
    "    MB1: MB, at= .5 *LQ + 1.0*LS + .5*LB + 2.0;\n",
    "    MB2: MB, at= .5 *LQ + 1.0*LS + 1.5*LB + 3.0;\n",
    "    MQD1: MQD, at=1.0 *LQ + 1.0*LS + 2.0*LB + 4.0;\n",
    "    MSD1: MSD, at=1.5 *LQ + 1.5*LS + 2.0*LB + 5.0;\n",
    "    MB3: MB, at=1.5 *LQ + 2.0*LS + 2.5*LB + 6.0;\n",
    "    MB4: MB, at=1.5 *LQ + 2.0*LS + 3.5*LB + 7.0;\n",
    "    MQF2: halfMQF, at=1.75*LQ + 2.0*LS + 4.0*LB + 8.0; \n",
    "ENDSEQUENCE;\n",
    "''')"
   ]
  },
  {
   "cell_type": "markdown",
   "id": "42613168",
   "metadata": {},
   "source": [
    "Define the phase advance of the basic cell in MAD-X:"
   ]
  },
  {
   "cell_type": "code",
   "execution_count": 14,
   "id": "29b763e6",
   "metadata": {},
   "outputs": [
    {
     "data": {
      "text/plain": [
       "True"
      ]
     },
     "execution_count": 14,
     "metadata": {},
     "output_type": "execute_result"
    }
   ],
   "source": [
    "# Tunes in MAD-X are given in units of 2 pi\n",
    "\n",
    "tuneArcCell_X = np.pi/2.0 + 0.001\n",
    "tuneArcCell_Y = np.pi/2.0 + 0.001\n",
    "\n",
    "madx.input(f'''\n",
    "    tuneArcCell_X = {tuneArcCell_X};\n",
    "    tuneArcCell_Y = {tuneArcCell_Y};\n",
    "''')"
   ]
  },
  {
   "cell_type": "markdown",
   "id": "0186a08a",
   "metadata": {},
   "source": [
    "Set up of MAD-X environment:"
   ]
  },
  {
   "cell_type": "code",
   "execution_count": 15,
   "id": "94860587",
   "metadata": {},
   "outputs": [
    {
     "data": {
      "text/plain": [
       "True"
      ]
     },
     "execution_count": 15,
     "metadata": {},
     "output_type": "execute_result"
    }
   ],
   "source": [
    "ENERGY = 175\n",
    "madx.input(f'ENERGY = {ENERGY};')"
   ]
  },
  {
   "cell_type": "code",
   "execution_count": 16,
   "id": "15114e10",
   "metadata": {},
   "outputs": [
    {
     "data": {
      "text/plain": [
       "True"
      ]
     },
     "execution_count": 16,
     "metadata": {},
     "output_type": "execute_result"
    }
   ],
   "source": [
    "madx.command.beam(particle='electron', energy='ENERGY')"
   ]
  },
  {
   "cell_type": "code",
   "execution_count": 17,
   "id": "12db73a6",
   "metadata": {},
   "outputs": [],
   "source": [
    "madx.use(sequence='JC_fodo_arc')"
   ]
  },
  {
   "cell_type": "code",
   "execution_count": 18,
   "id": "6603e790",
   "metadata": {},
   "outputs": [
    {
     "name": "stdout",
     "output_type": "stream",
     "text": [
      "enter Twiss module\n",
      "  \n",
      "iteration:   1 error:   0.000000E+00 deltap:   0.000000E+00\n",
      "orbit:   0.000000E+00  0.000000E+00  0.000000E+00  0.000000E+00  0.000000E+00  0.000000E+00\n",
      "\n",
      "++++++ table: summ\n",
      "\n",
      "            length             orbit5               alfa            gammatr \n",
      "                60                 -0    1.360235459e-05        271.1396019 \n",
      "\n",
      "                q1                dq1            betxmax              dxmax \n",
      "      0.2464614675      -0.3112904067        101.5789295        0.218872355 \n",
      "\n",
      "             dxrms             xcomax             xcorms                 q2 \n",
      "      0.1742484977                  0                  0       0.2464591866 \n",
      "\n",
      "               dq2            betymax              dymax              dyrms \n",
      "     -0.3112921484        100.3894801                  0                  0 \n",
      "\n",
      "            ycomax             ycorms             deltap            synch_1 \n",
      "                 0                  0                  0                  0 \n",
      "\n",
      "           synch_2            synch_3            synch_4            synch_5 \n",
      "                 0                  0                  0                  0 \n",
      "\n",
      "           synch_6            synch_8             nflips \n",
      "                 0                  0                  0 \n"
     ]
    }
   ],
   "source": [
    "madx.twiss();"
   ]
  },
  {
   "cell_type": "markdown",
   "id": "15d82edc",
   "metadata": {},
   "source": [
    "### <span style=\"color:blue;\">Check the tunes `q1` and `q2` in the TWISS summary table. Do they fit your expectation?</span>"
   ]
  },
  {
   "cell_type": "markdown",
   "id": "b44de05e",
   "metadata": {},
   "source": [
    "### <span style=\"color:blue;\">g) Match the phase advance of your basic arc cell</span>"
   ]
  },
  {
   "cell_type": "code",
   "execution_count": 19,
   "id": "8e68f658",
   "metadata": {},
   "outputs": [
    {
     "name": "stdout",
     "output_type": "stream",
     "text": [
      "START MATCHING\n",
      "\n",
      "number of sequences: 1\n",
      "sequence name: jc_fodo_arc\n",
      "number of variables:    2\n",
      "user given constraints: 1\n",
      "total constraints:      2\n",
      "\n",
      "START LMDIF:\n",
      "\n",
      "Initial Penalty Function =   0.25200359E-02\n",
      "\n",
      "\n",
      "call:       4   Penalty function =   0.77185671E-07\n",
      "call:       7   Penalty function =   0.73603537E-16\n",
      " ++++++++++ LMDIF ended: converged successfully\n",
      "call:       7   Penalty function =   0.73603537E-16\n",
      "\n",
      "MATCH SUMMARY\n",
      "\n",
      "Node_Name                  Constraint   Type  Target Value       Final Value        Penalty\n",
      "--------------------------------------------------------------------------------------------------\n",
      "Global constraint:         q1           4     2.50010000E-01     2.50010001E-01     3.49785656E-17\n",
      "Global constraint:         q2           4     2.50010000E-01     2.50010001E-01     3.86249715E-17\n",
      "\n",
      "\n",
      "Final Penalty Function =   7.36035370e-17\n",
      "\n",
      "\n",
      "\n",
      "\n",
      "\n",
      "Variable                 Final Value  Initial Value Lower Limit  Upper Limit \n",
      "--------------------------------------------------------------------------------\n",
      "k1qf                      4.76749e-02  4.71405e-02 -1.00000e+20  1.00000e+20\n",
      "k1qd                     -4.76752e-02 -4.71405e-02 -1.00000e+20  1.00000e+20\n",
      "\n",
      "END MATCH SUMMARY\n",
      "\n",
      "VARIABLE \"TAR\" SET TO   7.36035370e-17\n"
     ]
    },
    {
     "data": {
      "text/plain": [
       "True"
      ]
     },
     "execution_count": 19,
     "metadata": {},
     "output_type": "execute_result"
    }
   ],
   "source": [
    "madx.input('''\n",
    "match, sequence = JC_fodo_arc;\n",
    "    GLOBAL, Q1=0.25+0.00001;\n",
    "    GLOBAL, Q2=0.25+0.00001;\n",
    "    VARY, NAME= K1QF, STEP=0.000001;\n",
    "    VARY, NAME= K1QD, STEP=0.000001;\n",
    "    LMDIF, CALLS=50, TOLERANCE=1e-8;//method adopted \n",
    "endmatch;\n",
    "''')"
   ]
  },
  {
   "cell_type": "markdown",
   "id": "e905e10f",
   "metadata": {},
   "source": [
    "Check the matching result by running the twiss command:"
   ]
  },
  {
   "cell_type": "code",
   "execution_count": 20,
   "id": "92d39a42",
   "metadata": {},
   "outputs": [
    {
     "name": "stdout",
     "output_type": "stream",
     "text": [
      "enter Twiss module\n",
      "  \n",
      "iteration:   1 error:   0.000000E+00 deltap:   0.000000E+00\n",
      "orbit:   0.000000E+00  0.000000E+00  0.000000E+00  0.000000E+00  0.000000E+00  0.000000E+00\n",
      "\n",
      "++++++ table: summ\n",
      "\n",
      "            length             orbit5               alfa            gammatr \n",
      "                60                 -0    1.328326174e-05        274.3769567 \n",
      "\n",
      "                q1                dq1            betxmax              dxmax \n",
      "      0.2500100006      -0.3183107433        102.0232718        0.214621282 \n",
      "\n",
      "             dxrms             xcomax             xcorms                 q2 \n",
      "       0.170529498                  0                  0       0.2500100006 \n",
      "\n",
      "               dq2            betymax              dymax              dyrms \n",
      "     -0.3183146664        102.0235481                  0                  0 \n",
      "\n",
      "            ycomax             ycorms             deltap            synch_1 \n",
      "                 0                  0                  0                  0 \n",
      "\n",
      "           synch_2            synch_3            synch_4            synch_5 \n",
      "                 0                  0                  0                  0 \n",
      "\n",
      "           synch_6            synch_8             nflips \n",
      "                 0                  0                  0 \n"
     ]
    }
   ],
   "source": [
    "twiss=madx.twiss(centre=True)"
   ]
  },
  {
   "cell_type": "code",
   "execution_count": 21,
   "id": "19b257fe",
   "metadata": {},
   "outputs": [
    {
     "data": {
      "image/png": "[encoded data removed]",
      "text/plain": [
       "<Figure size 576x360 with 1 Axes>"
      ]
     },
     "metadata": {},
     "output_type": "display_data"
    }
   ],
   "source": [
    "plt.figure(figsize=(8, 5))\n",
    "plt.plot(twiss['s'], twiss['betx'], label=r'$\\beta_x$', color='black')\n",
    "plt.plot(twiss['s'], twiss['bety'], label=r'$\\beta_y$', color='red')\n",
    "plt.xlabel('Path length $s$ [m]')\n",
    "plt.ylabel(r'Beta function $\\beta_{x,y}$ [m]')\n",
    "plt.legend();"
   ]
  },
  {
   "cell_type": "code",
   "execution_count": 22,
   "id": "39d58674",
   "metadata": {},
   "outputs": [
    {
     "data": {
      "image/png": "[encoded data removed]",
      "text/plain": [
       "<Figure size 576x360 with 1 Axes>"
      ]
     },
     "metadata": {},
     "output_type": "display_data"
    }
   ],
   "source": [
    "plt.figure(figsize=(8, 5))\n",
    "plt.plot(twiss['s'], twiss['Dx'], label=r'$D_x$', color='green')\n",
    "plt.xlabel('Path length $s$ [m]')\n",
    "plt.ylabel(r'Dispersion function $D_x$ [m]')\n",
    "plt.legend();"
   ]
  },
  {
   "cell_type": "markdown",
   "id": "32d01143",
   "metadata": {},
   "source": [
    "#### Calculate minimum and maximum beta function of your cell analytically"
   ]
  },
  {
   "cell_type": "markdown",
   "id": "4edeccdd",
   "metadata": {},
   "source": [
    "### <span style=\"color:blue;\">Compare the maximum and minimum values of beta functions of MAD-X to the analytically calculated values. </span>\n",
    "    \n",
    "For a FODO cell (symmetrical disposition, beginning and end point middle of focusing quadrupole), the expression for the minimum and maximum optical beta function is given by:"
   ]
  },
  {
   "cell_type": "markdown",
   "id": "5ee8226d",
   "metadata": {},
   "source": [
    "\\begin{equation}\n",
    "\\hat{\\beta} = \\frac{1+\\sin{\\mu/2}}{\\sin{\\mu}}\\cdot L \\hspace{1cm} \\text{and} \\hspace{1cm}\n",
    "\\check{\\beta} = \\frac{1-\\sin{\\mu/2}}{\\sin{\\mu}} \\cdot L \n",
    "\\end{equation}"
   ]
  },
  {
   "cell_type": "code",
   "execution_count": 23,
   "id": "44d6fc85",
   "metadata": {},
   "outputs": [
    {
     "name": "stdout",
     "output_type": "stream",
     "text": [
      "[m] Beta max:\t 102.42640687119285 \t 102.0232718218291 \t error:  0.0039514028727463246\n",
      "[m] Beta min:\t 17.573593128807154 \t 17.641054666353163 \t error:  -0.0038241215631330053\n"
     ]
    }
   ],
   "source": [
    "beta_max = Lcell * (1. + np.sin(.5 * mu_x)) / np.sin(mu_x)\n",
    "beta_min = Lcell * (1. - np.sin(.5 * mu_x)) / np.sin(mu_x)\n",
    "\n",
    "print('[m] Beta max:\\t', beta_max, '\\t', twiss['betx'].max(), '\\t error: ', (beta_max - twiss['betx'].max()) / twiss['betx'].max())\n",
    "print('[m] Beta min:\\t', beta_min, '\\t', twiss['betx'].min(), '\\t error: ', (beta_min - twiss['betx'].min()) / twiss['betx'].min())"
   ]
  },
  {
   "cell_type": "markdown",
   "id": "5ce715a9",
   "metadata": {},
   "source": [
    "Compare the maximum and minimum values of the dispersion function of MAD-X to the analytically calculated values. They are given by: $$\\hat{D} = \\frac{L^2}{\\rho}\\frac{(1+\\frac{1}{2}\\sin{(\\mu/2)})}{4\\sin^2{(\\mu/2)}} \\text{ and } \\check{D} = \\frac{L^2}{\\rho}\\frac{(1-\\frac{1}{2}\\sin{(\\mu/2)})}{4\\sin^2{(\\mu/2)}}$$"
   ]
  },
  {
   "cell_type": "code",
   "execution_count": 24,
   "id": "57e071bd",
   "metadata": {},
   "outputs": [
    {
     "name": "stdout",
     "output_type": "stream",
     "text": [
      "Disp max:\t 0.26854967061774726 \t 0.2146212819725416 \t error:  0.2512723256033164\n",
      "Disp min:\t 0.12825724144656328 \t 0.10301608363697314 \t error:  0.2450215240033735\n"
     ]
    }
   ],
   "source": [
    "rho = LB/np.arcsin(THB)\n",
    "\n",
    "D_max = Lcell**2.0 / rho  * (1. + .5*np.sin(mu_x * .5)) / (4. * np.sin(mu_x * .5)**2)\n",
    "D_min = Lcell**2.0 / rho  * (1. - .5*np.sin(mu_x * .5)) / (4. * np.sin(mu_x * .5)**2)\n",
    "\n",
    "print('Disp max:\\t', D_max, '\\t', twiss['dx'].max(), '\\t error: ', (D_max - twiss['dx'].max()) / twiss['dx'].max())\n",
    "print('Disp min:\\t', D_min, '\\t', twiss['dx'].min(), '\\t error: ', (D_min - twiss['dx'].min()) / twiss['dx'].min())"
   ]
  },
  {
   "cell_type": "markdown",
   "id": "1e646de4",
   "metadata": {},
   "source": [
    "The relative error is $<1\\%$ for the $\\beta$ max and min.\n",
    "It is higher for the dispersion, around $25\\%$.\n",
    "Error comes from the fact that analytical expressions come from the thin lens approximation."
   ]
  },
  {
   "cell_type": "markdown",
   "id": "de316d9e",
   "metadata": {},
   "source": [
    "### <span style=\"color:blue;\">h) Match the chromaticity of your basic arc cell to zero.</span>"
   ]
  },
  {
   "cell_type": "markdown",
   "id": "05d2e518",
   "metadata": {},
   "source": [
    "Observe the chromaticities `dq1` and `dq2` in the recent Twiss summary table. What does this mean? How can you correct this?"
   ]
  },
  {
   "cell_type": "code",
   "execution_count": 25,
   "id": "d32993c4",
   "metadata": {},
   "outputs": [
    {
     "name": "stdout",
     "output_type": "stream",
     "text": [
      "START MATCHING\n",
      "\n",
      "number of sequences: 1\n",
      "sequence name: jc_fodo_arc\n",
      "number of variables:    2\n",
      "user given constraints: 1\n",
      "total constraints:      2\n",
      "\n",
      "START LMDIF:\n",
      "\n",
      "Initial Penalty Function =   0.20264596E+00\n",
      "\n",
      "\n",
      "call:       4   Penalty function =   0.12244665E-24\n",
      " ++++++++++ LMDIF ended: converged successfully\n",
      "call:       4   Penalty function =   0.12244665E-24\n",
      "\n",
      "MATCH SUMMARY\n",
      "\n",
      "Node_Name                  Constraint   Type  Target Value       Final Value        Penalty\n",
      "--------------------------------------------------------------------------------------------------\n",
      "Global constraint:         dq1          4     0.00000000E+00     2.84592555E-13     8.09929222E-26\n",
      "Global constraint:         dq2          4     0.00000000E+00     2.03601883E-13     4.14537268E-26\n",
      "\n",
      "\n",
      "Final Penalty Function =   1.22446649e-25\n",
      "\n",
      "\n",
      "\n",
      "\n",
      "\n",
      "Variable                 Final Value  Initial Value Lower Limit  Upper Limit \n",
      "--------------------------------------------------------------------------------\n",
      "k2sf                      2.61262e-01  0.00000e+00 -1.00000e+20  1.00000e+20\n",
      "k2sd                     -5.00391e-01  0.00000e+00 -1.00000e+20  1.00000e+20\n",
      "\n",
      "END MATCH SUMMARY\n",
      "\n",
      "VARIABLE \"TAR\" SET TO   1.22446649e-25\n"
     ]
    },
    {
     "data": {
      "text/plain": [
       "True"
      ]
     },
     "execution_count": 25,
     "metadata": {},
     "output_type": "execute_result"
    }
   ],
   "source": [
    "madx.input('''\n",
    "match, sequence = JC_fodo_arc;\n",
    "    GLOBAL, dq1=0;\n",
    "    GLOBAL, dq2=0;\n",
    "    VARY, NAME= K2SF, STEP=0.0000001;\n",
    "    VARY, NAME= K2SD, STEP=0.0000001;\n",
    "    LMDIF, CALLS=200, TOLERANCE=1e-6;//method adopted \n",
    "endmatch;\n",
    "''')"
   ]
  },
  {
   "cell_type": "code",
   "execution_count": 26,
   "id": "d7badf0e",
   "metadata": {},
   "outputs": [
    {
     "name": "stdout",
     "output_type": "stream",
     "text": [
      "enter Twiss module\n",
      "  \n",
      "iteration:   1 error:   0.000000E+00 deltap:   0.000000E+00\n",
      "orbit:   0.000000E+00  0.000000E+00  0.000000E+00  0.000000E+00  0.000000E+00  0.000000E+00\n",
      "\n",
      "++++++ table: summ\n",
      "\n",
      "            length             orbit5               alfa            gammatr \n",
      "                60                 -0    1.328326174e-05        274.3769567 \n",
      "\n",
      "                q1                dq1            betxmax              dxmax \n",
      "      0.2500100006    2.845925547e-13        102.0232718        0.214621282 \n",
      "\n",
      "             dxrms             xcomax             xcorms                 q2 \n",
      "       0.170529498                  0                  0       0.2500100006 \n",
      "\n",
      "               dq2            betymax              dymax              dyrms \n",
      "   2.036018831e-13        102.0235481                  0                  0 \n",
      "\n",
      "            ycomax             ycorms             deltap            synch_1 \n",
      "                 0                  0                  0                  0 \n",
      "\n",
      "           synch_2            synch_3            synch_4            synch_5 \n",
      "                 0                  0                  0                  0 \n",
      "\n",
      "           synch_6            synch_8             nflips \n",
      "                 0                  0                  0 \n"
     ]
    }
   ],
   "source": [
    "twiss=madx.twiss(centre=True)"
   ]
  },
  {
   "cell_type": "markdown",
   "id": "b22db4f3",
   "metadata": {
    "tags": []
   },
   "source": [
    "Have a look at the optics again. \n",
    "\n",
    "### <span style=\"color:blue;\">Can you explain why the sextupole strengths for the 'defocusing' sextupole are larger than for the 'focusing' one?</span>"
   ]
  },
  {
   "cell_type": "code",
   "execution_count": 27,
   "id": "3b52c2a1",
   "metadata": {},
   "outputs": [
    {
     "data": {
      "image/png": "[encoded data removed]",
      "text/plain": [
       "<Figure size 576x360 with 1 Axes>"
      ]
     },
     "metadata": {},
     "output_type": "display_data"
    }
   ],
   "source": [
    "plt.figure(figsize=(8, 5))\n",
    "plt.plot(twiss['s'], twiss['betx'], label=r'$\\beta_x$', color='black')\n",
    "plt.plot(twiss['s'], twiss['bety'], label=r'$\\beta_y$', color='red')\n",
    "plt.xlabel('Path length $s$ [m]')\n",
    "plt.ylabel(r'Beta function $\\beta_{x,y}$ [m]')\n",
    "plt.legend();"
   ]
  },
  {
   "cell_type": "code",
   "execution_count": 28,
   "id": "e59bd42f",
   "metadata": {},
   "outputs": [
    {
     "data": {
      "image/png": "[encoded data removed]",
      "text/plain": [
       "<Figure size 576x360 with 1 Axes>"
      ]
     },
     "metadata": {},
     "output_type": "display_data"
    }
   ],
   "source": [
    "plt.figure(figsize=(8, 5))\n",
    "plt.plot(twiss['s'], twiss['Dx'], label=r'$D_x$', color='green')\n",
    "plt.xlabel('Path length $s$ [m]')\n",
    "plt.ylabel(r'Dispersion function $D_x$ [m]')\n",
    "plt.legend();"
   ]
  },
  {
   "cell_type": "markdown",
   "id": "9b38734a",
   "metadata": {},
   "source": [
    "### <span style=\"color:blue;\">i) Build a full ring with your basic cells.</span>"
   ]
  },
  {
   "cell_type": "markdown",
   "id": "2059b932",
   "metadata": {},
   "source": [
    "### <span style=\"color:blue;\">How many cells do you need to close the ring? </span> \n",
    "\n",
    "Is the overall length below the required maximum length?"
   ]
  },
  {
   "cell_type": "code",
   "execution_count": 29,
   "id": "7e53f954",
   "metadata": {},
   "outputs": [
    {
     "data": {
      "text/plain": [
       "(1188, 71280)"
      ]
     },
     "execution_count": 29,
     "metadata": {},
     "output_type": "execute_result"
    }
   ],
   "source": [
    "# Number of cells required\n",
    "numberOfCells = round(np.pi*2/THB/4)\n",
    "# Circumference of ring\n",
    "circumference = numberOfCells*Lcell\n",
    "\n",
    "numberOfCells, circumference"
   ]
  },
  {
   "cell_type": "markdown",
   "id": "f6b362cc",
   "metadata": {},
   "source": [
    "Still 29 km to use"
   ]
  },
  {
   "cell_type": "code",
   "execution_count": 30,
   "id": "ea6f0539",
   "metadata": {},
   "outputs": [
    {
     "data": {
      "text/plain": [
       "True"
      ]
     },
     "execution_count": 30,
     "metadata": {},
     "output_type": "execute_result"
    }
   ],
   "source": [
    "madx.input(f'''\n",
    "    numberOfCells = {numberOfCells};\n",
    "    L_JC_ring = numberOfCells*Lcell;\n",
    "''')"
   ]
  },
  {
   "cell_type": "markdown",
   "id": "ece81fcb",
   "metadata": {},
   "source": [
    "Define a ring consisting of your FODO cells:"
   ]
  },
  {
   "cell_type": "markdown",
   "id": "465df389",
   "metadata": {},
   "source": [
    "*Hint:* You can use while-loops in MAD-X sequence definitions."
   ]
  },
  {
   "cell_type": "code",
   "execution_count": 31,
   "id": "d4b9de97",
   "metadata": {},
   "outputs": [
    {
     "data": {
      "text/plain": [
       "True"
      ]
     },
     "execution_count": 31,
     "metadata": {},
     "output_type": "execute_result"
    }
   ],
   "source": [
    "madx.input('''\n",
    "option, -info;\n",
    "i = 0;\n",
    "JC_ring : SEQUENCE, refer=centre, L=L_JC_ring; \n",
    "    while (i < numberOfCells) {\n",
    "        JC_fodo_arc, at=(i + 0.5) * Lcell;\n",
    "        i = i + 1;\n",
    "    }\n",
    "ENDSEQUENCE;\n",
    "option, info;\n",
    "''')"
   ]
  },
  {
   "cell_type": "code",
   "execution_count": 32,
   "id": "ac11b3fe",
   "metadata": {},
   "outputs": [],
   "source": [
    "madx.use(sequence='JC_ring')"
   ]
  },
  {
   "cell_type": "code",
   "execution_count": 33,
   "id": "57153952",
   "metadata": {
    "scrolled": true
   },
   "outputs": [
    {
     "name": "stdout",
     "output_type": "stream",
     "text": [
      "enter Twiss module\n",
      "  \n",
      "iteration:   1 error:   0.000000E+00 deltap:   0.000000E+00\n",
      "orbit:   0.000000E+00  0.000000E+00  0.000000E+00  0.000000E+00  0.000000E+00  0.000000E+00\n",
      "\n",
      "++++++ table: summ\n",
      "\n",
      "            length             orbit5               alfa            gammatr \n",
      "             71280                 -0    1.328326174e-05        274.3769567 \n",
      "\n",
      "                q1                dq1            betxmax              dxmax \n",
      "       297.0118807    3.380859022e-10        102.0232718        0.214621282 \n",
      "\n",
      "             dxrms             xcomax             xcorms                 q2 \n",
      "      0.1705339094                  0                  0        297.0118807 \n",
      "\n",
      "               dq2            betymax              dymax              dyrms \n",
      "   2.420402082e-10        100.8148149                 -0                  0 \n",
      "\n",
      "            ycomax             ycorms             deltap            synch_1 \n",
      "                 0                  0                  0                  0 \n",
      "\n",
      "           synch_2            synch_3            synch_4            synch_5 \n",
      "                 0                  0                  0                  0 \n",
      "\n",
      "           synch_6            synch_8             nflips \n",
      "                 0                  0                  0 \n"
     ]
    }
   ],
   "source": [
    "twiss=madx.twiss()"
   ]
  },
  {
   "cell_type": "markdown",
   "id": "5294c927",
   "metadata": {},
   "source": [
    "### <span style=\"color:blue;\">Do the tunes fit your expectation?</span>"
   ]
  },
  {
   "cell_type": "code",
   "execution_count": 34,
   "id": "32c6b503",
   "metadata": {},
   "outputs": [
    {
     "data": {
      "text/plain": [
       "297.0"
      ]
     },
     "execution_count": 34,
     "metadata": {},
     "output_type": "execute_result"
    }
   ],
   "source": [
    "total_phase_advance = numberOfCells * np.pi/2.0\n",
    "total_tune = total_phase_advance / 2.0 / np.pi\n",
    "total_tune"
   ]
  },
  {
   "cell_type": "markdown",
   "id": "13166e89",
   "metadata": {},
   "source": [
    "Yes, we get a reasonable fitting to our expectation!"
   ]
  },
  {
   "cell_type": "code",
   "execution_count": 35,
   "id": "852df5a8",
   "metadata": {},
   "outputs": [
    {
     "data": {
      "text/plain": [
       "(0.0, 500.0)"
      ]
     },
     "execution_count": 35,
     "metadata": {},
     "output_type": "execute_result"
    },
    {
     "data": {
      "image/png": "[encoded data removed]",
      "text/plain": [
       "<Figure size 576x360 with 1 Axes>"
      ]
     },
     "metadata": {},
     "output_type": "display_data"
    }
   ],
   "source": [
    "plt.figure(figsize=(8, 5))\n",
    "plt.plot(twiss['s'], twiss['betx'], label=r'$\\beta_x$', color='black')\n",
    "plt.plot(twiss['s'], twiss['bety'], label=r'$\\beta_y$', color='red')\n",
    "plt.xlabel('Path length $s$ [m]')\n",
    "plt.ylabel(r'Beta function $\\beta_{x,y}$ [m]')\n",
    "plt.legend();\n",
    "plt.xlim(0,500)"
   ]
  },
  {
   "cell_type": "markdown",
   "id": "97923941",
   "metadata": {},
   "source": [
    "### <span style=\"color:blue;\">Check if the ring is closed. </span>\n",
    "\n",
    "If necessary adjust the bending angle accordingly."
   ]
  },
  {
   "cell_type": "code",
   "execution_count": 36,
   "id": "2382d816",
   "metadata": {},
   "outputs": [],
   "source": [
    "survey = madx.survey()"
   ]
  },
  {
   "cell_type": "code",
   "execution_count": 37,
   "id": "b962bdee",
   "metadata": {},
   "outputs": [
    {
     "data": {
      "text/plain": [
       "(-6.285419654366242, 6.283185307179586)"
      ]
     },
     "execution_count": 37,
     "metadata": {},
     "output_type": "execute_result"
    }
   ],
   "source": [
    "survey['theta'][-1], np.pi*2"
   ]
  },
  {
   "cell_type": "markdown",
   "id": "4bb972f1",
   "metadata": {},
   "source": [
    "### <span style=\"color:blue;\">j) Calculate the synchrotron radiation integrals using the 'chrom' option of the Twiss command.</span>"
   ]
  },
  {
   "cell_type": "code",
   "execution_count": 38,
   "id": "201f0d2a",
   "metadata": {},
   "outputs": [
    {
     "name": "stdout",
     "output_type": "stream",
     "text": [
      "enter Twiss module\n",
      "  \n",
      "iteration:   1 error:   1.571359E-10 deltap:   1.000000E-06\n",
      "orbit:   2.146212E-07  8.870497E-11  0.000000E+00  0.000000E+00  0.000000E+00  0.000000E+00\n",
      "  \n",
      "iteration:   1 error:   0.000000E+00 deltap:   0.000000E+00\n",
      "orbit:   0.000000E+00  0.000000E+00  0.000000E+00  0.000000E+00  0.000000E+00  0.000000E+00\n",
      "\n",
      "++++++ table: summ\n",
      "\n",
      "            length             orbit5               alfa            gammatr \n",
      "             71280                 -0    1.328326174e-05        274.3769567 \n",
      "\n",
      "                q1                dq1            betxmax              dxmax \n",
      "       297.0118807    7.219114195e-06        102.0232718        0.214621282 \n",
      "\n",
      "             dxrms             xcomax             xcorms                 q2 \n",
      "      0.1705339094                  0                  0        297.0118807 \n",
      "\n",
      "               dq2            betymax              dymax              dyrms \n",
      "   0.0001380726644        100.8148149                 -0                  0 \n",
      "\n",
      "            ycomax             ycorms             deltap            synch_1 \n",
      "                 0                  0                  0       0.9468308972 \n",
      "\n",
      "           synch_2            synch_3            synch_4            synch_5 \n",
      "    0.000692804788    7.636379123e-08    1.150338417e-08    3.983063635e-11 \n",
      "\n",
      "           synch_6            synch_8             nflips \n",
      "       322.2313139       0.1526367817                  0 \n"
     ]
    }
   ],
   "source": [
    "twiss=madx.twiss(chrom=True)"
   ]
  },
  {
   "cell_type": "markdown",
   "id": "37ac62cd",
   "metadata": {},
   "source": [
    "You can access the results of the twiss summary table like this:"
   ]
  },
  {
   "cell_type": "code",
   "execution_count": 39,
   "id": "4af83a71",
   "metadata": {},
   "outputs": [
    {
     "data": {
      "text/plain": [
       "(3.983063635e-11, 0.000692804788)"
      ]
     },
     "execution_count": 39,
     "metadata": {},
     "output_type": "execute_result"
    }
   ],
   "source": [
    "twiss.summary.synch_5, twiss.summary.synch_2"
   ]
  },
  {
   "cell_type": "markdown",
   "id": "13f99a64",
   "metadata": {},
   "source": [
    "### <span style=\"color:blue;\">Calculate equilibrium emittance and energy loss per turn using the synchrotron radiation integrals. </span>\n",
    "\n",
    "Do you obtain the emittance you were designing for?"
   ]
  },
  {
   "cell_type": "code",
   "execution_count": 40,
   "id": "0bb5de5e",
   "metadata": {},
   "outputs": [
    {
     "data": {
      "text/plain": [
       "(2.583843241286179e-09, 9.148083960231666)"
      ]
     },
     "execution_count": 40,
     "metadata": {},
     "output_type": "execute_result"
    }
   ],
   "source": [
    "I_5 = twiss.summary.synch_5\n",
    "I_2 = twiss.summary.synch_2\n",
    "J_x = 1\n",
    "C_q = 3.832e-13 # m\n",
    "C_gamma = 8.8460e-5 # m / GeV**3\n",
    "gamma_L = 175/0.000511\n",
    "\n",
    "epsilon_x_SRI = C_q * gamma_L** 2 * I_5 / (J_x * I_2)\n",
    "U0_SRI = C_gamma * ENERGY**4 * I_2 / (2 * np.pi) # C_gamma instead of C_q\n",
    "\n",
    "epsilon_x_SRI, U0_SRI"
   ]
  },
  {
   "cell_type": "markdown",
   "id": "e124870d",
   "metadata": {},
   "source": [
    "In principle, we obtain twice the emmittance as we would want to. --> Need for suppress dispersion?"
   ]
  },
  {
   "cell_type": "markdown",
   "id": "9706972a",
   "metadata": {},
   "source": [
    "In principle, we obtain twice the emmittance as we would want to. --> Need for suppress dispersion"
   ]
  },
  {
   "cell_type": "markdown",
   "id": "01578420",
   "metadata": {},
   "source": [
    "$\\,$\n",
    "\n",
    "$\\,$\n",
    "\n",
    "## 3. Dispersion suppressors and straight sections"
   ]
  },
  {
   "cell_type": "markdown",
   "id": "e7184002",
   "metadata": {},
   "source": [
    "### <span style=\"color:blue;\">a) Design a dispersion suppressor section for both start (\"DSL\") and end (\"DSR\") of the arc sections of your storage ring and implement it in MAD-X. What scheme do you use and why? Why is it not possible to use the identical section on both sides of an arc? </span>"
   ]
  },
  {
   "cell_type": "code",
   "execution_count": 41,
   "id": "66b208cc",
   "metadata": {},
   "outputs": [
    {
     "data": {
      "text/plain": [
       "True"
      ]
     },
     "execution_count": 41,
     "metadata": {},
     "output_type": "execute_result"
    }
   ],
   "source": [
    "# Define quadrupole strengths of the dispersion suppressor\n",
    "madx.input('''\n",
    "    K1QFDS1 := K1QF;\n",
    "    K1QDDS1 := K1QD;\n",
    "    K1QFDS2 := K1QF;\n",
    "    K1QDDS2 := K1QD;\n",
    "''')"
   ]
  },
  {
   "cell_type": "code",
   "execution_count": 42,
   "id": "114b6d42",
   "metadata": {},
   "outputs": [
    {
     "data": {
      "text/plain": [
       "True"
      ]
     },
     "execution_count": 42,
     "metadata": {},
     "output_type": "execute_result"
    }
   ],
   "source": [
    "# Define elements for of the dispersion suppressor\n",
    "madx.input('''\n",
    "    MBDS : SBEND, L:=LB, ANGLE:=0.5*THB;\n",
    "\n",
    "    MQFDS1 : quadrupole, L=LQ, K1:=K1QFDS1;\n",
    "    halfMQFDS1: quadrupole, L=0.5*LQ, K1:=K1QFDS1;\n",
    "    MQDDS1 : quadrupole, L=LQ, K1:=K1QDDS1;\n",
    "    halfMQDDS1: quadrupole, L=0.5*LQ, K1:=K1QDDS1;\n",
    "    MQFDS2 : quadrupole, L=LQ, K1:=K1QFDS2;\n",
    "    halfMQFDS2: quadrupole, L=0.5*LQ, K1:=K1QFDS2;\n",
    "    MQDDS2 : quadrupole, L=LQ, K1:=K1QDDS2;\n",
    "    halfMQDDS2: quadrupole, L=0.5*LQ, K1:=K1QDDS2;\n",
    "''')"
   ]
  },
  {
   "cell_type": "markdown",
   "id": "15a8f1b0",
   "metadata": {},
   "source": [
    "Define individual sequences for your DSL and DSR."
   ]
  },
  {
   "cell_type": "code",
   "execution_count": 43,
   "id": "730950d7",
   "metadata": {},
   "outputs": [
    {
     "name": "stdout",
     "output_type": "stream",
     "text": [
      "++++++ warning: implicit element re-definition ignored: mqf1\n",
      "++++++ warning: implicit element re-definition ignored: msf1\n",
      "++++++ warning: implicit element re-definition ignored: mqd1\n",
      "++++++ warning: implicit element re-definition ignored: msd1\n",
      "++++++ warning: implicit element re-definition ignored: mqf2\n",
      "++++++ warning: implicit element re-definition ignored: mqf1\n",
      "++++++ warning: implicit element re-definition ignored: msf1\n",
      "++++++ warning: implicit element re-definition ignored: mbds1\n",
      "++++++ warning: implicit element re-definition ignored: mbds2\n",
      "++++++ warning: implicit element re-definition ignored: mqd1\n",
      "++++++ warning: implicit element re-definition ignored: msd1\n",
      "++++++ warning: implicit element re-definition ignored: mbds3\n",
      "++++++ warning: implicit element re-definition ignored: mbds4\n",
      "++++++ warning: implicit element re-definition ignored: mqf2\n",
      "++++++ warning: implicit element re-definition ignored: mqf1_1\n",
      "++++++ warning: implicit element re-definition ignored: msf1_1\n",
      "++++++ warning: implicit element re-definition ignored: mbds1_1\n",
      "++++++ warning: implicit element re-definition ignored: mbds2_1\n",
      "++++++ warning: implicit element re-definition ignored: mqd1_1\n",
      "++++++ warning: implicit element re-definition ignored: msd1_1\n",
      "++++++ warning: implicit element re-definition ignored: mbds3_1\n",
      "++++++ warning: implicit element re-definition ignored: mbds4_1\n",
      "++++++ warning: implicit element re-definition ignored: mqf2_1\n"
     ]
    },
    {
     "data": {
      "text/plain": [
       "True"
      ]
     },
     "execution_count": 43,
     "metadata": {},
     "output_type": "execute_result"
    }
   ],
   "source": [
    "madx.input('''\n",
    "LDS = 2*Lcell;\n",
    "JC_dsl : SEQUENCE, REFER=centre, L=LDS;\n",
    "    MQF1: halfMQFDS1, at= .25*LQ;\n",
    "    MSF1: MSF, at= .5 *LQ + .5*LS+1.0;\n",
    "    MBDS1: MBDS, at= .5 *LQ + 1.0*LS + .5*LB + 2.0;\n",
    "    MBDS2: MBDS, at= .5 *LQ + 1.0*LS + 1.5*LB + 3.0;\n",
    "    MQD1: MQDDS1, at=1.0 *LQ + 1.0*LS + 2.0*LB + 4.0;\n",
    "    MSD1: MSD, at=1.5 *LQ + 1.5*LS + 2.0*LB + 5.0;\n",
    "    MBDS3: MBDS, at=1.5 *LQ + 2.0*LS + 2.5*LB + 6.0;\n",
    "    MBDS4: MBDS, at=1.5 *LQ + 2.0*LS + 3.5*LB + 7.0;\n",
    "    MQF2: halfMQFDS2, at=1.75*LQ + 2.0*LS + 4.0*LB + 8.0; \n",
    "!\n",
    "    MQF1_1: halfMQFDS2, at= .25*LQ + Lcell;\n",
    "    MSF1_1: MSF, at= .5 *LQ + .5*LS+1.0 + Lcell;\n",
    "    MBDS1_1: MBDS, at= .5 *LQ + 1.0*LS + .5*LB + 2.0 + Lcell;\n",
    "    MBDS2_1: MBDS, at= .5 *LQ + 1.0*LS + 1.5*LB + 3.0 + Lcell;\n",
    "    MQD1_1: MQDDS2, at=1.0 *LQ + 1.0*LS + 2.0*LB + 4.0+ Lcell;\n",
    "    MSD1_1: MSD, at=1.5 *LQ + 1.5*LS + 2.0*LB + 5.0 + Lcell;\n",
    "    MBDS3_1: MBDS, at=1.5 *LQ + 2.0*LS + 2.5*LB + 6.0 + Lcell;\n",
    "    MBDS4_1: MBDS, at=1.5 *LQ + 2.0*LS + 3.5*LB + 7.0 + Lcell;\n",
    "    MQF2_1: halfMQFDS1, at=1.75*LQ + 2.0*LS + 4.0*LB + 8.0 + Lcell;\n",
    "ENDSEQUENCE;\n",
    "!\n",
    "JC_dsr : SEQUENCE, REFER=centre, L=LDS;\n",
    "    MQF1: halfMQFDS2, at= .25*LQ;\n",
    "    MSF1: MSF, at= .5 *LQ + .5*LS+1.0;\n",
    "    MBDS1: MBDS, at= .5 *LQ + 1.0*LS + .5*LB + 2.0;\n",
    "    MBDS2: MBDS, at= .5 *LQ + 1.0*LS + 1.5*LB + 3.0;\n",
    "    MQD1: MQDDS2, at=1.0 *LQ + 1.0*LS + 2.0*LB + 4.0;\n",
    "    MSD1: MSD, at=1.5 *LQ + 1.5*LS + 2.0*LB + 5.0;\n",
    "    MBDS3: MBDS, at=1.5 *LQ + 2.0*LS + 2.5*LB + 6.0;\n",
    "    MBDS4: MBDS, at=1.5 *LQ + 2.0*LS + 3.5*LB + 7.0;\n",
    "    MQF2: halfMQFDS1, at=1.75*LQ + 2.0*LS + 4.0*LB + 8.0; \n",
    "!\n",
    "    MQF1_1: halfMQFDS1, at= .25*LQ + Lcell;\n",
    "    MSF1_1: MSF, at= .5 *LQ + .5*LS+1.0 + Lcell;\n",
    "    MBDS1_1: MBDS, at= .5 *LQ + 1.0*LS + .5*LB + 2.0 + Lcell;\n",
    "    MBDS2_1: MBDS, at= .5 *LQ + 1.0*LS + 1.5*LB + 3.0 + Lcell;\n",
    "    MQD1_1: MQDDS1, at=1.0 *LQ + 1.0*LS + 2.0*LB + 4.0+ Lcell;\n",
    "    MSD1_1: MSD, at=1.5 *LQ + 1.5*LS + 2.0*LB + 5.0 + Lcell;\n",
    "    MBDS3_1: MBDS, at=1.5 *LQ + 2.0*LS + 2.5*LB + 6.0 + Lcell;\n",
    "    MBDS4_1: MBDS, at=1.5 *LQ + 2.0*LS + 3.5*LB + 7.0 + Lcell;\n",
    "    MQF2_1: halfMQFDS2, at=1.75*LQ + 2.0*LS + 4.0*LB + 8.0 + Lcell;\n",
    "ENDSEQUENCE;\n",
    "''')"
   ]
  },
  {
   "cell_type": "markdown",
   "id": "6d48c586",
   "metadata": {},
   "source": [
    "Define a small sequence to illustrate the features of the dispersion suppressor. Use following layout: `arc cell`...`arc cell` `disp.suppr. right` `marker` `disp.suppr. left` `arc cell`...`arc cell`"
   ]
  },
  {
   "cell_type": "code",
   "execution_count": 44,
   "id": "14815a83",
   "metadata": {},
   "outputs": [
    {
     "data": {
      "text/plain": [
       "True"
      ]
     },
     "execution_count": 44,
     "metadata": {},
     "output_type": "execute_result"
    }
   ],
   "source": [
    "madx.input('''\n",
    "mark_endds: marker;\n",
    "\n",
    "match_DS : SEQUENCE, refer=centre, L = 8*Lcell;\n",
    "JC_fodo_arc, at = 0.5*Lcell;\n",
    "JC_fodo_arc, at = 1.5*Lcell;\n",
    "JC_dsr, at = 3*Lcell;\n",
    "mark_endds, at =4*Lcell;\n",
    "JC_dsl, at = 5*Lcell;\n",
    "JC_fodo_arc, at = 6.5*Lcell;\n",
    "JC_fodo_arc, at = 7.5*Lcell;\n",
    "ENDSEQUENCE;\n",
    "''')"
   ]
  },
  {
   "cell_type": "markdown",
   "id": "50bff366",
   "metadata": {},
   "source": [
    "Save start values of periodic solutions as start values for non-periodic matching procedures:"
   ]
  },
  {
   "cell_type": "markdown",
   "id": "eb53477c",
   "metadata": {},
   "source": [
    "We need to save the optics functions `betx`, `bety`, `alfx`, `alfy`, `dx`,and `dpx` as references for non-periodic Twiss calculations like for example the to illustrate how the dispersion suppressor works."
   ]
  },
  {
   "cell_type": "code",
   "execution_count": 45,
   "id": "54f5930e",
   "metadata": {},
   "outputs": [],
   "source": [
    "madx.use(sequence='JC_fodo_arc')"
   ]
  },
  {
   "cell_type": "code",
   "execution_count": 46,
   "id": "809ceb01",
   "metadata": {},
   "outputs": [
    {
     "data": {
      "text/plain": [
       "True"
      ]
     },
     "execution_count": 46,
     "metadata": {},
     "output_type": "execute_result"
    }
   ],
   "source": [
    "madx.command.savebeta(label='start.fodo.arc', place='#s')  # Comment '#s' marks the start of the sequence, '#e' the end"
   ]
  },
  {
   "cell_type": "code",
   "execution_count": 47,
   "id": "86e2eb63",
   "metadata": {},
   "outputs": [
    {
     "name": "stdout",
     "output_type": "stream",
     "text": [
      "enter Twiss module\n",
      "  \n",
      "iteration:   1 error:   0.000000E+00 deltap:   0.000000E+00\n",
      "orbit:   0.000000E+00  0.000000E+00  0.000000E+00  0.000000E+00  0.000000E+00  0.000000E+00\n",
      "\n",
      "++++++ table: summ\n",
      "\n",
      "            length             orbit5               alfa            gammatr \n",
      "                60                 -0    1.328326174e-05        274.3769567 \n",
      "\n",
      "                q1                dq1            betxmax              dxmax \n",
      "      0.2500100006    2.845925547e-13        102.0232718        0.214621282 \n",
      "\n",
      "             dxrms             xcomax             xcorms                 q2 \n",
      "       0.170529498                  0                  0       0.2500100006 \n",
      "\n",
      "               dq2            betymax              dymax              dyrms \n",
      "   2.036018831e-13        100.8148149                  0                  0 \n",
      "\n",
      "            ycomax             ycorms             deltap            synch_1 \n",
      "                 0                  0                  0                  0 \n",
      "\n",
      "           synch_2            synch_3            synch_4            synch_5 \n",
      "                 0                  0                  0                  0 \n",
      "\n",
      "           synch_6            synch_8             nflips \n",
      "                 0                  0                  0 \n"
     ]
    }
   ],
   "source": [
    "twiss_fodo_arc=madx.twiss()"
   ]
  },
  {
   "cell_type": "markdown",
   "id": "91c38624",
   "metadata": {},
   "source": [
    "The optics functions at the beginning of your basic cell are now saved in MAD-X under the label `start.fodo.arc`. To get the beta function you can in MAD-X use: `value, start.fodo.arc->betx;` or you can save it in a variable: `foo=start.fodo.arc->betx;`"
   ]
  },
  {
   "cell_type": "code",
   "execution_count": 48,
   "id": "155bdb0a",
   "metadata": {},
   "outputs": [
    {
     "name": "stdout",
     "output_type": "stream",
     "text": [
      "command: beta0  module: control\n",
      "parameter: betx   double value:        102.0232718\n",
      "parameter: alfx   double value:    1.003470945e-06\n",
      "parameter: mux   "
     ]
    },
    {
     "data": {
      "text/plain": [
       "True"
      ]
     },
     "execution_count": 48,
     "metadata": {},
     "output_type": "execute_result"
    },
    {
     "name": "stdout",
     "output_type": "stream",
     "text": [
      "double value:                  0\n",
      "parameter: bety   double value:        17.64106301\n",
      "parameter: alfy   double value:   -1.198585504e-16\n",
      "parameter: muy   double value:                  0\n",
      "parameter: x   double value:                  0\n",
      "parameter: px   double value:                  0\n",
      "parameter: y   double value:                  0\n",
      "parameter: py   double value:                  0\n",
      "parameter: t   double value:                  0\n",
      "parameter: pt   double value:                  0\n",
      "parameter: dx   double value:        0.214621282\n",
      "parameter: dpx   double value:    8.870527265e-05\n",
      "parameter: dy   double value:                  0\n",
      "parameter: dpy   double value:                 -0\n",
      "parameter: wx   double value:                  0\n",
      "parameter: phix   double value:                  0\n",
      "parameter: dmux   double value:                  0\n",
      "parameter: wy   double value:                  0\n",
      "parameter: phiy   double value:                  0\n",
      "parameter: dmuy   double value:                  0\n",
      "parameter: ddx   double value:                  0\n",
      "parameter: ddpx   double value:                  0\n",
      "parameter: ddy   double value:                  0\n",
      "parameter: ddpy   double value:                  0\n",
      "parameter: r11   double value:                 -0\n",
      "parameter: r12   double value:                 -0\n",
      "parameter: r21   double value:                 -0\n",
      "parameter: r22   double value:                 -0\n",
      "parameter: energy   double value:                175\n"
     ]
    }
   ],
   "source": [
    "madx.command.show('start.fodo.arc')"
   ]
  },
  {
   "cell_type": "markdown",
   "id": "d15952d6",
   "metadata": {},
   "source": [
    "Alternatively, you can get the values from the python object `twiss_fodo_arc`, which contains the results of the twiss calculation above."
   ]
  },
  {
   "cell_type": "code",
   "execution_count": 49,
   "id": "93f0c171",
   "metadata": {},
   "outputs": [
    {
     "data": {
      "text/plain": [
       "(102.02327182182907,\n",
       " 17.641063014867772,\n",
       " 1.0034709454121607e-06,\n",
       " -1.1985855040489322e-16,\n",
       " 0.2146212819725416,\n",
       " 8.870527265211028e-05)"
      ]
     },
     "execution_count": 49,
     "metadata": {},
     "output_type": "execute_result"
    }
   ],
   "source": [
    "twiss_fodo_arc['betx'][0],twiss_fodo_arc['bety'][0],twiss_fodo_arc['alfx'][0],twiss_fodo_arc['alfy'][0],twiss_fodo_arc['dx'][0],twiss_fodo_arc['dpx'][0]"
   ]
  },
  {
   "cell_type": "code",
   "execution_count": 50,
   "id": "c901d9fc",
   "metadata": {},
   "outputs": [],
   "source": [
    "madx.use(sequence='match_DS')"
   ]
  },
  {
   "cell_type": "code",
   "execution_count": 51,
   "id": "54762b3b",
   "metadata": {},
   "outputs": [
    {
     "data": {
      "text/plain": [
       "True"
      ]
     },
     "execution_count": 51,
     "metadata": {},
     "output_type": "execute_result"
    }
   ],
   "source": [
    "madx.command.savebeta(label='supressor_limits', place='mark_endds')  # Comment '#s' marks the start of the sequence, '#e' the end"
   ]
  },
  {
   "cell_type": "markdown",
   "id": "9b83114d",
   "metadata": {},
   "source": [
    "Perform a non-periodic Twiss calculation with the just saved starting values and have a look at the optics:"
   ]
  },
  {
   "cell_type": "code",
   "execution_count": 52,
   "id": "4ebdde8a",
   "metadata": {},
   "outputs": [
    {
     "name": "stdout",
     "output_type": "stream",
     "text": [
      "enter Twiss module\n",
      "  \n",
      "open line - error with deltap:   0.000000E+00\n",
      "initial orbit vector:   0.000000E+00  0.000000E+00  0.000000E+00  0.000000E+00  0.000000E+00  0.000000E+00\n",
      "final orbit vector:     0.000000E+00  0.000000E+00  0.000000E+00  0.000000E+00  0.000000E+00  0.000000E+00\n",
      "\n",
      "++++++ table: summ\n",
      "\n",
      "            length             orbit5               alfa            gammatr \n",
      "               480                 -0                  0                  0 \n",
      "\n",
      "                q1                dq1            betxmax              dxmax \n",
      "       2.000073198                  0         102.024019       0.2146222234 \n",
      "\n",
      "             dxrms             xcomax             xcorms                 q2 \n",
      "      0.1426794406                  0                  0        2.000080005 \n",
      "\n",
      "               dq2            betymax              dymax              dyrms \n",
      "                 0        102.0235481                  0                  0 \n",
      "\n",
      "            ycomax             ycorms             deltap            synch_1 \n",
      "                 0                  0                  0                  0 \n",
      "\n",
      "           synch_2            synch_3            synch_4            synch_5 \n",
      "                 0                  0                  0                  0 \n",
      "\n",
      "           synch_6            synch_8             nflips \n",
      "                 0                  0                  0 \n"
     ]
    }
   ],
   "source": [
    "twiss=madx.twiss(betx=twiss_fodo_arc['betx'][0], \n",
    "                 bety=twiss_fodo_arc['bety'][0], \n",
    "                 alfx=twiss_fodo_arc['alfx'][0], \n",
    "                 alfy=twiss_fodo_arc['alfy'][0], \n",
    "                 dx=twiss_fodo_arc['dx'][0], \n",
    "                 dpx=twiss_fodo_arc['dpx'][0], centre=True)"
   ]
  },
  {
   "cell_type": "code",
   "execution_count": 53,
   "id": "d0ef4e6e",
   "metadata": {},
   "outputs": [
    {
     "data": {
      "image/png": "[encoded data removed]",
      "text/plain": [
       "<Figure size 576x360 with 1 Axes>"
      ]
     },
     "metadata": {},
     "output_type": "display_data"
    }
   ],
   "source": [
    "plt.figure(figsize=(8, 5))\n",
    "plt.plot(twiss['s'], twiss['betx'], label=r'$\\beta_x$', color='black')\n",
    "plt.plot(twiss['s'], twiss['bety'], label=r'$\\beta_y$', color='red')\n",
    "plt.xlabel('Path length $s$ [m]')\n",
    "plt.ylabel(r'Beta function $\\beta_{x,y}$ [m]')\n",
    "plt.title('Dispersion supressors')\n",
    "plt.legend();"
   ]
  },
  {
   "cell_type": "code",
   "execution_count": 54,
   "id": "9b61f8d4",
   "metadata": {},
   "outputs": [
    {
     "data": {
      "image/png": "[encoded data removed]",
      "text/plain": [
       "<Figure size 576x360 with 1 Axes>"
      ]
     },
     "metadata": {},
     "output_type": "display_data"
    }
   ],
   "source": [
    "plt.figure(figsize=(8, 5))\n",
    "plt.plot(twiss['s'], twiss['Dx'], label=r'$D_x$', color='green')\n",
    "plt.xlabel('Path length $s$ [m]')\n",
    "plt.ylabel(r'Dispersion function $D_x$ [m]')\n",
    "plt.title('Dispersion supressors')\n",
    "plt.legend();"
   ]
  },
  {
   "cell_type": "markdown",
   "id": "87930023",
   "metadata": {},
   "source": [
    "Value of the dispersion function at the end of the dispersion suppressor (center of this sequence):"
   ]
  },
  {
   "cell_type": "code",
   "execution_count": 55,
   "id": "6a05bbdd",
   "metadata": {},
   "outputs": [
    {
     "data": {
      "text/plain": [
       "array([2.26691172e-06])"
      ]
     },
     "execution_count": 55,
     "metadata": {},
     "output_type": "execute_result"
    }
   ],
   "source": [
    "twiss['dx'][twiss['name'] == 'mark_endds:1'] # in m"
   ]
  },
  {
   "cell_type": "code",
   "execution_count": 56,
   "id": "f88f5e40",
   "metadata": {},
   "outputs": [],
   "source": [
    "supressor = madx.table.summ.dframe()"
   ]
  },
  {
   "cell_type": "markdown",
   "id": "1913c85d",
   "metadata": {},
   "source": [
    "### <span style=\"color:blue;\">b) Define a straight cell for the straight sections </span>"
   ]
  },
  {
   "cell_type": "code",
   "execution_count": 57,
   "id": "17c4464d",
   "metadata": {},
   "outputs": [
    {
     "data": {
      "text/plain": [
       "True"
      ]
     },
     "execution_count": 57,
     "metadata": {},
     "output_type": "execute_result"
    }
   ],
   "source": [
    "madx.input('''\n",
    "   K1QFS := K1QF;\n",
    "    K1QDS := K1QD;\n",
    "\n",
    "    MQFS     :  quadrupole, L=LQ,    K1:=K1QFS;\n",
    "    halfMQFS :  quadrupole, L=LQ*.5, K1:=K1QFS;\n",
    "    MQDS     :  quadrupole, L=LQ,    K1:=K1QDS;\n",
    "\n",
    "JC_fodo_ss : SEQUENCE, REFER=centre, L=Lcell;\n",
    "    MQFS1: halfMQFS, at= .25*LQ;\n",
    "    !MSF1: MSF, at= .5 *LQ + .5*LS+1.0;\n",
    "    MQDS1: MQDS, at=1.0 *LQ + 1.0*LS + 2.0*LB + 4.0;\n",
    "    !MSD1: MSD, at=1.5 *LQ + 1.5*LS + 2.0*LB + 5.0;\n",
    "    MQFS2: halfMQFS, at=1.75*LQ + 2.0*LS + 4.0*LB + 8.0;\n",
    "ENDSEQUENCE;\n",
    "''')"
   ]
  },
  {
   "cell_type": "markdown",
   "id": "53710483",
   "metadata": {},
   "source": [
    "Calculate the optics of the straight cell. If necessary, re-match the optics."
   ]
  },
  {
   "cell_type": "code",
   "execution_count": 58,
   "id": "08801e1b",
   "metadata": {},
   "outputs": [],
   "source": [
    "madx.use(sequence='JC_fodo_ss')"
   ]
  },
  {
   "cell_type": "code",
   "execution_count": 59,
   "id": "21652fec",
   "metadata": {},
   "outputs": [],
   "source": [
    "madx.command.savebeta(label='start.straight.ss', place='#s')\n",
    "straight_start = madx.table.summ.dframe()\n",
    "madx.command.savebeta(label='end.straight.ss', place='#e')\n",
    "straight_end = madx.table.summ.dframe()"
   ]
  },
  {
   "cell_type": "code",
   "execution_count": 60,
   "id": "87c6f2ae",
   "metadata": {},
   "outputs": [
    {
     "name": "stdout",
     "output_type": "stream",
     "text": [
      "enter Twiss module\n",
      "  \n",
      "iteration:   1 error:   0.000000E+00 deltap:   0.000000E+00\n",
      "orbit:   0.000000E+00  0.000000E+00  0.000000E+00  0.000000E+00  0.000000E+00  0.000000E+00\n",
      "\n",
      "++++++ table: summ\n",
      "\n",
      "            length             orbit5               alfa            gammatr \n",
      "                60                 -0                  0                  0 \n",
      "\n",
      "                q1                dq1            betxmax              dxmax \n",
      "      0.2500077318       -0.318318662        102.0237699                  0 \n",
      "\n",
      "             dxrms             xcomax             xcorms                 q2 \n",
      "                 0                  0                  0       0.2500100006 \n",
      "\n",
      "               dq2            betymax              dymax              dyrms \n",
      "     -0.3183209059        102.0235481                 -0                  0 \n",
      "\n",
      "            ycomax             ycorms             deltap            synch_1 \n",
      "                 0                  0                  0                  0 \n",
      "\n",
      "           synch_2            synch_3            synch_4            synch_5 \n",
      "                 0                  0                  0                  0 \n",
      "\n",
      "           synch_6            synch_8             nflips \n",
      "                 0                  0                  0 \n"
     ]
    }
   ],
   "source": [
    "twiss_suppr = twiss\n",
    "twiss=madx.twiss(centre=True)"
   ]
  },
  {
   "cell_type": "code",
   "execution_count": 61,
   "id": "31a9e23d",
   "metadata": {},
   "outputs": [
    {
     "data": {
      "image/png": "[encoded data removed]",
      "text/plain": [
       "<Figure size 576x360 with 1 Axes>"
      ]
     },
     "metadata": {},
     "output_type": "display_data"
    }
   ],
   "source": [
    "plt.figure(figsize=(8, 5))\n",
    "plt.plot(twiss['s'], twiss['betx'], label=r'$\\beta_x$', color='black')\n",
    "plt.plot(twiss['s'], twiss['bety'], label=r'$\\beta_y$', color='red')\n",
    "plt.title('Straight section')\n",
    "plt.xlabel('Path length $s$ [m]')\n",
    "plt.ylabel(r'Beta function $\\beta_{x,y}$ [m]')\n",
    "plt.legend();"
   ]
  },
  {
   "cell_type": "code",
   "execution_count": 62,
   "id": "e64dade5",
   "metadata": {},
   "outputs": [
    {
     "data": {
      "image/png": "[encoded data removed]",
      "text/plain": [
       "<Figure size 576x360 with 1 Axes>"
      ]
     },
     "metadata": {},
     "output_type": "display_data"
    }
   ],
   "source": [
    "plt.figure(figsize=(8, 5))\n",
    "plt.plot(twiss['s'], twiss['Dx'], label=r'$D_x$', color='green')\n",
    "plt.xlabel('Path length $s$ [m]')\n",
    "plt.title('Straight section')\n",
    "plt.ylabel(r'Dispersion function $D_x$ [m]')\n",
    "plt.legend();"
   ]
  },
  {
   "cell_type": "markdown",
   "id": "3a17474d",
   "metadata": {},
   "source": [
    "### <span style=\"color:blue;\">c) Define matching sections for the beginning (\"MSL\") and the end (\"MSR\") of your straight sections. Why do you need matching sections? How many parameters do you need to match? How many degrees of freedoms (=quadrupoles) do you need? </span>"
   ]
  },
  {
   "cell_type": "markdown",
   "id": "b77cc06a",
   "metadata": {},
   "source": [
    "Idea: Since the straight section is going to be installed in the middle of both dispersion supresors, we should check if the optical functions match at in the following places:\n",
    "- End of the 1st dispersion supressor vs. Beginning of the straight section (Otherwise, define MSL)\n",
    "- End of the straight section vs. Beginning of the 2nd dispersion supressor (Otherwise, define MSR)\n"
   ]
  },
  {
   "cell_type": "markdown",
   "id": "c17ad8ff",
   "metadata": {},
   "source": [
    "For that, we can compare the twiss parameters obtained at \"mark_endds\" for the dispersion supressor with the twiss parameters from section b)"
   ]
  },
  {
   "cell_type": "markdown",
   "id": "e554a181",
   "metadata": {},
   "source": [
    "We have to match $\\alpha_x$, $\\alpha_y$, $\\beta_x$, and $\\beta_y$. Four parameters thus four quadrupoles."
   ]
  },
  {
   "cell_type": "code",
   "execution_count": 63,
   "id": "d00d2a1c",
   "metadata": {},
   "outputs": [
    {
     "data": {
      "image/png": "[encoded data removed]",
      "text/plain": [
       "<Figure size 576x360 with 1 Axes>"
      ]
     },
     "metadata": {},
     "output_type": "display_data"
    }
   ],
   "source": [
    "plt.figure(figsize=(8, 5))\n",
    "plt.plot(twiss_suppr['s'], twiss_suppr['betx'], label=r'$\\beta_x$ (disp. suppr.)', color='black')\n",
    "plt.plot(twiss_suppr['s'], twiss_suppr['bety'], label=r'$\\beta_y$ (disp. suppr.)', color='red')\n",
    "shift = twiss_suppr['s'][-1]\n",
    "plt.plot(twiss['s'] + shift, twiss['betx'], label=r'$\\beta_x$ (straight)', color='black', ls='--')\n",
    "plt.plot(twiss['s'] + shift, twiss['bety'], label=r'$\\beta_y$ (straight)', color='red', ls='--')\n",
    "plt.xlabel('Path length $s$ [m]')\n",
    "plt.ylabel(r'Beta function $\\beta_{x,y}$ [m]')\n",
    "plt.legend(); # comment this line out for better view"
   ]
  },
  {
   "cell_type": "code",
   "execution_count": 64,
   "id": "dd55cf49",
   "metadata": {},
   "outputs": [],
   "source": [
    "# Other option\n",
    "#print('End of suppr -> straight line')\n",
    "#print('[1] Rel. diff on betax: ', (twiss_suppr['betx'][-1] - twiss['betx'][0]) / twiss_suppr['betx'][-1])\n",
    "#print('[1] Rel. diff on betay: ', (twiss_suppr['bety'][-1] - twiss['bety'][0]) / twiss_suppr['bety'][-1])\n",
    "#print('[1] Rel. diff on alfx: ', (twiss_suppr['alfx'][-1] - twiss['alfx'][0]) / twiss_suppr['alfx'][-1])\n",
    "#print('[1] Rel. diff on alfy: ', (twiss_suppr['alfy'][-1] - twiss['alfy'][0]) / twiss_suppr['alfy'][-1])#\n",
    "\n",
    "#print('\\nEnd of straight line -> suppr')\n",
    "#print('[1] Rel. diff on betax: ', (twiss['betx'][0] - twiss_suppr['betx'][-1]) / twiss['betx'][0])\n",
    "#print('[1] Rel. diff on betay: ', (twiss['bety'][0] - twiss_suppr['bety'][-1]) / twiss['bety'][0])\n",
    "#print('[1] Rel. diff on alfx: ', (twiss['alfx'][0] - twiss_suppr['alfx'][-1]) / twiss['alfx'][0])\n",
    "#print('[1] Rel. diff on alfy: ', (twiss['alfy'][0] - twiss_suppr['alfy'][-1]) / twiss['alfy'][0])"
   ]
  },
  {
   "cell_type": "code",
   "execution_count": 65,
   "id": "765c28d4",
   "metadata": {},
   "outputs": [
    {
     "data": {
      "text/plain": [
       "True"
      ]
     },
     "execution_count": 65,
     "metadata": {},
     "output_type": "execute_result"
    }
   ],
   "source": [
    "madx.input('''\n",
    "    K1QFMS1 := K1QFS;\n",
    "    K1QDMS1 := K1QDS;\n",
    "    K1QFMS2 := K1QFS;\n",
    "    K1QDMS2 := K1QDS;\n",
    "    K1QFMS3 := K1QFS;\n",
    "    K1QDMS3 := K1QDS;\n",
    "    \n",
    "    MQFMS1   :  quadrupole, L=LQ,    K1:=K1QFMS1;\n",
    "    halfMQFMS1: quadrupole, L=0.5*LQ, K1:=K1QFMS1;\n",
    "    MQDMS1   :  quadrupole, L=LQ,    K1:=K1QDMS1;\n",
    "    MQFMS2   :  quadrupole, L=LQ,    K1:=K1QFMS2;\n",
    "    halfMQFMS2: quadrupole, L=0.5*LQ, K1:=K1QFMS2;\n",
    "    MQDMS2   :  quadrupole, L=LQ,    K1:=K1QDMS2;\n",
    "    MQFMS3   :  quadrupole, L=LQ,    K1:=K1QFMS3;\n",
    "    halfMQFMS3: quadrupole, L=0.5*LQ, K1:=K1QFMS3;\n",
    "    MQDMS3   :  quadrupole, L=LQ,    K1:=K1QDMS3;\n",
    "''')"
   ]
  },
  {
   "cell_type": "markdown",
   "id": "05b488c2",
   "metadata": {},
   "source": [
    "*Comment:* If you use quadrupoles with half the length be careful about the type of quadrupole at the beginning and at the end of the matching section. They might belong to a regular cell or the dispersion suppressor."
   ]
  },
  {
   "cell_type": "code",
   "execution_count": 67,
   "id": "0db31a74",
   "metadata": {},
   "outputs": [
    {
     "name": "stdout",
     "output_type": "stream",
     "text": [
      "++++++ info: lms redefined\n"
     ]
    },
    {
     "data": {
      "text/plain": [
       "True"
      ]
     },
     "execution_count": 67,
     "metadata": {},
     "output_type": "execute_result"
    }
   ],
   "source": [
    "madx.input('''\n",
    "LMS=3*Lcell; ! length of the matching section\n",
    "\n",
    "JC_msl : SEQUENCE, REFER=centre, L=LMS;\n",
    "    eMQFMS1: halfMQFMS1, at= .25*LQ;\n",
    "    eMQDMS1: MQDMS1,     at=1.0 *LQ + 1.0*LS + 2.0*LB + 4.0;\n",
    "    eMQFMS2: halfMQFMS2, at=1.75*LQ + 2.0*LS + 4.0*LB + 8.0; \n",
    "!\n",
    "    eMQFMS3: halfMQFMS2, at=.25 *LQ + Lcell;\n",
    "    eMQDMS2: MQDMS2,     at=1.0 *LQ + 1.0*LS + 2.0*LB + 4.0 + Lcell;\n",
    "    eMQFMS4: halfMQFMS3, at=1.75*LQ + 2.0*LS + 4.0*LB + 8.0 + Lcell;\n",
    "!\n",
    "    eMQFMS5: halfMQFMS3, at=.25 *LQ + 2*Lcell;\n",
    "    eMQDMS3: MQDMS3,     at=1.0 *LQ + 1.0*LS + 2.0*LB + 4.0 + 2*Lcell;\n",
    "    eMQFMS6: halfMQFMS1, at=1.75*LQ + 2.0*LS + 4.0*LB + 8.0 + 2*Lcell;\n",
    "ENDSEQUENCE;\n",
    "\n",
    "JC_msr : SEQUENCE, REFER=centre, L=LMS;\n",
    "    eMQFMS7: halfMQFMS3, at= .25*LQ;\n",
    "    eMQDMS4: MQDMS3,     at=1.0 *LQ + 1.0*LS + 2.0*LB + 4.0;\n",
    "    eMQFMS8: halfMQFMS2, at=1.75*LQ + 2.0*LS + 4.0*LB + 8.0; \n",
    "!\n",
    "    eMQFMS9: halfMQFMS2, at=.25 *LQ + Lcell;\n",
    "    eMQDMS5: MQDMS2,     at=1.0 *LQ + 1.0*LS + 2.0*LB + 4.0 + Lcell;\n",
    "    eMQFMS10:halfMQFMS1, at=1.75*LQ + 2.0*LS + 4.0*LB + 8.0 + Lcell;\n",
    "!\n",
    "    eMQFMS11:halfMQFMS1, at=.25 *LQ + 2*Lcell;\n",
    "    eMQDMS6: MQDMS1,     at=1.0 *LQ + 1.0*LS + 2.0*LB + 4.0 + 2*Lcell;\n",
    "    eMQFMS12:halfMQFMS3, at=1.75*LQ + 2.0*LS + 4.0*LB + 8.0 + 2*Lcell;\n",
    "ENDSEQUENCE;\n",
    "''')"
   ]
  },
  {
   "cell_type": "markdown",
   "id": "a480fbf8",
   "metadata": {},
   "source": [
    "Define a small symmetric sequence to match the optics at the transition from the periodic solution in the arc to the one in the straight section. Use following structure: `arc cell` `DSR` `MSL` `straight cell` ... `straight cell` `MSR` `DSL` `arc cell`"
   ]
  },
  {
   "cell_type": "code",
   "execution_count": 68,
   "id": "46a0f7dc",
   "metadata": {},
   "outputs": [
    {
     "data": {
      "text/plain": [
       "True"
      ]
     },
     "execution_count": 68,
     "metadata": {},
     "output_type": "execute_result"
    }
   ],
   "source": [
    "madx.input('''\n",
    "mark_fodos_ss: marker;\n",
    "\n",
    "match_MS : sequence, refer=centre, L = 4*Lcell + 2*LDS + 2*LMS;\n",
    "    JC_fodo_arc,   at = 0.5*Lcell;\n",
    "    JC_dsl,        at =     Lcell + 0.5*LDS;\n",
    "    mark_endds,    at =     Lcell +     LDS;           ! Marker at the end of the dispersion suppressor\n",
    "    JC_msl,        at =     Lcell +     LDS +  .5*LMS;\n",
    "    mark_fodos_ss, at =     Lcell +     LDS +     LMS; ! Marker at the end of the matching section, beginning of straight FODO cell\n",
    "    JC_fodo_ss,    at = 1.5*Lcell +     LDS +     LMS;\n",
    "    JC_fodo_ss,    at = 2.5*Lcell +     LDS +     LMS;\n",
    "    JC_msr,        at = 3.0*Lcell +     LDS + 1.5*LMS;\n",
    "    JC_dsr,        at = 3.0*Lcell + 1.5*LDS + 2.0*LMS;\n",
    "    JC_fodo_arc,   at = 3.5*Lcell + 2.0*LDS + 2.0*LMS;\n",
    "ENDSEQUENCE;\n",
    "''')"
   ]
  },
  {
   "cell_type": "code",
   "execution_count": 69,
   "id": "8ee5b480",
   "metadata": {},
   "outputs": [],
   "source": [
    "madx.use(sequence='match_MS')"
   ]
  },
  {
   "cell_type": "markdown",
   "id": "e6f55c6e",
   "metadata": {},
   "source": [
    "Start the optics calculation with values at the begining of the arc fodo cell"
   ]
  },
  {
   "cell_type": "code",
   "execution_count": 70,
   "id": "786d34b3",
   "metadata": {},
   "outputs": [
    {
     "data": {
      "text/plain": [
       "(102.02327182182907,\n",
       " 17.641063014867772,\n",
       " 1.0034709454121607e-06,\n",
       " -1.1985855040489322e-16,\n",
       " 0.2146212819725416,\n",
       " 8.870527265211028e-05)"
      ]
     },
     "execution_count": 70,
     "metadata": {},
     "output_type": "execute_result"
    }
   ],
   "source": [
    "twiss_fodo_arc['betx'][0], twiss_fodo_arc['bety'][0], twiss_fodo_arc['alfx'][0], twiss_fodo_arc['alfy'][0],twiss_fodo_arc['dx'][0], twiss_fodo_arc['dpx'][0]"
   ]
  },
  {
   "cell_type": "code",
   "execution_count": 71,
   "id": "3c966eee",
   "metadata": {},
   "outputs": [
    {
     "name": "stdout",
     "output_type": "stream",
     "text": [
      "enter Twiss module\n",
      "  \n",
      "open line - error with deltap:   0.000000E+00\n",
      "initial orbit vector:   0.000000E+00  0.000000E+00  0.000000E+00  0.000000E+00  0.000000E+00  0.000000E+00\n",
      "final orbit vector:     0.000000E+00  0.000000E+00  0.000000E+00  0.000000E+00  0.000000E+00  0.000000E+00\n",
      "\n",
      "++++++ table: summ\n",
      "\n",
      "            length             orbit5               alfa            gammatr \n",
      "               840                 -0                  0                  0 \n",
      "\n",
      "                q1                dq1            betxmax              dxmax \n",
      "       3.500115051                  0        102.0242681        0.214622219 \n",
      "\n",
      "             dxrms             xcomax             xcorms                 q2 \n",
      "      0.1102459538                  0                  0        3.500140009 \n",
      "\n",
      "               dq2            betymax              dymax              dyrms \n",
      "                 0        102.0235481                  0                  0 \n",
      "\n",
      "            ycomax             ycorms             deltap            synch_1 \n",
      "                 0                  0                  0                  0 \n",
      "\n",
      "           synch_2            synch_3            synch_4            synch_5 \n",
      "                 0                  0                  0                  0 \n",
      "\n",
      "           synch_6            synch_8             nflips \n",
      "                 0                  0                  0 \n"
     ]
    }
   ],
   "source": [
    "twiss = madx.twiss(betx=twiss_fodo_arc['betx'][0], \n",
    "                   bety=twiss_fodo_arc['bety'][0], \n",
    "                   alfx=twiss_fodo_arc['alfx'][0], \n",
    "                   alfy=twiss_fodo_arc['alfy'][0],\n",
    "                   dx=twiss_fodo_arc['dx'][0], \n",
    "                   dpx=twiss_fodo_arc['dpx'][0], centre=True)"
   ]
  },
  {
   "cell_type": "code",
   "execution_count": 72,
   "id": "b5975cb9",
   "metadata": {},
   "outputs": [
    {
     "data": {
      "image/png": "[encoded data removed]",
      "text/plain": [
       "<Figure size 576x360 with 1 Axes>"
      ]
     },
     "metadata": {},
     "output_type": "display_data"
    }
   ],
   "source": [
    "plt.figure(figsize=(8, 5))\n",
    "plt.plot(twiss['s'], twiss['betx'], label=r'$\\beta_x$', color='black')\n",
    "plt.plot(twiss['s'], twiss['bety'], label=r'$\\beta_y$', color='red')\n",
    "plt.xlabel('Path length $s$ [m]')\n",
    "plt.ylabel(r'Beta function $\\beta_{x,y}$ [m]')\n",
    "plt.legend();"
   ]
  },
  {
   "cell_type": "code",
   "execution_count": 73,
   "id": "f0702df3",
   "metadata": {},
   "outputs": [
    {
     "data": {
      "image/png": "[encoded data removed]",
      "text/plain": [
       "<Figure size 576x360 with 1 Axes>"
      ]
     },
     "metadata": {},
     "output_type": "display_data"
    }
   ],
   "source": [
    "plt.figure(figsize=(8, 5))\n",
    "plt.plot(twiss['s'], twiss['Dx'], label=r'$D_x$', color='green')\n",
    "plt.xlabel('Path length $s$ [m]')\n",
    "plt.ylabel(r'Dispersion function $D_x$ [m]')\n",
    "plt.legend();"
   ]
  },
  {
   "cell_type": "markdown",
   "id": "973b7b05",
   "metadata": {},
   "source": [
    "Match the optics. Where do you have to fulfill what constraints? Do you need to install markers in your sequence to retrieve that information?"
   ]
  },
  {
   "cell_type": "code",
   "execution_count": 74,
   "id": "2b12cd23",
   "metadata": {},
   "outputs": [
    {
     "name": "stdout",
     "output_type": "stream",
     "text": [
      "START MATCHING\n",
      "\n",
      "number of sequences: 1\n",
      "sequence name: match_ms\n",
      "number of beta0s: 1\n",
      "BETA0 name: start.fodo.arc\n",
      "++++++ warning: illegal expand range ignored: mark_endds,[...]\n",
      "++++++ warning: illegal expand range ignored: mark_fodos_ss,[...]\n",
      "number of variables:    9\n",
      "user given constraints: 0\n",
      "total constraints:      0\n",
      "\n",
      "START JACOBIAN:\n",
      "\n",
      " JACOBIAN Strategy =           3\n",
      "Initial Penalty Function =   0.0000000000000000E+00\n",
      "\n",
      "\n",
      "++++++ warning: JACOBIAN  penalty function already ok\n",
      " Final difference norm:   0.0000000000000000     \n",
      "\n",
      "MATCH SUMMARY\n",
      "\n",
      "Node_Name                  Constraint   Type  Target Value       Final Value        Penalty\n",
      "--------------------------------------------------------------------------------------------------\n",
      "\n",
      "\n",
      "Final Penalty Function =   0.00000000e+00\n",
      "\n",
      "\n",
      "\n",
      "\n",
      "\n",
      "Variable                 Final Value  Initial Value Lower Limit  Upper Limit \n",
      "--------------------------------------------------------------------------------\n",
      "k1qfds1                   4.76749e-02  4.76749e-02 -1.00000e+20  1.00000e+20\n",
      "k1qdds1                  -4.76752e-02 -4.76752e-02 -1.00000e+20  1.00000e+20\n",
      "k1qfds2                   4.76749e-02  4.76749e-02 -1.00000e+20  1.00000e+20\n",
      "k1qdds2                  -4.76752e-02 -4.76752e-02 -1.00000e+20  1.00000e+20\n",
      "k1qfms1                   4.76749e-02  4.76749e-02 -1.00000e+20  1.00000e+20\n",
      "k1qdms1                  -4.76752e-02 -4.76752e-02 -1.00000e+20  1.00000e+20\n",
      "k1qfms2                   4.76749e-02  4.76749e-02 -1.00000e+20  1.00000e+20\n",
      "k1qdms2                  -4.76752e-02 -4.76752e-02 -1.00000e+20  1.00000e+20\n",
      "k1qdms3                  -4.76752e-02 -4.76752e-02 -1.00000e+20  1.00000e+20\n",
      "\n",
      "END MATCH SUMMARY\n",
      "\n",
      "VARIABLE \"TAR\" SET TO   0.00000000e+00\n"
     ]
    },
    {
     "data": {
      "text/plain": [
       "True"
      ]
     },
     "execution_count": 74,
     "metadata": {},
     "output_type": "execute_result"
    }
   ],
   "source": [
    "madx.input('''\n",
    "match, sequence= match_MS, beta0=start.fodo.arc;\n",
    "    constraint, range=mark_endds, [...];\n",
    "    constraint, range=mark_fodos_ss, [...];\n",
    "    vary, name=k1qfds1, step=1.0E-10;\n",
    "    vary, name=k1qdds1, step=1.0E-10;\n",
    "    vary, name=k1qfds2, step=1.0E-10;\n",
    "    vary, name=k1qdds2, step=1.0E-10;\n",
    "    vary, name=k1qfms1, step=1.0E-10;\n",
    "    vary, name=k1qdms1, step=1.0E-10;\n",
    "    vary, name=k1qfms2, step=1.0E-10;\n",
    "    vary, name=k1qdms2, step=1.0E-10;\n",
    "    vary, name=k1qdms3, step=1.0E-10;\n",
    "    jacobian,calls=20,tolerance=1.e-15,bisec=3;\n",
    "endmatch;\n",
    "''')"
   ]
  },
  {
   "cell_type": "code",
   "execution_count": null,
   "id": "7ba99e46",
   "metadata": {},
   "outputs": [],
   "source": [
    "twiss = madx.twiss(betx=twiss_fodo_arc['betx'][0], \n",
    "                   bety=twiss_fodo_arc['bety'][0], \n",
    "                   alfx=twiss_fodo_arc['alfx'][0], \n",
    "                   alfy=twiss_fodo_arc['alfy'][0],\n",
    "                   dx=twiss_fodo_arc['dx'][0], \n",
    "                   dpx=twiss_fodo_arc['dpx'][0], centre=True)"
   ]
  },
  {
   "cell_type": "code",
   "execution_count": null,
   "id": "ea3640fb",
   "metadata": {},
   "outputs": [],
   "source": [
    "plt.figure(figsize=(8, 5))\n",
    "plt.plot(twiss['s'], twiss['betx'], label=r'$\\beta_x$', color='black')\n",
    "plt.plot(twiss['s'], twiss['bety'], label=r'$\\beta_y$', color='red')\n",
    "plt.xlabel('Path length $s$ [m]')\n",
    "plt.ylabel(r'Beta function $\\beta_{x,y}$ [m]')\n",
    "plt.legend();"
   ]
  },
  {
   "cell_type": "code",
   "execution_count": null,
   "id": "143b34e8",
   "metadata": {},
   "outputs": [],
   "source": [
    "plt.figure(figsize=(8, 5))\n",
    "plt.plot(twiss['s'], twiss['Dx'], label=r'$D_x$', color='green')\n",
    "plt.xlabel('Path length $s$ [m]')\n",
    "plt.ylabel(r'Dispersion function $D_x$ [m]')\n",
    "plt.legend();"
   ]
  },
  {
   "cell_type": "markdown",
   "id": "b3387204",
   "metadata": {},
   "source": [
    "Confirm the matching result with a periodic Twiss calculation."
   ]
  },
  {
   "cell_type": "code",
   "execution_count": null,
   "id": "3a3e87bb",
   "metadata": {},
   "outputs": [],
   "source": [
    "twiss=madx.twiss()"
   ]
  },
  {
   "cell_type": "code",
   "execution_count": null,
   "id": "6dda9a60",
   "metadata": {},
   "outputs": [],
   "source": [
    "plt.figure(figsize=(8, 5))\n",
    "plt.plot(twiss['s'], twiss['betx'], label=r'$\\beta_x$', color='black')\n",
    "plt.plot(twiss['s'], twiss['bety'], label=r'$\\beta_y$', color='red')\n",
    "plt.xlabel('Path length $s$ [m]')\n",
    "plt.ylabel(r'Beta function $\\beta_{x,y}$ [m]')\n",
    "plt.legend();"
   ]
  },
  {
   "cell_type": "code",
   "execution_count": null,
   "id": "7a822f22",
   "metadata": {},
   "outputs": [],
   "source": [
    "plt.figure(figsize=(8, 5))\n",
    "plt.plot(twiss['s'], twiss['Dx'], label=r'$D_x$', color='green')\n",
    "plt.xlabel('Path length $s$ [m]')\n",
    "plt.ylabel(r'Dispersion function $D_x$ [m]')\n",
    "plt.legend();"
   ]
  },
  {
   "cell_type": "markdown",
   "id": "f55c9487",
   "metadata": {},
   "source": [
    "### <span style=\"color:blue;\">d) Include straight sections at four places in your ring</span>"
   ]
  },
  {
   "cell_type": "markdown",
   "id": "44d78e75",
   "metadata": {},
   "source": [
    "How do you distribute the straight sections?"
   ]
  },
  {
   "cell_type": "code",
   "execution_count": null,
   "id": "85ecfa3c",
   "metadata": {},
   "outputs": [],
   "source": [
    "numberOfArcCells = np.int(numberOfCells/4)"
   ]
  },
  {
   "cell_type": "code",
   "execution_count": null,
   "id": "0ea09dd6",
   "metadata": {},
   "outputs": [],
   "source": [
    "madx.input('''\n",
    "numberOfArcCells = numberOfCells/4;\n",
    "numberOfStraightCells = [...];\n",
    "''')"
   ]
  },
  {
   "cell_type": "markdown",
   "id": "7f4a058b",
   "metadata": {},
   "source": [
    "Define sequences for your arcs, straight sections and the full ring. As this ring becomes very long, also define a sequence for one quarter of the ring to speed up matching routines (one straight section and one arc)."
   ]
  },
  {
   "cell_type": "markdown",
   "id": "a346528a",
   "metadata": {},
   "source": [
    "We use the following structure to define the arcs: <br />`dispersion suppressor left` `arc cell`...`arc cell` `dispersion suppressor right`\n",
    "\n",
    "We use the following structure to define the straight sections: <br />`matching section left` `straight cell`...`straight cell` `matching section right`"
   ]
  },
  {
   "cell_type": "code",
   "execution_count": null,
   "id": "cb4fe1c7",
   "metadata": {},
   "outputs": [],
   "source": [
    "madx.input('''\n",
    "Larc=numberOfArcCells*Lcell+2*LDS;\n",
    "\n",
    "option, -info;\n",
    "i = 0;\n",
    "JC_arc : SEQUENCE, refer=centre, L=Larc; \n",
    "    JC_dsl, at = LDS / 2;\n",
    "    while (i < numberOfArcCells) {\n",
    "        JC_fodo_arc, at=LDS + (i + 0.5) * Lcell;\n",
    "        i = i + 1;\n",
    "    }\n",
    "    JC_dsr, at=numberOfArcCells * Lcell + 1.5 * LDS;\n",
    "ENDSEQUENCE;\n",
    "option, info;\n",
    "\n",
    "LSS=numberOfStraightCells*Lcell+2*LMS;\n",
    "\n",
    "option, -info;\n",
    "j=0;\n",
    "JC_ss : SEQUENCE, refer=centre, L=LSS; \n",
    "    JC_msl, at = LMS/2;\n",
    "    while (j<numberOfStraightCells) {\n",
    "        JC_fodo_ss,  at = LMS + (j+0.5)*Lcell;\n",
    "        j=j+1;\n",
    "    }\n",
    "    JC_msr, at =numberOfStraightCells*Lcell+1.5*LMS;\n",
    "ENDSEQUENCE;\n",
    "option, info;\n",
    "\n",
    "\n",
    "JC_quarter : sequence, refer=centre, L=Larc+Lss;\n",
    "    JC_ss, at=0.5*Lss;\n",
    "    JC_arc, at = Lss+0.5*Larc;\n",
    "ENDSEQUENCE;\n",
    "\n",
    "LJC=4*(Larc+Lss);\n",
    "\n",
    "JC : SEQUENCE, refer=centre, L=LJC;\n",
    "    JC_arc, at = 0.5*Larc;\n",
    "    JC_ss, at = 1.0*Larc+0.5*Lss;\n",
    "    JC_arc, at = 1.5*Larc+Lss;\n",
    "    JC_ss, at = 2.0*Larc+1.5*Lss;\n",
    "    JC_arc, at = 2.5*Larc+2*Lss;\n",
    "    JC_ss, at = 3.0*Larc+2.5*Lss;\n",
    "    JC_arc, at = 3.5*Larc+3*LSS;\n",
    "    JC_ss, at = 4.0*Larc+3.5*Lss;\n",
    "ENDSEQUENCE;\n",
    "''')"
   ]
  },
  {
   "cell_type": "code",
   "execution_count": null,
   "id": "b6f247ef",
   "metadata": {},
   "outputs": [],
   "source": [
    "madx.use(sequence='JC')"
   ]
  },
  {
   "cell_type": "code",
   "execution_count": null,
   "id": "1029d1f7",
   "metadata": {},
   "outputs": [],
   "source": [
    "twiss = madx.twiss()"
   ]
  },
  {
   "cell_type": "code",
   "execution_count": null,
   "id": "75458148",
   "metadata": {},
   "outputs": [],
   "source": [
    "plt.figure(figsize=(8, 5))\n",
    "plt.plot(twiss['s'], twiss['betx'], label=r'$\\beta_x$', color='black')\n",
    "plt.plot(twiss['s'], twiss['bety'], label=r'$\\beta_y$', color='red')\n",
    "plt.xlabel('Path length $s$ [m]')\n",
    "plt.ylabel(r'Beta function $\\beta_{x,y}$ [m]')\n",
    "plt.legend();\n",
    "# plt.xlim(15000,23000)"
   ]
  },
  {
   "cell_type": "code",
   "execution_count": null,
   "id": "cf69415a",
   "metadata": {},
   "outputs": [],
   "source": [
    "plt.figure(figsize=(8, 5))\n",
    "plt.plot(twiss['s'], twiss['Dx'], label=r'$D_x$', color='green')\n",
    "plt.xlabel('Path length $s$ [m]')\n",
    "plt.ylabel(r'Dispersion function $D_x$ [m]')\n",
    "plt.legend();\n",
    "# plt.xlim(15000,23000)"
   ]
  },
  {
   "cell_type": "markdown",
   "id": "69d65cea",
   "metadata": {},
   "source": [
    "### <span style=\"color:blue;\">e) Observe tunes and chromaticities. Do they match your expectation? Re-match tunes and chromaticities.</span>"
   ]
  },
  {
   "cell_type": "markdown",
   "id": "cd6794e5",
   "metadata": {},
   "source": [
    "First, the tunes need to be matched to avoid hitting any resonances. As this storage ring is very long, the quadrupole strengths of the arc cells could be used to do the adjustment. If the phase advance of those cells is critical and should not be touched the quadrupoles of the straight cells can be used. In order to avoid distortions of the optics, an advanced matching procedure is presented in this context. <br />\n",
    "We want to match following tunes:"
   ]
  },
  {
   "cell_type": "code",
   "execution_count": null,
   "id": "f1f4db86",
   "metadata": {},
   "outputs": [],
   "source": [
    "tuneToBeX = [...]\n",
    "tuneToBeY = [...]\n",
    "\n",
    "madx.input(f'''\n",
    "tuneToBeX = {tuneToBeX};\n",
    "tuneToBeY = {tuneToBeY};\n",
    "''')"
   ]
  },
  {
   "cell_type": "markdown",
   "id": "97cec009",
   "metadata": {},
   "source": [
    "---\n",
    "#### <span style=\"color:#af0000;\">GURU mode switched on!</span>\n",
    "\n",
    "Lean back, enjoy the show and learn:"
   ]
  },
  {
   "cell_type": "markdown",
   "id": "55e7848a",
   "metadata": {},
   "source": [
    "For the matching we only use one quarter of the ring to speed up the process:"
   ]
  },
  {
   "cell_type": "code",
   "execution_count": null,
   "id": "041cd0eb",
   "metadata": {
    "tags": []
   },
   "outputs": [],
   "source": [
    "madx.use(sequence='JC_quarter')"
   ]
  },
  {
   "cell_type": "markdown",
   "id": "9c81a864",
   "metadata": {},
   "source": [
    "A set of markers is installed to mark the beginning of two straight cells and the beginning of the arc fodo cells. Take notice of the comments to place your markers correctly."
   ]
  },
  {
   "cell_type": "code",
   "execution_count": null,
   "id": "72cfe5fb",
   "metadata": {},
   "outputs": [],
   "source": [
    "madx.input('''\n",
    "SEQEDIT, sequence=JC_quarter;\n",
    "    flatten;\n",
    "ENDEDIT;\n",
    "SEQEDIT, sequence=JC_quarter;\n",
    "    install, element=marker_s1, class=marker, at= 3*Lcell; ! start of first straight fodo cell\n",
    "    install, element=marker_s2, class=marker, at= 4*Lcell; ! end of first straight fodo cell\n",
    "    install, element=marker_startfodo,   class=marker, at= LSS+LDS; ! start of first arc fodo cell\n",
    "    install, element=marker_startfodo2,    class=marker, at= LSS+LDS; ! end of first arc fodo cell\n",
    "ENDEDIT;\n",
    "SEQEDIT, sequence=JC_quarter;\n",
    "    flatten;\n",
    "ENDEDIT;\n",
    "''')"
   ]
  },
  {
   "cell_type": "markdown",
   "id": "b9f7bcef",
   "metadata": {},
   "source": [
    "The sequence is rearranged such that it starts with the regular arc cells and ends at the end of the dispersion suppressor AFTER the straight section. In other words, we start and end at the beginning of a regular arc cell, where we know the periodic solution of the optics functions."
   ]
  },
  {
   "cell_type": "code",
   "execution_count": null,
   "id": "916861e4",
   "metadata": {},
   "outputs": [],
   "source": [
    "madx.input('''\n",
    "SEQEDIT, sequence=JC_quarter;\n",
    "    cycle, start=marker_startfodo;\n",
    "ENDEDIT;\n",
    "SEQEDIT, sequence=JC_quarter;\n",
    "    flatten;\n",
    "ENDEDIT;\n",
    "''')"
   ]
  },
  {
   "cell_type": "code",
   "execution_count": null,
   "id": "818b25f3",
   "metadata": {},
   "outputs": [],
   "source": [
    "madx.use(sequence='JC_quarter')"
   ]
  },
  {
   "cell_type": "code",
   "execution_count": null,
   "id": "38864dfb",
   "metadata": {},
   "outputs": [],
   "source": [
    "madx.command.savebeta(label='start_JC', place='#S')"
   ]
  },
  {
   "cell_type": "code",
   "execution_count": null,
   "id": "bde43402",
   "metadata": {},
   "outputs": [],
   "source": [
    "twiss = madx.twiss()"
   ]
  },
  {
   "cell_type": "code",
   "execution_count": null,
   "id": "f29aa267",
   "metadata": {},
   "outputs": [],
   "source": [
    "twiss['betx'][0], twiss['alfx'][0], twiss['dx'][0]"
   ]
  },
  {
   "cell_type": "markdown",
   "id": "af9bba37",
   "metadata": {},
   "source": [
    "Validate the start values with a non-periodic Twiss calculation and observe the optics:"
   ]
  },
  {
   "cell_type": "code",
   "execution_count": null,
   "id": "9bd09bb7",
   "metadata": {},
   "outputs": [],
   "source": [
    "madx.twiss(beta0='start_JC');"
   ]
  },
  {
   "cell_type": "code",
   "execution_count": null,
   "id": "3bf04feb",
   "metadata": {},
   "outputs": [],
   "source": [
    "plt.figure(figsize=(8, 5))\n",
    "plt.plot(twiss['s'], twiss['betx'], label=r'$\\beta_x$', color='black')\n",
    "plt.plot(twiss['s'], twiss['bety'], label=r'$\\beta_y$', color='red')\n",
    "plt.xlabel('Path length $s$ [m]')\n",
    "plt.ylabel(r'Beta function $\\beta_{x,y}$ [m]')\n",
    "plt.legend();\n",
    "plt.xlim(15000,20000)"
   ]
  },
  {
   "cell_type": "code",
   "execution_count": null,
   "id": "3584ab5b",
   "metadata": {},
   "outputs": [],
   "source": [
    "plt.figure(figsize=(8, 5))\n",
    "plt.plot(twiss['s'], twiss['Dx'], label=r'$D_x$', color='green')\n",
    "plt.xlabel('Path length $s$ [m]')\n",
    "plt.ylabel(r'Dispersion function $D_x$ [m]')\n",
    "plt.legend();\n",
    "plt.xlim(15000,20000)"
   ]
  },
  {
   "cell_type": "markdown",
   "id": "0de2b3a1",
   "metadata": {},
   "source": [
    "This matching command uses expressions to tailor the constraints. Expressions allow to access values of the Twiss calculations performed during the matching run. Besides the tunes, the 3rd and 4th constraint require the same values of the beta function at the beginning and at the end of one straight cell to obtain a periodic solution in the straight section. The following constraints target the end of the sequence, where the start values need to be restored in order to obtain an overall periodic solution.<br>\n",
    "Because of the large number of constraints and variables, the matching needs to be done in two steps as indicated in the MAD-X code:"
   ]
  },
  {
   "cell_type": "code",
   "execution_count": null,
   "id": "6d7b5a1b",
   "metadata": {},
   "outputs": [],
   "source": [
    "madx.input('''\n",
    "match,use_macro;\n",
    "    vary, name=K1QDDS1, step=1.0E-8;\n",
    "    vary, name=K1QDDS2, step=1.0E-8;\n",
    "    vary, name=K1QFDS1, step=1.0E-8;\n",
    "    vary, name=K1QFDS2, step=1.0E-8;\n",
    "!\n",
    "    vary, name=k1qfs,   step=1.0E-8;\n",
    "    vary, name=k1qds,   step=1.0E-8;\n",
    "!\n",
    "    vary, name=K1QDMS1, step=1.0E-8;\n",
    "    vary, name=K1QDMS2, step=1.0E-8;\n",
    "    vary, name=K1QDMS3, step=1.0E-8;\n",
    "    vary, name=K1QFMS1, step=1.0E-8;\n",
    "    vary, name=K1QFMS2, step=1.0E-8;\n",
    "!\n",
    "calc_twiss : macro= { USE,sequence= JC_quarter; TWISS, beta0=start_JC; };\n",
    "!\n",
    "    constraint, weight=10, expr=table(summ,q1)=0.25*tuneToBeX;\n",
    "    constraint, weight=10, expr=table(summ,q2)=0.25*tuneToBeY;\n",
    "!\n",
    "    constraint, weight= 1, expr=table(twiss,marker_s2,betx)-table(twiss,marker_s1,betx)=0;\n",
    "    constraint, weight= 1, expr=table(twiss,marker_s2,bety)-table(twiss,marker_s1,bety)=0;\n",
    "!\n",
    "    constraint, weight=10, expr=table(twiss,marker_startfodo2,betx)=start_JC->betx;\n",
    "    constraint, weight=10, expr=table(twiss,marker_startfodo2,bety)=start_JC->bety;\n",
    "!\n",
    "    jacobian, calls=20, tolerance=1.0E-11, bisec=3;\n",
    "endmatch;\n",
    "''')"
   ]
  },
  {
   "cell_type": "code",
   "execution_count": null,
   "id": "d138ae44-f5dc-448c-b953-32eea481b47d",
   "metadata": {},
   "outputs": [],
   "source": [
    "madx.twiss();"
   ]
  },
  {
   "cell_type": "code",
   "execution_count": null,
   "id": "1ffc3c4d-ddf7-4f00-b796-bcec16e2d008",
   "metadata": {},
   "outputs": [],
   "source": [
    "madx.input('''\n",
    "match,use_macro;\n",
    "    vary, name=K1QDDS1, step=1.0E-8;\n",
    "    vary, name=K1QDDS2, step=1.0E-8;\n",
    "    vary, name=K1QFDS1, step=1.0E-8;\n",
    "    vary, name=K1QFDS2, step=1.0E-8;\n",
    "!\n",
    "    vary, name=k1qfs,   step=1.0E-8;\n",
    "    vary, name=k1qds,   step=1.0E-8;\n",
    "!\n",
    "    vary, name=K1QDMS1, step=1.0E-8;\n",
    "    vary, name=K1QDMS2, step=1.0E-8;\n",
    "    vary, name=K1QDMS3, step=1.0E-8;\n",
    "    vary, name=K1QFMS1, step=1.0E-8;\n",
    "    vary, name=K1QFMS2, step=1.0E-8;\n",
    "!\n",
    "calc_twiss : macro= { USE,sequence= JC_quarter; TWISS, beta0=start_JC; };\n",
    "!\n",
    "    constraint, weight=10, expr=table(summ,q1)=0.25*tuneToBeX;\n",
    "    constraint, weight=10, expr=table(summ,q2)=0.25*tuneToBeY;\n",
    "!\n",
    "    constraint, weight= 1, expr=table(twiss,marker_s2,betx)-table(twiss,marker_s1,betx)=0;\n",
    "    constraint, weight= 1, expr=table(twiss,marker_s2,bety)-table(twiss,marker_s1,bety)=0;\n",
    "!\n",
    "    constraint, weight=10, expr=table(twiss,marker_startfodo2,betx)=start_JC->betx;\n",
    "    constraint, weight=10, expr=table(twiss,marker_startfodo2,bety)=start_JC->bety;\n",
    "!\n",
    "    constraint, weight=10, expr=table(twiss,marker_startfodo2,alfx)=start_JC->alfx;\n",
    "    constraint, weight=10, expr=table(twiss,marker_startfodo2,alfy)=start_JC->alfy;\n",
    "    constraint, weight=10, expr=table(twiss,marker_startfodo2,dx)=start_JC->dx;\n",
    "    constraint, weight=10, expr=table(twiss,marker_startfodo2,dy)=start_JC->dy;\n",
    "    constraint, weight=10, expr=table(twiss,marker_startfodo2,dpx)=start_JC->dpx;\n",
    "    constraint, weight=10, expr=table(twiss,marker_startfodo2,dpy)=start_JC->dpy;\n",
    "!\n",
    "    jacobian, calls=20, tolerance=1.0E-11, bisec=3;\n",
    "endmatch;\n",
    "''')"
   ]
  },
  {
   "cell_type": "code",
   "execution_count": null,
   "id": "9fcd4e52",
   "metadata": {},
   "outputs": [],
   "source": [
    "twiss = madx.twiss();\n",
    "# madx.twiss(beta0='start_JC');"
   ]
  },
  {
   "cell_type": "code",
   "execution_count": null,
   "id": "a7ed8480",
   "metadata": {},
   "outputs": [],
   "source": [
    "madx.command.value('0.25*tuneToBeX, 0.25*tuneToBeY')"
   ]
  },
  {
   "cell_type": "code",
   "execution_count": null,
   "id": "472cf01a",
   "metadata": {},
   "outputs": [],
   "source": [
    "plt.figure(figsize=(8, 5))\n",
    "plt.plot(twiss['s'], twiss['betx'], label=r'$\\beta_x$', color='black')\n",
    "plt.plot(twiss['s'], twiss['bety'], label=r'$\\beta_y$', color='red')\n",
    "plt.xlabel('Path length $s$ [m]')\n",
    "plt.ylabel(r'Beta function $\\beta_{x,y}$ [m]')\n",
    "plt.legend();\n",
    "plt.xlim(15000,20000)"
   ]
  },
  {
   "cell_type": "code",
   "execution_count": null,
   "id": "d42fc62a",
   "metadata": {},
   "outputs": [],
   "source": [
    "plt.figure(figsize=(8, 5))\n",
    "plt.plot(twiss['s'], twiss['Dx'], label=r'$D_x$', color='green')\n",
    "plt.xlabel('Path length $s$ [m]')\n",
    "plt.ylabel(r'Dispersion function $D_x$ [m]')\n",
    "plt.legend();\n",
    "plt.xlim(15000,20000)"
   ]
  },
  {
   "cell_type": "markdown",
   "id": "c4b6a651",
   "metadata": {},
   "source": [
    "### <span style=\"color:#af0000;\">GURU mode off! </span>\n",
    "\n",
    "Returning to interactive mode! :-)\n",
    "\n",
    "---"
   ]
  },
  {
   "cell_type": "markdown",
   "id": "f3471430",
   "metadata": {},
   "source": [
    "Now, reload the full storage ring and calculate tunes and chromaticity again."
   ]
  },
  {
   "cell_type": "code",
   "execution_count": null,
   "id": "534104f4",
   "metadata": {},
   "outputs": [],
   "source": [
    "madx.use(sequence='JC')"
   ]
  },
  {
   "cell_type": "code",
   "execution_count": null,
   "id": "9d3e62e9",
   "metadata": {},
   "outputs": [],
   "source": [
    "twiss = madx.twiss()"
   ]
  },
  {
   "cell_type": "markdown",
   "id": "1b969993",
   "metadata": {},
   "source": [
    "As a next step, we need to match the chromaticity again."
   ]
  },
  {
   "cell_type": "markdown",
   "id": "bc65fe57",
   "metadata": {},
   "source": [
    "First, switch off the sextupoles and calculate the natural chromaticity of your storage ring. Can you confirm the relation $\\mathcal{O}(\\xi)\\approx - Q$?"
   ]
  },
  {
   "cell_type": "code",
   "execution_count": null,
   "id": "109b4bbd",
   "metadata": {},
   "outputs": [],
   "source": [
    "madx.input('''\n",
    "    k2sf=0;\n",
    "    k2sd=0;\n",
    "''')"
   ]
  },
  {
   "cell_type": "code",
   "execution_count": null,
   "id": "2048912e",
   "metadata": {},
   "outputs": [],
   "source": [
    "madx.twiss();"
   ]
  },
  {
   "cell_type": "markdown",
   "id": "d7688555",
   "metadata": {},
   "source": [
    "Second, rematch the chromaticities. What value do you choose and why? (Think about instabilities and collective effects.)"
   ]
  },
  {
   "cell_type": "code",
   "execution_count": null,
   "id": "e37a8110",
   "metadata": {},
   "outputs": [],
   "source": [
    "madx.input('''\n",
    "match, sequence = JC;\n",
    "    global, dq1 = [...];\n",
    "    global, dq2 = [...];\n",
    "    vary, name=k2sf,  step=1.0E-10 ;  \n",
    "    vary, name=k2sd,  step=1.0E-10 ;\n",
    "    jacobian,calls=20,tolerance=1.e-15,bisec=3;\n",
    "endmatch;\n",
    "''')"
   ]
  },
  {
   "cell_type": "code",
   "execution_count": null,
   "id": "55704fb1",
   "metadata": {},
   "outputs": [],
   "source": [
    "madx.twiss();"
   ]
  },
  {
   "cell_type": "markdown",
   "id": "aa19b976",
   "metadata": {},
   "source": [
    "### <span style=\"color:blue;\">f) Calculate and save the synchrotron radiation integrals of your storage ring for analytical calculations later</span>"
   ]
  },
  {
   "cell_type": "code",
   "execution_count": null,
   "id": "83627664",
   "metadata": {},
   "outputs": [],
   "source": [
    "twiss = madx.twiss(chrom=True)"
   ]
  },
  {
   "cell_type": "code",
   "execution_count": null,
   "id": "fc460bf3",
   "metadata": {},
   "outputs": [],
   "source": [
    "SRI1 = twiss.summary.synch_1\n",
    "SRI2 = twiss.summary.synch_2\n",
    "SRI3 = twiss.summary.synch_3\n",
    "SRI4 = twiss.summary.synch_4\n",
    "SRI5 = twiss.summary.synch_5"
   ]
  },
  {
   "cell_type": "markdown",
   "id": "cf2c6a30",
   "metadata": {},
   "source": [
    "$\\,$\n",
    "\n",
    "$\\,$\n",
    "\n",
    "## 4. RF sections"
   ]
  },
  {
   "cell_type": "markdown",
   "id": "50a4cc8a",
   "metadata": {},
   "source": [
    "## <span style=\"color:#af0000;\">Let it shine! ;-)</span>"
   ]
  },
  {
   "cell_type": "markdown",
   "id": "46bb4bf4",
   "metadata": {},
   "source": [
    "Before including radiation effects, RF cavities need to be defined and installed in the lattice.\n",
    "In this exercise we use an RF system designed for FCC-ee. It uses 400 MHz cavities that consist of four cells with a length of 0.375 m each.\n",
    "What is the overall voltage you assume to guarantee stable operation?"
   ]
  },
  {
   "cell_type": "markdown",
   "id": "405c7fc4",
   "metadata": {},
   "source": [
    "The energy gain in the cavity is given by "
   ]
  },
  {
   "cell_type": "markdown",
   "id": "4dfb1e2e",
   "metadata": {},
   "source": [
    "$$U = eV_{RF} \\sin{(2\\pi (\\phi-hf_0t))},$$"
   ]
  },
  {
   "cell_type": "markdown",
   "id": "477e4f1e",
   "metadata": {},
   "source": [
    "where $\\phi$ is the phase lag (\"synchronous phase\"), $h$ the harmonic number of the ring, and  $f_0$ the cavity frequency."
   ]
  },
  {
   "cell_type": "markdown",
   "id": "1058074a-b2e8-427e-8713-62b8af6f0acf",
   "metadata": {},
   "source": [
    "### a) Estimate the total RF voltage which is needed to compensate the synchrotron radiation energy loss."
   ]
  },
  {
   "cell_type": "code",
   "execution_count": null,
   "id": "13c129b5",
   "metadata": {},
   "outputs": [],
   "source": [
    "VRF = [...]\n",
    "\n",
    "madx.input(f'''\n",
    "    switch_RF_on = 0;    ! this switch allows to set the cavity voltage to Zero\n",
    "    VRF  = {VRF};        ! overall voltage of all cavities\n",
    "    LGRF = 0.5;          ! phase lag \n",
    "    numberOfCav400 = 160;\n",
    "\n",
    "    ! 400 MHz system\n",
    "    LCAVcell400         = 0.375;\n",
    "    harmonic400         = 114746;\n",
    "    numberOfCellsCav400 = 4;\n",
    "    Vcell400           := VRF / numberOfCav400 / numberOfCellsCav400 * switch_RF_on;                ! = [...] MV\n",
    "    LGRF400            := cos(switch_RF_on * pi / 2) / 2 + sin(switch_RF_on * pi / 2) * LGRF;       ! = 0.5, if RF switched off, and LGRF, if RF switched on\n",
    "\n",
    "    CAVcell400: RFCAVITY, L:=LCAVcell400, VOLT:=Vcell400, HARMON:=harmonic400, LAG:=LGRF400;\n",
    "\n",
    "CavModule : SEQUENCE, refer=centre, L=numberOfCellsCav400 + 0.5 * (numberOfCellsCav400 - 1) * LCAVcell400;\n",
    "    CAVcell400, at=0.5 * LCAVcell400;\n",
    "    CAVcell400, at=2.0 * LCAVcell400;\n",
    "    CAVcell400, at=3.5 * LCAVcell400;\n",
    "    CAVcell400, at=5.0 * LCAVcell400;\n",
    "ENDSEQUENCE;\n",
    "''')"
   ]
  },
  {
   "cell_type": "markdown",
   "id": "dc66e844",
   "metadata": {},
   "source": [
    "### <span style=\"color:blue;\">b) Define a straight cell and straight sections that contain RF cavities (please check if the definition is consistent to yours):</span>"
   ]
  },
  {
   "cell_type": "code",
   "execution_count": null,
   "id": "dfd57f3c",
   "metadata": {},
   "outputs": [],
   "source": [
    "madx.input('''\n",
    "JC_fodo_ss_RF : SEQUENCE, REFER=centre, L=Lcell;\n",
    "    MQFS, at=0.5*LQ/2;\n",
    "    CavModule, at = 0.25*Lcell;\n",
    "    MQDS, at=0.5*Lcell-0.5*LQ/2;\n",
    "    MQDS, at=0.5*Lcell+0.5*LQ/2;\n",
    "    CavModule, at=0.75*Lcell;\n",
    "    MQFS, at=Lcell-0.5*LQ/2;\n",
    "ENDSEQUENCE;\n",
    "''')"
   ]
  },
  {
   "cell_type": "markdown",
   "id": "4b6a566b",
   "metadata": {},
   "source": [
    "Define a straight section and the full collider lattice as above but including RF cavities:"
   ]
  },
  {
   "cell_type": "code",
   "execution_count": null,
   "id": "60603d02",
   "metadata": {},
   "outputs": [],
   "source": [
    "madx.input('''\n",
    "option, -info;\n",
    "j=0;\n",
    "JC_ss_RF : SEQUENCE, refer=centre, L=LSS; \n",
    "    JC_msl, at = LMS/2;\n",
    "    while (j<numberOfStraightCells)\t{\n",
    "        JC_fodo_ss_RF,  at = LMS + (j+0.5)*Lcell;\n",
    "        j=j+1;\n",
    "    }\n",
    "    JC_msr, at =numberOfStraightCells*Lcell+1.5*LMS;\n",
    "ENDSEQUENCE;\n",
    "option, info;\n",
    "\n",
    "JC_quarter_RF : sequence, refer=centre, L=Larc+Lss;\n",
    "    JC_ss_RF, at=0.5*Lss;\n",
    "    JC_arc, at = Lss+0.5*Larc;\n",
    "ENDSEQUENCE;\n",
    "\n",
    "JC_RF : SEQUENCE, refer=centre, L=LJC;\n",
    "    JC_arc, at = 0.5*Larc;\n",
    "    JC_ss_RF, at = 1.0*Larc+0.5*Lss;\n",
    "    JC_arc, at = 1.5*Larc+Lss;\n",
    "    JC_ss_RF, at = 2.0*Larc+1.5*Lss;\n",
    "    JC_arc, at = 2.5*Larc+2*Lss;\n",
    "    JC_ss_RF, at = 3.0*Larc+2.5*Lss;\n",
    "    JC_arc, at = 3.5*Larc+3*LSS;\n",
    "    JC_ss_RF, at = 4.0*Larc+3.5*Lss;\n",
    "ENDSEQUENCE;\n",
    "''')"
   ]
  },
  {
   "cell_type": "markdown",
   "id": "067fec50-c37c-4329-9da0-d4752d53fd30",
   "metadata": {},
   "source": [
    "### <span style=\"color:blue;\">c) Switch on radiation and observe tunes and chromaticities</span>"
   ]
  },
  {
   "cell_type": "code",
   "execution_count": null,
   "id": "7e26f8f2",
   "metadata": {},
   "outputs": [],
   "source": [
    "madx.command.beam(radiate=True)"
   ]
  },
  {
   "cell_type": "markdown",
   "id": "e2079450",
   "metadata": {},
   "source": [
    "Switch on RF system. Start with w phase lag of 0.5, otherwise calculate the required value you need from the equation for the energy gain."
   ]
  },
  {
   "cell_type": "code",
   "execution_count": null,
   "id": "9f1f6cfe",
   "metadata": {},
   "outputs": [],
   "source": [
    "madx.input('''\n",
    "    switch_RF_on = 1;\n",
    "    lgrf = 0.5;\n",
    "''')"
   ]
  },
  {
   "cell_type": "markdown",
   "id": "df9a1428",
   "metadata": {},
   "source": [
    "Try a first Twiss calculation including radiation effects:"
   ]
  },
  {
   "cell_type": "code",
   "execution_count": null,
   "id": "adeb83a3",
   "metadata": {},
   "outputs": [],
   "source": [
    "madx.use(sequence='JC_RF')"
   ]
  },
  {
   "cell_type": "code",
   "execution_count": null,
   "id": "c8e8e225",
   "metadata": {},
   "outputs": [],
   "source": [
    "madx.twiss();"
   ]
  },
  {
   "cell_type": "markdown",
   "id": "498609ed",
   "metadata": {},
   "source": [
    "What happened to tunes, chromaticities and horizontal orbit? Can you explain?"
   ]
  },
  {
   "cell_type": "code",
   "execution_count": null,
   "id": "969a5332",
   "metadata": {},
   "outputs": [],
   "source": [
    "plt.figure(figsize=(8, 5))\n",
    "plt.plot(twiss['s'], twiss['betx'], label=r'$\\beta_x$', color='black')\n",
    "plt.plot(twiss['s'], twiss['bety'], label=r'$\\beta_y$', color='red')\n",
    "plt.xlabel('Path length $s$ [m]')\n",
    "plt.ylabel(r'Beta function $\\beta_{x,y}$ [m]')\n",
    "plt.legend();\n",
    "# plt.xlim(15000,20000)"
   ]
  },
  {
   "cell_type": "code",
   "execution_count": null,
   "id": "995d1a68",
   "metadata": {},
   "outputs": [],
   "source": [
    "plt.figure(figsize=(8, 5))\n",
    "plt.plot(twiss['s'], twiss['Dx'], label=r'$D_x$', color='green')\n",
    "plt.xlabel('Path length $s$ [m]')\n",
    "plt.ylabel(r'Dispersion function $D_x$ [m]')\n",
    "plt.legend();\n",
    "# plt.xlim(65000,75000)"
   ]
  },
  {
   "cell_type": "markdown",
   "id": "5d009b7a",
   "metadata": {},
   "source": [
    "First we have to match the energy gain in our cavities to make sure we receive as much energy as we lose due to synchrotron radiation:"
   ]
  },
  {
   "cell_type": "code",
   "execution_count": null,
   "id": "9eb666e8",
   "metadata": {},
   "outputs": [],
   "source": [
    "madx.input('''\n",
    "match, sequence=JC_RF;\n",
    "    vary, name = lgrf, step=1.0E-6;\n",
    "    constraint, sequence=JC_RF, range = #E, T=0;\n",
    "    jacobian, calls=30, tolerance=1.E-22, strategy=3;\n",
    "endmatch;\n",
    "''')"
   ]
  },
  {
   "cell_type": "code",
   "execution_count": null,
   "id": "3288e7f1",
   "metadata": {},
   "outputs": [],
   "source": [
    "madx.twiss();"
   ]
  },
  {
   "cell_type": "markdown",
   "id": "ced96311",
   "metadata": {},
   "source": [
    "As a next step we rematch tunes and chromaticities. Since we have a big beta beat, we do not use the complicated matching command from above."
   ]
  },
  {
   "cell_type": "code",
   "execution_count": null,
   "id": "c0523980",
   "metadata": {},
   "outputs": [],
   "source": [
    "madx.input('''\n",
    "match, sequence = JC_RF;\n",
    "    global, q1=tuneToBeX;\n",
    "    global, q2=tuneToBeY;\n",
    "    global, dq1=2;\n",
    "    global, dq2=2;\n",
    "    vary, name=k1qfs,  step=1.0E-10 ;  \n",
    "    vary, name=k1qds,  step=1.0E-10 ;\n",
    "    vary, name=k2sf,  step=1.0E-10 ;  \n",
    "    vary, name=k2sd,  step=1.0E-10 ;\n",
    "    jacobian,calls=20,tolerance=1.e-15,bisec=3;\n",
    "endmatch;\n",
    "''')"
   ]
  },
  {
   "cell_type": "code",
   "execution_count": null,
   "id": "67977bb8",
   "metadata": {},
   "outputs": [],
   "source": [
    "twiss = madx.twiss()"
   ]
  },
  {
   "cell_type": "code",
   "execution_count": null,
   "id": "475cc5a3",
   "metadata": {},
   "outputs": [],
   "source": [
    "plt.figure(figsize=(8, 5))\n",
    "plt.plot(twiss['s'], twiss['betx'], label=r'$\\beta_x$', color='black')\n",
    "plt.plot(twiss['s'], twiss['bety'], label=r'$\\beta_y$', color='red')\n",
    "plt.xlabel('Path length $s$ [m]')\n",
    "plt.ylabel(r'Beta function $\\beta_{x,y}$ [m]')\n",
    "plt.legend();\n",
    "# plt.xlim(15000,20000)"
   ]
  },
  {
   "cell_type": "code",
   "execution_count": null,
   "id": "5474988a",
   "metadata": {},
   "outputs": [],
   "source": [
    "plt.figure(figsize=(8, 5))\n",
    "plt.plot(twiss['s'], twiss['Dx'], label=r'$D_x$', color='green')\n",
    "plt.xlabel('Path length $s$ [m]')\n",
    "plt.ylabel(r'Dispersion function $D_x$ [m]')\n",
    "plt.legend();\n",
    "# plt.xlim(65000,75000)"
   ]
  },
  {
   "cell_type": "markdown",
   "id": "8e4262ec",
   "metadata": {},
   "source": [
    "### <span style=\"color:blue;\">d) Observe the transverse orbit. Can you explain the pattern you see?</span>"
   ]
  },
  {
   "cell_type": "code",
   "execution_count": null,
   "id": "b2b9b5bb",
   "metadata": {},
   "outputs": [],
   "source": [
    "plt.figure(figsize=(8, 5))\n",
    "plt.plot(twiss['s'], twiss['x'], label=r'$x$', color='black')\n",
    "plt.xlabel('Path length $s$ [m]')\n",
    "plt.ylabel(r'Horizontal orbit $x$ [m]')\n",
    "plt.legend();\n",
    "# plt.xlim(15000,20000)"
   ]
  },
  {
   "cell_type": "markdown",
   "id": "5459a5e0",
   "metadata": {},
   "source": [
    "This effect has already been observed in LEP measurements at the time:\n",
    "\n",
    "![sawtooth orbit](sawtooth.png)"
   ]
  },
  {
   "cell_type": "markdown",
   "id": "98fd803a",
   "metadata": {},
   "source": [
    "### <span style=\"color:blue;\">e) Calculate the equilibrium beam parameters with the MAD-X emit command</span>"
   ]
  },
  {
   "cell_type": "code",
   "execution_count": null,
   "id": "c8ea2b32",
   "metadata": {},
   "outputs": [],
   "source": [
    "madx.emit();"
   ]
  },
  {
   "cell_type": "markdown",
   "id": "c3049397",
   "metadata": {},
   "source": [
    "Compare the results from emit with the anaytically calculated values:"
   ]
  },
  {
   "cell_type": "code",
   "execution_count": null,
   "id": "85dc7c87",
   "metadata": {},
   "outputs": [],
   "source": [
    "epsilon_x_SRI = C_q*gamma_L**2/J_x*SRI5/SRI2\n",
    "U0_SRI = 8.846e-5/2/np.pi*175**4*SRI2 # in GeV\n",
    "alpha_c_SRI = SRI1/twiss.summary.length\n",
    "dp_p_SRI = np.sqrt(C_q * gamma_L**2 * SRI3 / (2 * SRI2 + SRI4))\n",
    "J_x_SRI = 1-SRI4/SRI2\n",
    "J_s_SRI = 2+SRI4/SRI2\n",
    "\n",
    "epsilon_x_SRI, U0_SRI, alpha_c_SRI,dp_p_SRI,J_x_SRI,J_s_SRI"
   ]
  },
  {
   "cell_type": "markdown",
   "id": "f6512e04-45a4-4364-8012-c860c98511d6",
   "metadata": {},
   "source": [
    "### <span style=\"color:blue;\">f) How many particles and bunches can you fill into the ring before you reach the limit of synchrotron radiation power?</span>"
   ]
  },
  {
   "cell_type": "code",
   "execution_count": null,
   "id": "9253d6d1-14eb-48f4-89c4-6414110b5b20",
   "metadata": {},
   "outputs": [],
   "source": []
  },
  {
   "cell_type": "markdown",
   "id": "43697c16",
   "metadata": {},
   "source": [
    "$\\,$\n",
    "\n",
    "$\\,$\n",
    "\n",
    "## 5. If time permits: mini-beta insertions\n",
    "\n",
    "\n",
    "### <span style=\"color:blue;\">a) Calculate the required values for $\\beta^*$ or get them from colleagues (groups working on the general parameters topic I).</span>\n",
    "\n",
    "### <span style=\"color:blue;\">b) Include two mini-beta insertions into your MAD-X model and match the optics.</span>\n",
    "\n",
    "### <span style=\"color:blue;\">c) How do you distribute the mini-beta insertions and why?</span>"
   ]
  },
  {
   "cell_type": "code",
   "execution_count": null,
   "id": "0ccee5e3",
   "metadata": {},
   "outputs": [],
   "source": []
  }
 ],
 "metadata": {
  "kernelspec": {
   "display_name": "Python 3 (ipykernel)",
   "language": "python",
   "name": "python3"
  },
  "language_info": {
   "codemirror_mode": {
    "name": "ipython",
    "version": 3
   },
   "file_extension": ".py",
   "mimetype": "text/x-python",
   "name": "python",
   "nbconvert_exporter": "python",
   "pygments_lexer": "ipython3",
   "version": "3.9.7"
  }
 },
 "nbformat": 4,
 "nbformat_minor": 5
}
